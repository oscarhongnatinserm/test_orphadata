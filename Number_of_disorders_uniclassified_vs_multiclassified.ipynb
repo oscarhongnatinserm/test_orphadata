{
 "cells": [
  {
   "cell_type": "code",
   "execution_count": 1,
   "metadata": {},
   "outputs": [
    {
     "name": "stdout",
     "output_type": "stream",
     "text": [
      "\n",
      "  There is a binary version available but the source version is later:\n",
      "         binary source needs_compilation\n",
      "jsonlite  1.7.2  1.8.0              TRUE\n",
      "\n",
      "  Binaries will be installed\n",
      "package 'jsonlite' successfully unpacked and MD5 sums checked\n"
     ]
    },
    {
     "name": "stderr",
     "output_type": "stream",
     "text": [
      "Warning message:\n",
      "\"cannot remove prior installation of package 'jsonlite'\"Warning message in file.copy(savedcopy, lib, recursive = TRUE):\n",
      "\"problème lors de la copie de C:\\Users\\ohongnat\\Anaconda3\\Lib\\R\\library\\00LOCK\\jsonlite\\libs\\x64\\jsonlite.dll vers C:\\Users\\ohongnat\\Anaconda3\\Lib\\R\\library\\jsonlite\\libs\\x64\\jsonlite.dll: Permission denied\"Warning message:\n",
      "\"restored 'jsonlite'\""
     ]
    },
    {
     "name": "stdout",
     "output_type": "stream",
     "text": [
      "\n",
      "The downloaded binary packages are in\n",
      "\tC:\\Users\\ohongnat\\AppData\\Local\\Temp\\RtmpIhoTMS\\downloaded_packages\n",
      "\n",
      "  There is a binary version available but the source version is later:\n",
      "       binary  source needs_compilation\n",
      "rlist 0.4.6.1 0.4.6.2             FALSE\n",
      "\n"
     ]
    },
    {
     "name": "stderr",
     "output_type": "stream",
     "text": [
      "installing the source package 'rlist'\n",
      "\n"
     ]
    },
    {
     "name": "stdout",
     "output_type": "stream",
     "text": [
      "\n",
      "  There is a binary version available but the source version is later:\n",
      "           binary source needs_compilation\n",
      "data.table 1.14.0 1.14.2              TRUE\n",
      "\n",
      "  Binaries will be installed\n",
      "package 'data.table' successfully unpacked and MD5 sums checked\n"
     ]
    },
    {
     "name": "stderr",
     "output_type": "stream",
     "text": [
      "Warning message:\n",
      "\"cannot remove prior installation of package 'data.table'\"Warning message in file.copy(savedcopy, lib, recursive = TRUE):\n",
      "\"problème lors de la copie de C:\\Users\\ohongnat\\Anaconda3\\Lib\\R\\library\\00LOCK\\data.table\\libs\\x64\\datatable.dll vers C:\\Users\\ohongnat\\Anaconda3\\Lib\\R\\library\\data.table\\libs\\x64\\datatable.dll: Permission denied\"Warning message:\n",
      "\"restored 'data.table'\""
     ]
    },
    {
     "name": "stdout",
     "output_type": "stream",
     "text": [
      "\n",
      "The downloaded binary packages are in\n",
      "\tC:\\Users\\ohongnat\\AppData\\Local\\Temp\\RtmpIhoTMS\\downloaded_packages\n",
      "package 'XML' successfully unpacked and MD5 sums checked\n"
     ]
    },
    {
     "name": "stderr",
     "output_type": "stream",
     "text": [
      "Warning message:\n",
      "\"cannot remove prior installation of package 'XML'\"Warning message in file.copy(savedcopy, lib, recursive = TRUE):\n",
      "\"problème lors de la copie de C:\\Users\\ohongnat\\Anaconda3\\Lib\\R\\library\\00LOCK\\XML\\libs\\x64\\XML.dll vers C:\\Users\\ohongnat\\Anaconda3\\Lib\\R\\library\\XML\\libs\\x64\\XML.dll: Permission denied\"Warning message:\n",
      "\"restored 'XML'\""
     ]
    },
    {
     "name": "stdout",
     "output_type": "stream",
     "text": [
      "\n",
      "The downloaded binary packages are in\n",
      "\tC:\\Users\\ohongnat\\AppData\\Local\\Temp\\RtmpIhoTMS\\downloaded_packages\n"
     ]
    },
    {
     "name": "stderr",
     "output_type": "stream",
     "text": [
      "Warning message:\n",
      "\"package 'methods' is not available (for R version 3.6.1)\"Warning message:\n",
      "\"package 'methods' is a base package, and should not be updated\""
     ]
    }
   ],
   "source": [
    "### NUMBER OF DISORDERS UNICLASSIFIED VS MULTICLASSIFIED\n",
    "\n",
    "\n",
    "# We launch the config file with the installation of the R libraries\n",
    "source(\"config.R\")\n",
    "\n",
    "\n",
    "# INPUTS : all products3\n",
    "\n",
    "\n",
    "\n",
    "# OUTPUTS : \"number_of_disorders_multiclassified\"; \"percentage_of_number_of_disorders_multiclassified\";\n",
    "# \"number_of_disorders_uniclassified\"; \"percentage_of_number_of_disorders_uniclassified\"."
   ]
  },
  {
   "cell_type": "code",
   "execution_count": 2,
   "metadata": {},
   "outputs": [
    {
     "name": "stderr",
     "output_type": "stream",
     "text": [
      "Warning message:\n",
      "\"package 'data.table' was built under R version 3.6.3\"Warning message:\n",
      "\"package 'dplyr' was built under R version 3.6.3\"\n",
      "Attaching package: 'dplyr'\n",
      "\n",
      "The following objects are masked from 'package:data.table':\n",
      "\n",
      "    between, first, last\n",
      "\n",
      "The following objects are masked from 'package:stats':\n",
      "\n",
      "    filter, lag\n",
      "\n",
      "The following objects are masked from 'package:base':\n",
      "\n",
      "    intersect, setdiff, setequal, union\n",
      "\n",
      "Warning message:\n",
      "\"package 'XML' was built under R version 3.6.3\""
     ]
    }
   ],
   "source": [
    "# We launch the libraries\n",
    "library(jsonlite)\n",
    "library(rlist)\n",
    "library(data.table)\n",
    "library(dplyr)\n",
    "library(XML)\n",
    "library(methods)"
   ]
  },
  {
   "cell_type": "code",
   "execution_count": 3,
   "metadata": {},
   "outputs": [],
   "source": [
    "# Open different xml in the same time\n",
    "# We select the xmls with the datas we need\n",
    "xmlfiles=list.files(pattern='product3')\n",
    "# We remove the datas about genetic disorders, they have no interest here\n",
    "xmlfiles=xmlfiles[!xmlfiles=='en_product3_156.xml']\n",
    "\n",
    "# We put the 35 xml files from  orphadata in data frames\n",
    "indice_list=1\n",
    "xmldoc=list()\n",
    "files=list()\n",
    "for (i in 1:length(xmlfiles)) \n",
    "{\n",
    "  xmldoc[[indice_list]]=xmlParse(xmlfiles[i]) # we parse the files\n",
    "  files[[indice_list]]=xmlToDataFrame(nodes = getNodeSet(xmldoc[[i]], \"//Disorder\")) # we put files into a list\n",
    "  indice_list=indice_list+1\n",
    "}"
   ]
  },
  {
   "cell_type": "code",
   "execution_count": 4,
   "metadata": {},
   "outputs": [],
   "source": [
    "# We remove the disorders that are duplicated in the same xml\n",
    "indice_list=1\n",
    "file=list()\n",
    "for (i in 1:length(files))\n",
    "    if (length(files[[i]]) > 0)\n",
    "{\n",
    "  file[[indice_list]]=files[[i]][!duplicated(files[[i]]), ]\n",
    "  indice_list=indice_list+1\n",
    "}\n",
    "\n",
    "# We get an unique frame with the datas\n",
    "file=rbindlist(file, use.names = TRUE)"
   ]
  },
  {
   "cell_type": "code",
   "execution_count": 5,
   "metadata": {},
   "outputs": [],
   "source": [
    "# We only keep the disorders \n",
    "file=filter(file, DisorderType=='Malformation syndrome' | DisorderType=='Disease' |\n",
    "DisorderType=='Morphological anomaly'| DisorderType=='Clinical syndrome' |\n",
    "DisorderType=='Particular clinical situation in a disease or syndrome' | DisorderType=='Biological anomaly')"
   ]
  },
  {
   "cell_type": "code",
   "execution_count": 6,
   "metadata": {},
   "outputs": [],
   "source": [
    "# We count how much times an OrphaCode is duplicated\n",
    "table_count=as.data.frame(table(file$OrphaCode))\n",
    "names(table_count)=c('OrphaCode','Number of classifications')"
   ]
  },
  {
   "cell_type": "code",
   "execution_count": 7,
   "metadata": {},
   "outputs": [],
   "source": [
    "# We look for ORPHAcodes which are duplicated at least once\n",
    "indice_list=1\n",
    "duplicates=list()\n",
    "for (i in 1:nrow(table_count))\n",
    "  if (table_count$`Number of classifications`[i] > 1)\n",
    "  {\n",
    "    duplicates[[indice_list]]=table_count[i, ]\n",
    "    indice_list=indice_list+1\n",
    "  }\n",
    "duplicates=rbindlist(duplicates,use.names = TRUE)"
   ]
  },
  {
   "cell_type": "code",
   "execution_count": 8,
   "metadata": {},
   "outputs": [
    {
     "data": {
      "text/html": [
       "4186"
      ],
      "text/latex": [
       "4186"
      ],
      "text/markdown": [
       "4186"
      ],
      "text/plain": [
       "[1] 4186"
      ]
     },
     "metadata": {},
     "output_type": "display_data"
    }
   ],
   "source": [
    "# Number of disorders multiclassified\n",
    "number_of_disorders_multiclassified=nrow(duplicates)\n",
    "number_of_disorders_multiclassified"
   ]
  },
  {
   "cell_type": "code",
   "execution_count": 9,
   "metadata": {},
   "outputs": [
    {
     "data": {
      "text/html": [
       "46.2132921174652"
      ],
      "text/latex": [
       "46.2132921174652"
      ],
      "text/markdown": [
       "46.2132921174652"
      ],
      "text/plain": [
       "[1] 46.21329"
      ]
     },
     "metadata": {},
     "output_type": "display_data"
    }
   ],
   "source": [
    "# Percentage of disorders multiclassified\n",
    "percentage_of_number_of_disorders_multiclassified=number_of_disorders_multiclassified/nrow(table_count)*100\n",
    "percentage_of_number_of_disorders_multiclassified"
   ]
  },
  {
   "cell_type": "code",
   "execution_count": 10,
   "metadata": {},
   "outputs": [
    {
     "data": {
      "text/html": [
       "4872"
      ],
      "text/latex": [
       "4872"
      ],
      "text/markdown": [
       "4872"
      ],
      "text/plain": [
       "[1] 4872"
      ]
     },
     "metadata": {},
     "output_type": "display_data"
    }
   ],
   "source": [
    "# Number of disorders uniclassified\n",
    "number_of_disorders_uniclassified=nrow(table_count) - number_of_disorders_multiclassified\n",
    "number_of_disorders_uniclassified"
   ]
  },
  {
   "cell_type": "code",
   "execution_count": 11,
   "metadata": {},
   "outputs": [
    {
     "data": {
      "text/html": [
       "53.7867078825348"
      ],
      "text/latex": [
       "53.7867078825348"
      ],
      "text/markdown": [
       "53.7867078825348"
      ],
      "text/plain": [
       "[1] 53.78671"
      ]
     },
     "metadata": {},
     "output_type": "display_data"
    }
   ],
   "source": [
    "# Percentage of disorders uniclassified\n",
    "percentage_of_number_of_disorders_uniclassified=number_of_disorders_uniclassified/nrow(table_count)*100\n",
    "percentage_of_number_of_disorders_uniclassified"
   ]
  },
  {
   "cell_type": "code",
   "execution_count": 12,
   "metadata": {},
   "outputs": [
    {
     "data": {
      "text/plain": [
       "   Min. 1st Qu.  Median    Mean 3rd Qu.    Max. \n",
       "  0.000   0.000   1.000   1.581   2.000  13.000 "
      ]
     },
     "metadata": {},
     "output_type": "display_data"
    }
   ],
   "source": [
    "### Stats : min/max, mean, median of the number of classifications for the disorders\n",
    "summary(table_count$`Number of classifications`)"
   ]
  }
 ],
 "metadata": {
  "kernelspec": {
   "display_name": "R",
   "language": "R",
   "name": "ir"
  },
  "language_info": {
   "codemirror_mode": "r",
   "file_extension": ".r",
   "mimetype": "text/x-r-source",
   "name": "R",
   "pygments_lexer": "r",
   "version": "3.6.1"
  }
 },
 "nbformat": 4,
 "nbformat_minor": 4
}
