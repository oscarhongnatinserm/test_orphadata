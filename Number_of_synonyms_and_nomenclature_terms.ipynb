{
 "cells": [
  {
   "cell_type": "code",
   "execution_count": 1,
   "metadata": {},
   "outputs": [
    {
     "name": "stdout",
     "output_type": "stream",
     "text": [
      "\n",
      "  There is a binary version available but the source version is later:\n",
      "         binary source needs_compilation\n",
      "jsonlite  1.7.2  1.8.0              TRUE\n",
      "\n",
      "  Binaries will be installed\n",
      "package 'jsonlite' successfully unpacked and MD5 sums checked\n"
     ]
    },
    {
     "name": "stderr",
     "output_type": "stream",
     "text": [
      "Warning message:\n",
      "\"cannot remove prior installation of package 'jsonlite'\"Warning message in file.copy(savedcopy, lib, recursive = TRUE):\n",
      "\"problème lors de la copie de C:\\Users\\ohongnat\\Anaconda3\\Lib\\R\\library\\00LOCK\\jsonlite\\libs\\x64\\jsonlite.dll vers C:\\Users\\ohongnat\\Anaconda3\\Lib\\R\\library\\jsonlite\\libs\\x64\\jsonlite.dll: Permission denied\"Warning message:\n",
      "\"restored 'jsonlite'\""
     ]
    },
    {
     "name": "stdout",
     "output_type": "stream",
     "text": [
      "\n",
      "The downloaded binary packages are in\n",
      "\tC:\\Users\\ohongnat\\AppData\\Local\\Temp\\RtmpiyhcDZ\\downloaded_packages\n",
      "\n",
      "  There is a binary version available but the source version is later:\n",
      "       binary  source needs_compilation\n",
      "rlist 0.4.6.1 0.4.6.2             FALSE\n",
      "\n"
     ]
    },
    {
     "name": "stderr",
     "output_type": "stream",
     "text": [
      "installing the source package 'rlist'\n",
      "\n"
     ]
    },
    {
     "name": "stdout",
     "output_type": "stream",
     "text": [
      "\n",
      "  There is a binary version available but the source version is later:\n",
      "           binary source needs_compilation\n",
      "data.table 1.14.0 1.14.2              TRUE\n",
      "\n",
      "  Binaries will be installed\n",
      "package 'data.table' successfully unpacked and MD5 sums checked\n"
     ]
    },
    {
     "name": "stderr",
     "output_type": "stream",
     "text": [
      "Warning message:\n",
      "\"cannot remove prior installation of package 'data.table'\"Warning message in file.copy(savedcopy, lib, recursive = TRUE):\n",
      "\"problème lors de la copie de C:\\Users\\ohongnat\\Anaconda3\\Lib\\R\\library\\00LOCK\\data.table\\libs\\x64\\datatable.dll vers C:\\Users\\ohongnat\\Anaconda3\\Lib\\R\\library\\data.table\\libs\\x64\\datatable.dll: Permission denied\"Warning message:\n",
      "\"restored 'data.table'\""
     ]
    },
    {
     "name": "stdout",
     "output_type": "stream",
     "text": [
      "\n",
      "The downloaded binary packages are in\n",
      "\tC:\\Users\\ohongnat\\AppData\\Local\\Temp\\RtmpiyhcDZ\\downloaded_packages\n",
      "package 'XML' successfully unpacked and MD5 sums checked\n"
     ]
    },
    {
     "name": "stderr",
     "output_type": "stream",
     "text": [
      "Warning message:\n",
      "\"cannot remove prior installation of package 'XML'\"Warning message in file.copy(savedcopy, lib, recursive = TRUE):\n",
      "\"problème lors de la copie de C:\\Users\\ohongnat\\Anaconda3\\Lib\\R\\library\\00LOCK\\XML\\libs\\x64\\XML.dll vers C:\\Users\\ohongnat\\Anaconda3\\Lib\\R\\library\\XML\\libs\\x64\\XML.dll: Permission denied\"Warning message:\n",
      "\"restored 'XML'\""
     ]
    },
    {
     "name": "stdout",
     "output_type": "stream",
     "text": [
      "\n",
      "The downloaded binary packages are in\n",
      "\tC:\\Users\\ohongnat\\AppData\\Local\\Temp\\RtmpiyhcDZ\\downloaded_packages\n"
     ]
    },
    {
     "name": "stderr",
     "output_type": "stream",
     "text": [
      "Warning message:\n",
      "\"package 'methods' is not available (for R version 3.6.1)\"Warning message:\n",
      "\"package 'methods' is a base package, and should not be updated\""
     ]
    }
   ],
   "source": [
    "### NUMBER OF SYNONYMS AND NOMENCLATURE TERMS\n",
    "\n",
    "\n",
    "# We launch the config file with the installation of the R libraries\n",
    "source(\"config.R\")\n",
    "\n",
    "\n",
    "# INPUTS : \"en_product1.xml\"; \"fr_product1.xml\"; \"de_product1.xml\"; \n",
    "# \"nl_product1.xml\"; \"it_product1.xml\"; \"pt_product1.xml\"; \n",
    "# \"es_product1.xml\"; \"pl_product1.xml\"; \"cs_product1.xml\". \n",
    "\n",
    "\n",
    "# OUTPUTS : \"total_number_synonyms\"; \"stats_total_synonyms\"; \n",
    "# \"number_synonyms_group\"; \"percentage_synonyms_group\";\"stats_synonyms_group\";\n",
    "# \"number_synonyms_disorder\"; \"percentage_synonyms_disorder\";\"stats_synonyms_disorder\";\n",
    "# \"number_synonyms_subtype\"; \"percentage_synonyms_subtype\";\"stats_synonyms_subtype\";\n",
    "# \"number_preferred_terms_group\"; \"number_nomenclature_terms_group\";\n",
    "# \"number_preferred_terms_disorder\"; \"number_nomenclature_terms_disorder\";\n",
    "# \"number_preferred_terms_subtype\"; \"number_nomenclature_terms_subtype\"; \n",
    "# \"total_number_nomenclature_terms;\"\n",
    "\n",
    "# \"total_number_synonyms_french\"; \"stats_total_synonyms_french\"; \n",
    "# \"number_synonyms_group_french\"; \"percentage_synonyms_group_french\";\"stats_synonyms_group_french\";\n",
    "# \"number_synonyms_disorder_french\"; \"percentage_synonyms_disorder_french\";\"stats_synonyms_disorder_french\";\n",
    "# \"number_synonyms_subtype_french\"; \"percentage_synonyms_subtype_french\";\"stats_synonyms_subtype_french\";\n",
    "# \"number_preferred_terms_group_french\"; \"number_nomenclature_terms_group_french\";\n",
    "# \"number_preferred_terms_disorder_french\"; \"number_nomenclature_terms_disorder_french\";\n",
    "# \"number_preferred_terms_subtype_french\"; \"number_nomenclature_terms_subtype_french\"; \n",
    "# \"total_number_nomenclature_terms_french;\"\n",
    "\n",
    "# \"total_number_synonyms_german\"; \"stats_total_synonyms_german\"; \n",
    "# \"number_synonyms_group_german\"; \"percentage_synonyms_group_german\";\"stats_synonyms_group_german\";\n",
    "# \"number_synonyms_disorder_german\"; \"percentage_synonyms_disorder_german\";\"stats_synonyms_disorder_german\";\n",
    "# \"number_synonyms_subtype_german\"; \"percentage_synonyms_subtype_german\";\"stats_synonyms_subtype_german\";\n",
    "# \"number_preferred_terms_group_german\"; \"number_nomenclature_terms_group_german\";\n",
    "# \"number_preferred_terms_disorder_german\"; \"number_nomenclature_terms_disorder_german\";\n",
    "# \"number_preferred_terms_subtype_german\"; \"number_nomenclature_terms_subtype_german\"; \n",
    "# \"total_number_nomenclature_terms_german;\"\n",
    "\n",
    "# \"total_number_synonyms_dutch\"; \"stats_total_synonyms_dutch\"; \n",
    "# \"number_synonyms_group_dutch\"; \"percentage_synonyms_group_dutch\";\"stats_synonyms_group_dutch\";\n",
    "# \"number_synonyms_disorder_dutch\"; \"percentage_synonyms_disorder_dutch\";\"stats_synonyms_disorder_dutch\";\n",
    "# \"number_synonyms_subtype_dutch\"; \"percentage_synonyms_subtype_dutch\";\"stats_synonyms_subtype_dutch\";\n",
    "# \"number_preferred_terms_group_dutch\"; \"number_nomenclature_terms_group_dutch\";\n",
    "# \"number_preferred_terms_disorder_dutch\"; \"number_nomenclature_terms_disorder_dutch\";\n",
    "# \"number_preferred_terms_subtype_dutch\"; \"number_nomenclature_terms_subtype_dutch\"; \n",
    "# \"total_number_nomenclature_terms_dutch;\"\n",
    "\n",
    "# \"total_number_synonyms_spanish\"; \"stats_total_synonyms_spanish\"; \n",
    "# \"number_synonyms_group_spanish\"; \"percentage_synonyms_group_spanish\";\"stats_synonyms_group_spanish\";\n",
    "# \"number_synonyms_disorder_spanish\"; \"percentage_synonyms_disorder_spanish\";\"stats_synonyms_disorder_spanish\";\n",
    "# \"number_synonyms_subtype_spanish\"; \"percentage_synonyms_subtype_spanish\";\"stats_synonyms_subtype_spanish\";\n",
    "# \"number_preferred_terms_group_spanish\"; \"number_nomenclature_terms_group_spanish\";\n",
    "# \"number_preferred_terms_disorder_spanish\"; \"number_nomenclature_terms_disorder_spanish\";\n",
    "# \"number_preferred_terms_subtype_spanish\"; \"number_nomenclature_terms_subtype_spanish\"; \n",
    "# \"total_number_nomenclature_terms_spanish;\"\n",
    "\n",
    "# \"total_number_synonyms_italian\"; \"stats_total_synonyms_italian\"; \n",
    "# \"number_synonyms_group_italian\"; \"percentage_synonyms_group_italian\";\"stats_synonyms_group_italian\";\n",
    "# \"number_synonyms_disorder_italian\"; \"percentage_synonyms_disorder_italian\";\"stats_synonyms_disorder_italian\";\n",
    "# \"number_synonyms_subtype_italian\"; \"percentage_synonyms_subtype_italian\";\"stats_synonyms_subtype_italian\";\n",
    "# \"number_preferred_terms_group_italian\"; \"number_nomenclature_terms_group_italian\";\n",
    "# \"number_preferred_terms_disorder_italian\"; \"number_nomenclature_terms_disorder_italian\";\n",
    "# \"number_preferred_terms_subtype_italian\"; \"number_nomenclature_terms_subtype_italian\"; \n",
    "# \"total_number_nomenclature_terms_italian;\"\n",
    "\n",
    "# \"total_number_synonyms_portuguese\"; \"stats_total_synonyms_portuguese\"; \n",
    "# \"number_synonyms_group_portuguese\"; \"percentage_synonyms_group_portuguese\";\"stats_synonyms_group_portuguese\";\n",
    "# \"number_synonyms_disorder_portuguese\"; \"percentage_synonyms_disorder_portuguese\";\"stats_synonyms_disorder_portuguese\";\n",
    "# \"number_synonyms_subtype_portuguese\"; \"percentage_synonyms_subtype_portuguese\";\"stats_synonyms_subtype_portuguese\";\n",
    "# \"number_preferred_terms_group_portuguese\"; \"number_nomenclature_terms_group_portuguese\";\n",
    "# \"number_preferred_terms_disorder_portuguese\"; \"number_nomenclature_terms_disorder_portuguese\";\n",
    "# \"number_preferred_terms_subtype_portuguese\"; \"number_nomenclature_terms_subtype_portuguese\"; \n",
    "# \"total_number_nomenclature_terms_portuguese;\"\n",
    "\n",
    "# \"total_number_synonyms_polish\"; \"stats_total_synonyms_polish\"; \n",
    "# \"number_synonyms_group_polish\"; \"percentage_synonyms_group_polish\";\"stats_synonyms_group_polish\";\n",
    "# \"number_synonyms_disorder_polish\"; \"percentage_synonyms_disorder_polish\";\"stats_synonyms_disorder_polish\";\n",
    "# \"number_synonyms_subtype_polish\"; \"percentage_synonyms_subtype_polish\";\"stats_synonyms_subtype_polish\";\n",
    "# \"number_preferred_terms_group_polish\"; \"number_nomenclature_terms_group_polish\";\n",
    "# \"number_preferred_terms_disorder_polish\"; \"number_nomenclature_terms_disorder_polish\";\n",
    "# \"number_preferred_terms_subtype_polish\"; \"number_nomenclature_terms_subtype_polish\"; \n",
    "# \"total_number_nomenclature_terms_polish;\"\n",
    "\n",
    "# \"total_number_synonyms_czech\"; \"stats_total_synonyms_czech\"; \n",
    "# \"number_synonyms_group_czech\"; \"percentage_synonyms_group_czech\";\"stats_synonyms_group_czech\";\n",
    "# \"number_synonyms_disorder_czech\"; \"percentage_synonyms_disorder_czech\";\"stats_synonyms_disorder_czech\";\n",
    "# \"number_synonyms_subtype_czech\"; \"percentage_synonyms_subtype_czech\";\"stats_synonyms_subtype_czech\";\n",
    "# \"number_preferred_terms_group_czech\"; \"number_nomenclature_terms_group_czech\";\n",
    "# \"number_preferred_terms_disorder_czech\"; \"number_nomenclature_terms_disorder_czech\";\n",
    "# \"number_preferred_terms_subtype_czech\"; \"number_nomenclature_terms_subtype_czech\"; \n",
    "# \"total_number_nomenclature_terms_czech;\""
   ]
  },
  {
   "cell_type": "code",
   "execution_count": 2,
   "metadata": {},
   "outputs": [
    {
     "name": "stderr",
     "output_type": "stream",
     "text": [
      "Warning message:\n",
      "\"package 'data.table' was built under R version 3.6.3\"Warning message:\n",
      "\"package 'dplyr' was built under R version 3.6.3\"\n",
      "Attaching package: 'dplyr'\n",
      "\n",
      "The following objects are masked from 'package:data.table':\n",
      "\n",
      "    between, first, last\n",
      "\n",
      "The following objects are masked from 'package:stats':\n",
      "\n",
      "    filter, lag\n",
      "\n",
      "The following objects are masked from 'package:base':\n",
      "\n",
      "    intersect, setdiff, setequal, union\n",
      "\n",
      "Warning message:\n",
      "\"package 'XML' was built under R version 3.6.3\""
     ]
    }
   ],
   "source": [
    "# We launch the libraries\n",
    "library(jsonlite)\n",
    "library(rlist)\n",
    "library(data.table)\n",
    "library(dplyr)\n",
    "library(XML)\n",
    "library(methods)"
   ]
  },
  {
   "cell_type": "code",
   "execution_count": 3,
   "metadata": {},
   "outputs": [],
   "source": [
    "# We work on the file with datas in English\n",
    "\n",
    "# We open xml \"product1_en_cross_jdbor_evo\"\n",
    "product1=xmlParse(\"en_product1.xml\")\n",
    "product1=xmlToList(product1)\n",
    "\n",
    "# We remove the last element of the list, which is the numeric count of all elements of the list\n",
    "product1=product1$DisorderList\n",
    "product1=product1[-length(product1)]\n",
    "\n",
    "### Our list for working\n",
    "indice_list=1\n",
    "product=list()\n",
    "for (i in 1:length(product1))\n",
    "{\n",
    "  product[[indice_list]]=product1[[i]]\n",
    "  indice_list=indice_list+1\n",
    "}\n",
    "# Each element in the list is a disorder"
   ]
  },
  {
   "cell_type": "code",
   "execution_count": 4,
   "metadata": {},
   "outputs": [],
   "source": [
    "# We previously need to select the active clinical entities:\n",
    "# Head of classification (flag=128), Historical entities (flag=512) & On-line (flag=1)\n",
    "indice_list=1\n",
    "all_active_clinical_entities=list()\n",
    "for (i in 1:length(product))\n",
    "  if (product[[i]]$DisorderFlagList$DisorderFlag$Value=='1' |\n",
    "      product[[i]]$DisorderFlagList$DisorderFlag$Value=='128' |\n",
    "      product[[i]]$DisorderFlagList$DisorderFlag$Value=='512')\n",
    "  {\n",
    "    all_active_clinical_entities[[indice_list]]=product[[i]]\n",
    "    indice_list=indice_list+1\n",
    "  }"
   ]
  },
  {
   "cell_type": "code",
   "execution_count": 5,
   "metadata": {},
   "outputs": [],
   "source": [
    "### We look for all the active clinical entities which have synonyms\n",
    "indice_list=1\n",
    "synonyms_total=list()\n",
    "for (i in 1:length(all_active_clinical_entities))\n",
    "{\n",
    "  synonyms_total[[indice_list]]=data.frame(as.numeric(all_active_clinical_entities[[i]]$SynonymList$.attrs))\n",
    "  indice_list=indice_list+1\n",
    "}\n",
    "synonyms_total=rbindlist(synonyms_total,use.names = TRUE)\n",
    "colnames(synonyms_total)=c('Number of synonyms')"
   ]
  },
  {
   "cell_type": "code",
   "execution_count": 6,
   "metadata": {},
   "outputs": [
    {
     "data": {
      "text/html": [
       "12688"
      ],
      "text/latex": [
       "12688"
      ],
      "text/markdown": [
       "12688"
      ],
      "text/plain": [
       "[1] 12688"
      ]
     },
     "metadata": {},
     "output_type": "display_data"
    }
   ],
   "source": [
    "# Total number of synonyms in English\n",
    "total_number_synonyms=sum(synonyms_total)\n",
    "total_number_synonyms"
   ]
  },
  {
   "cell_type": "code",
   "execution_count": 7,
   "metadata": {},
   "outputs": [
    {
     "data": {
      "text/plain": [
       " Number of synonyms\n",
       " Min.   : 0.000    \n",
       " 1st Qu.: 0.000    \n",
       " Median : 1.000    \n",
       " Mean   : 1.354    \n",
       " 3rd Qu.: 2.000    \n",
       " Max.   :17.000    "
      ]
     },
     "metadata": {},
     "output_type": "display_data"
    }
   ],
   "source": [
    "# Statistics about all synonyms in English\n",
    "stats_total_synonyms=summary(synonyms_total)\n",
    "stats_total_synonyms"
   ]
  },
  {
   "cell_type": "code",
   "execution_count": 8,
   "metadata": {},
   "outputs": [],
   "source": [
    "### We look for the groups of disorder which have synonyms\n",
    "indice_list=1\n",
    "synonyms_group=list()\n",
    "for (i in 1:length(all_active_clinical_entities))\n",
    "  if (all_active_clinical_entities[[i]]$DisorderGroup$Name$text=='Group of disorders')\n",
    "  {\n",
    "    synonyms_group[[indice_list]]=data.frame(as.numeric(all_active_clinical_entities[[i]]$SynonymList$.attrs))\n",
    "    indice_list=indice_list+1\n",
    "  }\n",
    "synonyms_group=rbindlist(synonyms_group,use.names = TRUE)\n",
    "colnames(synonyms_group)=c('Number of synonyms')"
   ]
  },
  {
   "cell_type": "code",
   "execution_count": 9,
   "metadata": {},
   "outputs": [
    {
     "data": {
      "text/html": [
       "1222"
      ],
      "text/latex": [
       "1222"
      ],
      "text/markdown": [
       "1222"
      ],
      "text/plain": [
       "[1] 1222"
      ]
     },
     "metadata": {},
     "output_type": "display_data"
    }
   ],
   "source": [
    "# Number of synonyms for groups of disorders in English\n",
    "number_synonyms_group=sum(synonyms_group)\n",
    "number_synonyms_group"
   ]
  },
  {
   "cell_type": "code",
   "execution_count": 10,
   "metadata": {},
   "outputs": [
    {
     "data": {
      "text/html": [
       "9.63114754098361"
      ],
      "text/latex": [
       "9.63114754098361"
      ],
      "text/markdown": [
       "9.63114754098361"
      ],
      "text/plain": [
       "[1] 9.631148"
      ]
     },
     "metadata": {},
     "output_type": "display_data"
    }
   ],
   "source": [
    "# Percentage of synonyms for groups of disorders in English\n",
    "percentage_synonyms_group=number_synonyms_group/total_number_synonyms*100\n",
    "percentage_synonyms_group"
   ]
  },
  {
   "cell_type": "code",
   "execution_count": 11,
   "metadata": {},
   "outputs": [
    {
     "data": {
      "text/plain": [
       " Number of synonyms\n",
       " Min.   : 0.0000   \n",
       " 1st Qu.: 0.0000   \n",
       " Median : 0.0000   \n",
       " Mean   : 0.5742   \n",
       " 3rd Qu.: 1.0000   \n",
       " Max.   :10.0000   "
      ]
     },
     "metadata": {},
     "output_type": "display_data"
    }
   ],
   "source": [
    "# Statistics about groups of disorder's synonyms in English\n",
    "stats_synonyms_group=summary(synonyms_group)\n",
    "stats_synonyms_group"
   ]
  },
  {
   "cell_type": "code",
   "execution_count": 12,
   "metadata": {},
   "outputs": [],
   "source": [
    "### We look for the disorders which have synonyms\n",
    "indice_list=1\n",
    "synonyms_disorder=list()\n",
    "for (i in 1:length(all_active_clinical_entities))\n",
    "  if (all_active_clinical_entities[[i]]$DisorderGroup$Name$text=='Disorder')\n",
    "  {\n",
    "    synonyms_disorder[[indice_list]]=data.frame(as.numeric(all_active_clinical_entities[[i]]$SynonymList$.attrs))\n",
    "    indice_list=indice_list+1\n",
    "  }\n",
    "synonyms_disorder=rbindlist(synonyms_disorder,use.names = TRUE)\n",
    "colnames(synonyms_disorder)=c('Number of synonyms')"
   ]
  },
  {
   "cell_type": "code",
   "execution_count": 13,
   "metadata": {},
   "outputs": [
    {
     "data": {
      "text/html": [
       "9767"
      ],
      "text/latex": [
       "9767"
      ],
      "text/markdown": [
       "9767"
      ],
      "text/plain": [
       "[1] 9767"
      ]
     },
     "metadata": {},
     "output_type": "display_data"
    }
   ],
   "source": [
    "# Number of synonyms for disorders in English\n",
    "number_synonyms_disorder=sum(synonyms_disorder)\n",
    "number_synonyms_disorder"
   ]
  },
  {
   "cell_type": "code",
   "execution_count": 14,
   "metadata": {},
   "outputs": [
    {
     "data": {
      "text/html": [
       "76.9782471626734"
      ],
      "text/latex": [
       "76.9782471626734"
      ],
      "text/markdown": [
       "76.9782471626734"
      ],
      "text/plain": [
       "[1] 76.97825"
      ]
     },
     "metadata": {},
     "output_type": "display_data"
    }
   ],
   "source": [
    "### Percentage of synonyms for disorders in English\n",
    "percentage_synonyms_disorder=number_synonyms_disorder/total_number_synonyms*100\n",
    "percentage_synonyms_disorder"
   ]
  },
  {
   "cell_type": "code",
   "execution_count": 15,
   "metadata": {},
   "outputs": [
    {
     "data": {
      "text/plain": [
       " Number of synonyms\n",
       " Min.   : 0.000    \n",
       " 1st Qu.: 0.000    \n",
       " Median : 1.000    \n",
       " Mean   : 1.568    \n",
       " 3rd Qu.: 2.000    \n",
       " Max.   :15.000    "
      ]
     },
     "metadata": {},
     "output_type": "display_data"
    }
   ],
   "source": [
    "# Statistics about disorder' synonyms in English\n",
    "stats_synonyms_disorder=summary(synonyms_disorder)\n",
    "stats_synonyms_disorder"
   ]
  },
  {
   "cell_type": "code",
   "execution_count": 16,
   "metadata": {},
   "outputs": [],
   "source": [
    "### We look for the subtypes of disorder which have synonyms\n",
    "indice_list=1\n",
    "synonyms_subtype=list()\n",
    "for (i in 1:length(all_active_clinical_entities))\n",
    "  if (all_active_clinical_entities[[i]]$DisorderGroup$Name$text=='Subtype of disorder')\n",
    "  {\n",
    "    synonyms_subtype[[indice_list]]=data.frame(as.numeric(all_active_clinical_entities[[i]]$SynonymList$.attrs))\n",
    "    indice_list=indice_list+1\n",
    "  }\n",
    "synonyms_subtype=rbindlist(synonyms_subtype,use.names = TRUE)\n",
    "colnames(synonyms_subtype)=c('Number of synonyms')"
   ]
  },
  {
   "cell_type": "code",
   "execution_count": 17,
   "metadata": {},
   "outputs": [
    {
     "data": {
      "text/html": [
       "1699"
      ],
      "text/latex": [
       "1699"
      ],
      "text/markdown": [
       "1699"
      ],
      "text/plain": [
       "[1] 1699"
      ]
     },
     "metadata": {},
     "output_type": "display_data"
    }
   ],
   "source": [
    "# Number of synonyms for subtypes of disorders in English\n",
    "number_synonyms_subtype=sum(synonyms_subtype)\n",
    "number_synonyms_subtype"
   ]
  },
  {
   "cell_type": "code",
   "execution_count": 18,
   "metadata": {},
   "outputs": [
    {
     "data": {
      "text/html": [
       "13.390605296343"
      ],
      "text/latex": [
       "13.390605296343"
      ],
      "text/markdown": [
       "13.390605296343"
      ],
      "text/plain": [
       "[1] 13.39061"
      ]
     },
     "metadata": {},
     "output_type": "display_data"
    }
   ],
   "source": [
    "# Percentage of synonyms for subtypes of disorders in English\n",
    "percentage_synonyms_subtype=number_synonyms_subtype/total_number_synonyms*100\n",
    "percentage_synonyms_subtype"
   ]
  },
  {
   "cell_type": "code",
   "execution_count": 19,
   "metadata": {},
   "outputs": [
    {
     "data": {
      "text/plain": [
       " Number of synonyms\n",
       " Min.   : 0.000    \n",
       " 1st Qu.: 0.000    \n",
       " Median : 1.000    \n",
       " Mean   : 1.676    \n",
       " 3rd Qu.: 2.000    \n",
       " Max.   :17.000    "
      ]
     },
     "metadata": {},
     "output_type": "display_data"
    }
   ],
   "source": [
    "# Statistics about subtypes of disorder's synonyms in English\n",
    "stats_synonyms_subtype=summary(synonyms_subtype)\n",
    "stats_synonyms_subtype"
   ]
  },
  {
   "cell_type": "code",
   "execution_count": 20,
   "metadata": {},
   "outputs": [],
   "source": [
    "###############################################################################################\n",
    "\n",
    "\n",
    "##### Number of nomenclature terms (preferred terms + synonyms) in English\n",
    "\n",
    "\n",
    "### We look for the groups of disorder which have preferred terms\n",
    "indice_list=1\n",
    "preferred_terms_group=list()\n",
    "for (i in 1:length(all_active_clinical_entities))\n",
    "  if (all_active_clinical_entities[[i]]$DisorderGroup$Name$text=='Group of disorders')\n",
    "  {\n",
    "    preferred_terms_group[[indice_list]]=data.frame(all_active_clinical_entities[[i]]$Name$text)\n",
    "    indice_list=indice_list+1\n",
    "  }\n",
    "preferred_terms_group=rbindlist(preferred_terms_group)\n",
    "preferred_terms_group=preferred_terms_group[!duplicated(preferred_terms_group)]\n",
    "names(preferred_terms_group)=c('Preferred_terms')"
   ]
  },
  {
   "cell_type": "code",
   "execution_count": 21,
   "metadata": {},
   "outputs": [
    {
     "data": {
      "text/html": [
       "2128"
      ],
      "text/latex": [
       "2128"
      ],
      "text/markdown": [
       "2128"
      ],
      "text/plain": [
       "[1] 2128"
      ]
     },
     "metadata": {},
     "output_type": "display_data"
    }
   ],
   "source": [
    "# Number of preferred terms for groups of disorder in English\n",
    "number_preferred_terms_group=nrow(preferred_terms_group)\n",
    "number_preferred_terms_group"
   ]
  },
  {
   "cell_type": "code",
   "execution_count": 22,
   "metadata": {},
   "outputs": [
    {
     "data": {
      "text/html": [
       "3350"
      ],
      "text/latex": [
       "3350"
      ],
      "text/markdown": [
       "3350"
      ],
      "text/plain": [
       "[1] 3350"
      ]
     },
     "metadata": {},
     "output_type": "display_data"
    }
   ],
   "source": [
    "# Number of nomenclature terms (preferred terms + synonyms) for groups of disorders in English\n",
    "number_nomenclature_terms_group=number_synonyms_group + number_preferred_terms_group\n",
    "number_nomenclature_terms_group"
   ]
  },
  {
   "cell_type": "code",
   "execution_count": 23,
   "metadata": {},
   "outputs": [],
   "source": [
    "### We look for the disorders which have preferred terms\n",
    "indice_list=1\n",
    "preferred_terms_disorder=list()\n",
    "for (i in 1:length(all_active_clinical_entities))\n",
    "  if (all_active_clinical_entities[[i]]$DisorderGroup$Name$text=='Disorder')\n",
    "  {\n",
    "    preferred_terms_disorder[[indice_list]]=data.frame(all_active_clinical_entities[[i]]$Name$text)\n",
    "    indice_list=indice_list+1\n",
    "  }\n",
    "preferred_terms_disorder=rbindlist(preferred_terms_disorder)\n",
    "preferred_terms_disorder=preferred_terms_disorder[!duplicated(preferred_terms_disorder)]\n",
    "names(preferred_terms_disorder)=c('Preferred_terms')"
   ]
  },
  {
   "cell_type": "code",
   "execution_count": 24,
   "metadata": {},
   "outputs": [
    {
     "data": {
      "text/html": [
       "6227"
      ],
      "text/latex": [
       "6227"
      ],
      "text/markdown": [
       "6227"
      ],
      "text/plain": [
       "[1] 6227"
      ]
     },
     "metadata": {},
     "output_type": "display_data"
    }
   ],
   "source": [
    "# Number of preferred terms for disorders in English\n",
    "number_preferred_terms_disorder=nrow(preferred_terms_disorder)\n",
    "number_preferred_terms_disorder"
   ]
  },
  {
   "cell_type": "code",
   "execution_count": 25,
   "metadata": {},
   "outputs": [
    {
     "data": {
      "text/html": [
       "15994"
      ],
      "text/latex": [
       "15994"
      ],
      "text/markdown": [
       "15994"
      ],
      "text/plain": [
       "[1] 15994"
      ]
     },
     "metadata": {},
     "output_type": "display_data"
    }
   ],
   "source": [
    "# Number of nomenclature terms (preferred terms + synonyms) for disorders in English\n",
    "number_nomenclature_terms_disorder=number_synonyms_disorder + number_preferred_terms_disorder\n",
    "number_nomenclature_terms_disorder"
   ]
  },
  {
   "cell_type": "code",
   "execution_count": 26,
   "metadata": {},
   "outputs": [],
   "source": [
    "### We look for the subtypes of disorder which have preferred terms\n",
    "indice_list=1\n",
    "preferred_terms_subtype=list()\n",
    "for (i in 1:length(all_active_clinical_entities))\n",
    "  if (all_active_clinical_entities[[i]]$DisorderGroup$Name$text=='Subtype of disorder')\n",
    "  {\n",
    "    preferred_terms_subtype[[indice_list]]=data.frame(all_active_clinical_entities[[i]]$Name$text)\n",
    "    indice_list=indice_list+1\n",
    "  }\n",
    "preferred_terms_subtype=rbindlist(preferred_terms_subtype)\n",
    "preferred_terms_subtype=preferred_terms_subtype[!duplicated(preferred_terms_subtype)]\n",
    "names(preferred_terms_subtype)=c('Preferred_terms')"
   ]
  },
  {
   "cell_type": "code",
   "execution_count": 27,
   "metadata": {},
   "outputs": [
    {
     "data": {
      "text/html": [
       "1014"
      ],
      "text/latex": [
       "1014"
      ],
      "text/markdown": [
       "1014"
      ],
      "text/plain": [
       "[1] 1014"
      ]
     },
     "metadata": {},
     "output_type": "display_data"
    }
   ],
   "source": [
    "# Number of preferred terms for subtypes of disorder in English\n",
    "number_preferred_terms_subtype=nrow(preferred_terms_subtype)\n",
    "number_preferred_terms_subtype"
   ]
  },
  {
   "cell_type": "code",
   "execution_count": 28,
   "metadata": {},
   "outputs": [
    {
     "data": {
      "text/html": [
       "2713"
      ],
      "text/latex": [
       "2713"
      ],
      "text/markdown": [
       "2713"
      ],
      "text/plain": [
       "[1] 2713"
      ]
     },
     "metadata": {},
     "output_type": "display_data"
    }
   ],
   "source": [
    "# Number of nomenclature terms (preferred terms + synonyms) for groups of disorders in English\n",
    "number_nomenclature_terms_subtype=number_synonyms_subtype + number_preferred_terms_subtype\n",
    "number_nomenclature_terms_subtype"
   ]
  },
  {
   "cell_type": "code",
   "execution_count": 29,
   "metadata": {},
   "outputs": [
    {
     "data": {
      "text/html": [
       "22057"
      ],
      "text/latex": [
       "22057"
      ],
      "text/markdown": [
       "22057"
      ],
      "text/plain": [
       "[1] 22057"
      ]
     },
     "metadata": {},
     "output_type": "display_data"
    }
   ],
   "source": [
    "### Total number of nomenclature terms for active clinical entities in English\n",
    "total_number_nomenclature_terms=number_nomenclature_terms_subtype + \n",
    "                                number_nomenclature_terms_disorder +\n",
    "                                number_nomenclature_terms_group\n",
    "total_number_nomenclature_terms"
   ]
  },
  {
   "cell_type": "code",
   "execution_count": 30,
   "metadata": {},
   "outputs": [],
   "source": [
    "######## FRENCH #########\n",
    "\n",
    "# We work on the file with datas in French\n",
    "\n",
    "# We open xml \"product1_fr_cross_jdbor_evo\"\n",
    "product1_french=xmlParse(\"fr_product1.xml\")\n",
    "product1_french=xmlToList(product1_french)\n",
    "\n",
    "# We remove the last element of the list, which is the numeric count of all elements of the list\n",
    "product1_french=product1_french$DisorderList\n",
    "product1_french=product1_french[-length(product1_french)]\n",
    "\n",
    "### Our list for working\n",
    "indice_list=1\n",
    "product_french=list()\n",
    "for (i in 1:length(product1_french))\n",
    "{\n",
    "  product_french[[indice_list]]=product1_french[[i]]\n",
    "  indice_list=indice_list+1\n",
    "}\n",
    "# Each element in the list is a disorder"
   ]
  },
  {
   "cell_type": "code",
   "execution_count": 31,
   "metadata": {},
   "outputs": [],
   "source": [
    "# We previously need to select the active clinical entities:\n",
    "# Head of classification (flag=128), Historical entities (flag=512) & On-line (flag=1)\n",
    "indice_list=1\n",
    "all_active_clinical_entities_french=list()\n",
    "for (i in 1:length(product_french))\n",
    "  if (product_french[[i]]$DisorderFlagList$DisorderFlag$Value=='1' |\n",
    "      product_french[[i]]$DisorderFlagList$DisorderFlag$Value=='128' |\n",
    "      product_french[[i]]$DisorderFlagList$DisorderFlag$Value=='512')\n",
    "  {\n",
    "    all_active_clinical_entities_french[[indice_list]]=product_french[[i]]\n",
    "    indice_list=indice_list+1\n",
    "  }"
   ]
  },
  {
   "cell_type": "code",
   "execution_count": 32,
   "metadata": {},
   "outputs": [],
   "source": [
    "### We look for all the active clinical entities which have synonyms\n",
    "indice_list=1\n",
    "synonyms_total_french=list()\n",
    "for (i in 1:length(all_active_clinical_entities_french))\n",
    "{\n",
    "  synonyms_total_french[[indice_list]]=data.frame(as.numeric(all_active_clinical_entities_french[[i]]$SynonymList$.attrs))\n",
    "  indice_list=indice_list+1\n",
    "}\n",
    "synonyms_total_french=rbindlist(synonyms_total_french,use.names = TRUE)\n",
    "colnames(synonyms_total_french)=c('Number of synonyms')"
   ]
  },
  {
   "cell_type": "code",
   "execution_count": 33,
   "metadata": {},
   "outputs": [
    {
     "data": {
      "text/html": [
       "12123"
      ],
      "text/latex": [
       "12123"
      ],
      "text/markdown": [
       "12123"
      ],
      "text/plain": [
       "[1] 12123"
      ]
     },
     "metadata": {},
     "output_type": "display_data"
    }
   ],
   "source": [
    "# Total number of synonyms in French\n",
    "total_number_synonyms_french=sum(synonyms_total_french)\n",
    "total_number_synonyms_french"
   ]
  },
  {
   "cell_type": "code",
   "execution_count": 34,
   "metadata": {},
   "outputs": [
    {
     "data": {
      "text/plain": [
       " Number of synonyms\n",
       " Min.   : 0.000    \n",
       " 1st Qu.: 0.000    \n",
       " Median : 1.000    \n",
       " Mean   : 1.294    \n",
       " 3rd Qu.: 2.000    \n",
       " Max.   :18.000    "
      ]
     },
     "metadata": {},
     "output_type": "display_data"
    }
   ],
   "source": [
    "# Statistics about all synonyms in French\n",
    "stats_total_synonyms_french=summary(synonyms_total_french)\n",
    "stats_total_synonyms_french"
   ]
  },
  {
   "cell_type": "code",
   "execution_count": 35,
   "metadata": {},
   "outputs": [],
   "source": [
    "### We look for the groups of disorder which have synonyms\n",
    "# The flag is \"36540\" for groups of disorder\n",
    "indice_list=1\n",
    "synonyms_group_french=list()\n",
    "for (i in 1:length(all_active_clinical_entities_french))\n",
    "  if (all_active_clinical_entities_french[[i]]$DisorderGroup$.attrs=='36540')\n",
    "  {\n",
    "    synonyms_group_french[[indice_list]]=data.frame(as.numeric(all_active_clinical_entities_french[[i]]$SynonymList$.attrs))\n",
    "    indice_list=indice_list+1\n",
    "  }\n",
    "synonyms_group_french=rbindlist(synonyms_group_french,use.names = TRUE)\n",
    "colnames(synonyms_group_french)=c('Number of synonyms')"
   ]
  },
  {
   "cell_type": "code",
   "execution_count": 36,
   "metadata": {},
   "outputs": [
    {
     "data": {
      "text/html": [
       "1225"
      ],
      "text/latex": [
       "1225"
      ],
      "text/markdown": [
       "1225"
      ],
      "text/plain": [
       "[1] 1225"
      ]
     },
     "metadata": {},
     "output_type": "display_data"
    }
   ],
   "source": [
    "# Number of synonyms for groups of disorders in French\n",
    "number_synonyms_group_french=sum(synonyms_group_french)\n",
    "number_synonyms_group_french"
   ]
  },
  {
   "cell_type": "code",
   "execution_count": 37,
   "metadata": {},
   "outputs": [
    {
     "data": {
      "text/html": [
       "10.1047595479667"
      ],
      "text/latex": [
       "10.1047595479667"
      ],
      "text/markdown": [
       "10.1047595479667"
      ],
      "text/plain": [
       "[1] 10.10476"
      ]
     },
     "metadata": {},
     "output_type": "display_data"
    }
   ],
   "source": [
    "# Percentage of synonyms for groups of disorders in French\n",
    "percentage_synonyms_group_french=number_synonyms_group_french/total_number_synonyms_french*100\n",
    "percentage_synonyms_group_french"
   ]
  },
  {
   "cell_type": "code",
   "execution_count": 38,
   "metadata": {},
   "outputs": [
    {
     "data": {
      "text/plain": [
       " Number of synonyms\n",
       " Min.   :0.0000    \n",
       " 1st Qu.:0.0000    \n",
       " Median :0.0000    \n",
       " Mean   :0.5757    \n",
       " 3rd Qu.:1.0000    \n",
       " Max.   :7.0000    "
      ]
     },
     "metadata": {},
     "output_type": "display_data"
    }
   ],
   "source": [
    "# Statistics about groups of disorder's synonyms in French\n",
    "stats_synonyms_group_french=summary(synonyms_group_french)\n",
    "stats_synonyms_group_french"
   ]
  },
  {
   "cell_type": "code",
   "execution_count": 39,
   "metadata": {},
   "outputs": [],
   "source": [
    "### We look for the disorders which have synonyms\n",
    "# The flag is \"36547\" for disorders\n",
    "indice_list=1\n",
    "synonyms_disorder_french=list()\n",
    "for (i in 1:length(all_active_clinical_entities_french))\n",
    "  if (all_active_clinical_entities_french[[i]]$DisorderGroup$.attrs=='36547')\n",
    "  {\n",
    "    synonyms_disorder_french[[indice_list]]=data.frame(as.numeric(all_active_clinical_entities_french[[i]]$SynonymList$.attrs))\n",
    "    indice_list=indice_list+1\n",
    "  }\n",
    "synonyms_disorder_french=rbindlist(synonyms_disorder_french,use.names = TRUE)\n",
    "colnames(synonyms_disorder_french)=c('Number of synonyms')"
   ]
  },
  {
   "cell_type": "code",
   "execution_count": 40,
   "metadata": {},
   "outputs": [
    {
     "data": {
      "text/html": [
       "9192"
      ],
      "text/latex": [
       "9192"
      ],
      "text/markdown": [
       "9192"
      ],
      "text/plain": [
       "[1] 9192"
      ]
     },
     "metadata": {},
     "output_type": "display_data"
    }
   ],
   "source": [
    "# Number of synonyms for disorders in French\n",
    "number_synonyms_disorder_french=sum(synonyms_disorder_french)\n",
    "number_synonyms_disorder_french"
   ]
  },
  {
   "cell_type": "code",
   "execution_count": 41,
   "metadata": {},
   "outputs": [
    {
     "data": {
      "text/html": [
       "75.8228161346201"
      ],
      "text/latex": [
       "75.8228161346201"
      ],
      "text/markdown": [
       "75.8228161346201"
      ],
      "text/plain": [
       "[1] 75.82282"
      ]
     },
     "metadata": {},
     "output_type": "display_data"
    }
   ],
   "source": [
    "### Percentage of synonyms for disorders in French\n",
    "percentage_synonyms_disorder_french=number_synonyms_disorder_french/total_number_synonyms_french*100\n",
    "percentage_synonyms_disorder_french"
   ]
  },
  {
   "cell_type": "code",
   "execution_count": 42,
   "metadata": {},
   "outputs": [
    {
     "data": {
      "text/plain": [
       " Number of synonyms\n",
       " Min.   : 0.000    \n",
       " 1st Qu.: 0.000    \n",
       " Median : 1.000    \n",
       " Mean   : 1.476    \n",
       " 3rd Qu.: 2.000    \n",
       " Max.   :18.000    "
      ]
     },
     "metadata": {},
     "output_type": "display_data"
    }
   ],
   "source": [
    "# Statistics about disorder' synonyms in French\n",
    "stats_synonyms_disorder_french=summary(synonyms_disorder_french)\n",
    "stats_synonyms_disorder_french"
   ]
  },
  {
   "cell_type": "code",
   "execution_count": 43,
   "metadata": {},
   "outputs": [],
   "source": [
    "### We look for the subtypes of disorder which have synonyms\n",
    "# The flag is \"36554\" for subtypes of disorder\n",
    "indice_list=1\n",
    "synonyms_subtype_french=list()\n",
    "for (i in 1:length(all_active_clinical_entities_french))\n",
    "  if (all_active_clinical_entities_french[[i]]$DisorderGroup$.attrs=='36554')\n",
    "  {\n",
    "    synonyms_subtype_french[[indice_list]]=data.frame(as.numeric(all_active_clinical_entities_french[[i]]$SynonymList$.attrs))\n",
    "    indice_list=indice_list+1\n",
    "  }\n",
    "synonyms_subtype_french=rbindlist(synonyms_subtype_french,use.names = TRUE)\n",
    "colnames(synonyms_subtype_french)=c('Number of synonyms')"
   ]
  },
  {
   "cell_type": "code",
   "execution_count": 44,
   "metadata": {},
   "outputs": [
    {
     "data": {
      "text/html": [
       "1706"
      ],
      "text/latex": [
       "1706"
      ],
      "text/markdown": [
       "1706"
      ],
      "text/plain": [
       "[1] 1706"
      ]
     },
     "metadata": {},
     "output_type": "display_data"
    }
   ],
   "source": [
    "# Number of synonyms for subtypes of disorders in French\n",
    "number_synonyms_subtype_french=sum(synonyms_subtype_french)\n",
    "number_synonyms_subtype_french"
   ]
  },
  {
   "cell_type": "code",
   "execution_count": 45,
   "metadata": {},
   "outputs": [
    {
     "data": {
      "text/html": [
       "14.0724243174132"
      ],
      "text/latex": [
       "14.0724243174132"
      ],
      "text/markdown": [
       "14.0724243174132"
      ],
      "text/plain": [
       "[1] 14.07242"
      ]
     },
     "metadata": {},
     "output_type": "display_data"
    }
   ],
   "source": [
    "# Percentage of synonyms for subtypes of disorders in French\n",
    "percentage_synonyms_subtype_french=number_synonyms_subtype_french/total_number_synonyms_french*100\n",
    "percentage_synonyms_subtype_french"
   ]
  },
  {
   "cell_type": "code",
   "execution_count": 46,
   "metadata": {},
   "outputs": [
    {
     "data": {
      "text/plain": [
       " Number of synonyms\n",
       " Min.   : 0.000    \n",
       " 1st Qu.: 0.000    \n",
       " Median : 1.000    \n",
       " Mean   : 1.682    \n",
       " 3rd Qu.: 2.000    \n",
       " Max.   :15.000    "
      ]
     },
     "metadata": {},
     "output_type": "display_data"
    }
   ],
   "source": [
    "# Statistics about subtypes of disorder's synonyms in French\n",
    "stats_synonyms_subtype_french=summary(synonyms_subtype_french)\n",
    "stats_synonyms_subtype_french"
   ]
  },
  {
   "cell_type": "code",
   "execution_count": 47,
   "metadata": {},
   "outputs": [],
   "source": [
    "###############################################################################################\n",
    "\n",
    "\n",
    "##### Number of nomenclature terms (preferred terms + synonyms) in French\n",
    "\n",
    "\n",
    "### We look for the groups of disorder which have preferred terms\n",
    "# The flag is \"36540\" for groups of disorder\n",
    "indice_list=1\n",
    "preferred_terms_group_french=list()\n",
    "for (i in 1:length(all_active_clinical_entities_french))\n",
    "  if (all_active_clinical_entities_french[[i]]$DisorderGroup$.attrs=='36540')\n",
    "  {\n",
    "    preferred_terms_group_french[[indice_list]]=data.frame(all_active_clinical_entities_french[[i]]$Name$text)\n",
    "    indice_list=indice_list+1\n",
    "  }\n",
    "preferred_terms_group_french=rbindlist(preferred_terms_group_french)\n",
    "preferred_terms_group_french=preferred_terms_group_french[!duplicated(preferred_terms_group_french)]\n",
    "names(preferred_terms_group_french)=c('Preferred_terms')"
   ]
  },
  {
   "cell_type": "code",
   "execution_count": 48,
   "metadata": {},
   "outputs": [],
   "source": [
    "# We look for the preferred terms present in English and French\n",
    "egal_group_french=merge(preferred_terms_group,preferred_terms_group_french,by='Preferred_terms')"
   ]
  },
  {
   "cell_type": "code",
   "execution_count": 49,
   "metadata": {},
   "outputs": [
    {
     "data": {
      "text/html": [
       "2125"
      ],
      "text/latex": [
       "2125"
      ],
      "text/markdown": [
       "2125"
      ],
      "text/plain": [
       "[1] 2125"
      ]
     },
     "metadata": {},
     "output_type": "display_data"
    }
   ],
   "source": [
    "# Number of preferred terms for groups of disorder in French\n",
    "number_preferred_terms_group_french=nrow(preferred_terms_group_french)-nrow(egal_group_french)\n",
    "number_preferred_terms_group_french"
   ]
  },
  {
   "cell_type": "code",
   "execution_count": 50,
   "metadata": {},
   "outputs": [
    {
     "data": {
      "text/html": [
       "3350"
      ],
      "text/latex": [
       "3350"
      ],
      "text/markdown": [
       "3350"
      ],
      "text/plain": [
       "[1] 3350"
      ]
     },
     "metadata": {},
     "output_type": "display_data"
    }
   ],
   "source": [
    "# Number of nomenclature terms (preferred terms + synonyms) for groups of disorders in French\n",
    "number_nomenclature_terms_group_french=number_synonyms_group_french + number_preferred_terms_group_french\n",
    "number_nomenclature_terms_group_french"
   ]
  },
  {
   "cell_type": "code",
   "execution_count": 51,
   "metadata": {},
   "outputs": [],
   "source": [
    "### We look for the disorders which have preferred terms\n",
    "# The flag is \"36547\" for disorders\n",
    "indice_list=1\n",
    "preferred_terms_disorder_french=list()\n",
    "for (i in 1:length(all_active_clinical_entities_french))\n",
    "  if (all_active_clinical_entities_french[[i]]$DisorderGroup$.attrs=='36547')\n",
    "  {\n",
    "    preferred_terms_disorder_french[[indice_list]]=data.frame(all_active_clinical_entities_french[[i]]$Name$text)\n",
    "    indice_list=indice_list+1\n",
    "  }\n",
    "preferred_terms_disorder_french=rbindlist(preferred_terms_disorder_french)\n",
    "preferred_terms_disorder_french=preferred_terms_disorder_french[!duplicated(preferred_terms_disorder_french)]\n",
    "names(preferred_terms_disorder_french)=c('Preferred_terms')"
   ]
  },
  {
   "cell_type": "code",
   "execution_count": 52,
   "metadata": {},
   "outputs": [],
   "source": [
    "# We look for the preferred terms present in English and French\n",
    "egal_disorder_french=merge(preferred_terms_disorder,preferred_terms_disorder_french,by='Preferred_terms')"
   ]
  },
  {
   "cell_type": "code",
   "execution_count": 53,
   "metadata": {},
   "outputs": [
    {
     "data": {
      "text/html": [
       "6150"
      ],
      "text/latex": [
       "6150"
      ],
      "text/markdown": [
       "6150"
      ],
      "text/plain": [
       "[1] 6150"
      ]
     },
     "metadata": {},
     "output_type": "display_data"
    }
   ],
   "source": [
    "# Number of preferred terms for disorders in French\n",
    "number_preferred_terms_disorder_french=nrow(preferred_terms_disorder_french)-nrow(egal_disorder_french)\n",
    "number_preferred_terms_disorder_french"
   ]
  },
  {
   "cell_type": "code",
   "execution_count": 54,
   "metadata": {},
   "outputs": [
    {
     "data": {
      "text/html": [
       "15342"
      ],
      "text/latex": [
       "15342"
      ],
      "text/markdown": [
       "15342"
      ],
      "text/plain": [
       "[1] 15342"
      ]
     },
     "metadata": {},
     "output_type": "display_data"
    }
   ],
   "source": [
    "# Number of nomenclature terms (preferred terms + synonyms) for disorders in French\n",
    "number_nomenclature_terms_disorder_french=number_synonyms_disorder_french + number_preferred_terms_disorder_french\n",
    "number_nomenclature_terms_disorder_french"
   ]
  },
  {
   "cell_type": "code",
   "execution_count": 55,
   "metadata": {},
   "outputs": [],
   "source": [
    "### We look for the subtypes of disorder which have preferred terms\n",
    "# The flag is \"36554\" for subtypes of disorder\n",
    "indice_list=1\n",
    "preferred_terms_subtype_french=list()\n",
    "for (i in 1:length(all_active_clinical_entities_french))\n",
    "  if (all_active_clinical_entities_french[[i]]$DisorderGroup$.attrs=='36554')\n",
    "  {\n",
    "    preferred_terms_subtype_french[[indice_list]]=data.frame(all_active_clinical_entities_french[[i]]$Name$text)\n",
    "    indice_list=indice_list+1\n",
    "  }\n",
    "preferred_terms_subtype_french=rbindlist(preferred_terms_subtype_french)\n",
    "preferred_terms_subtype_french=preferred_terms_subtype_french[!duplicated(preferred_terms_subtype_french)]\n",
    "names(preferred_terms_subtype_french)=c('Preferred_terms')"
   ]
  },
  {
   "cell_type": "code",
   "execution_count": 56,
   "metadata": {},
   "outputs": [],
   "source": [
    "# We look for the preferred terms present in English and French\n",
    "egal_subtype_french=merge(preferred_terms_subtype,preferred_terms_subtype_french,by='Preferred_terms')"
   ]
  },
  {
   "cell_type": "code",
   "execution_count": 57,
   "metadata": {},
   "outputs": [
    {
     "data": {
      "text/html": [
       "1012"
      ],
      "text/latex": [
       "1012"
      ],
      "text/markdown": [
       "1012"
      ],
      "text/plain": [
       "[1] 1012"
      ]
     },
     "metadata": {},
     "output_type": "display_data"
    }
   ],
   "source": [
    "# Number of preferred terms for subtypes of disorder in French\n",
    "number_preferred_terms_subtype_french=nrow(preferred_terms_subtype_french)-nrow(egal_subtype_french)\n",
    "number_preferred_terms_subtype_french"
   ]
  },
  {
   "cell_type": "code",
   "execution_count": 58,
   "metadata": {},
   "outputs": [
    {
     "data": {
      "text/html": [
       "2718"
      ],
      "text/latex": [
       "2718"
      ],
      "text/markdown": [
       "2718"
      ],
      "text/plain": [
       "[1] 2718"
      ]
     },
     "metadata": {},
     "output_type": "display_data"
    }
   ],
   "source": [
    "# Number of nomenclature terms (preferred terms + synonyms) for groups of disorders in French\n",
    "number_nomenclature_terms_subtype_french=number_synonyms_subtype_french + number_preferred_terms_subtype_french\n",
    "number_nomenclature_terms_subtype_french"
   ]
  },
  {
   "cell_type": "code",
   "execution_count": 59,
   "metadata": {},
   "outputs": [
    {
     "data": {
      "text/html": [
       "21410"
      ],
      "text/latex": [
       "21410"
      ],
      "text/markdown": [
       "21410"
      ],
      "text/plain": [
       "[1] 21410"
      ]
     },
     "metadata": {},
     "output_type": "display_data"
    }
   ],
   "source": [
    "### Total number of nomenclature terms for active clinical entities in French\n",
    "total_number_nomenclature_terms_french=number_nomenclature_terms_subtype_french + \n",
    "  number_nomenclature_terms_disorder_french + number_nomenclature_terms_group_french\n",
    "total_number_nomenclature_terms_french"
   ]
  },
  {
   "cell_type": "code",
   "execution_count": 60,
   "metadata": {},
   "outputs": [],
   "source": [
    "######## German #########\n",
    "\n",
    "# We work on the file with datas in German\n",
    "\n",
    "# We open xml \"product1_de_cross_jdbor_evo\"\n",
    "product1_german=xmlParse(\"de_product1.xml\")\n",
    "product1_german=xmlToList(product1_german)\n",
    "\n",
    "# We remove the last element of the list, which is the numeric count of all elements of the list\n",
    "product1_german=product1_german$DisorderList\n",
    "product1_german=product1_german[-length(product1_german)]\n",
    "\n",
    "### Our list for working\n",
    "indice_list=1\n",
    "product_german=list()\n",
    "for (i in 1:length(product1_german))\n",
    "{\n",
    "  product_german[[indice_list]]=product1_german[[i]]\n",
    "  indice_list=indice_list+1\n",
    "}\n",
    "# Each element in the list is a disorder"
   ]
  },
  {
   "cell_type": "code",
   "execution_count": 61,
   "metadata": {},
   "outputs": [],
   "source": [
    "# We previously need to select the active clinical entities:\n",
    "# Head of classification (flag=128), Historical entities (flag=512) & On-line (flag=1)\n",
    "indice_list=1\n",
    "all_active_clinical_entities_german=list()\n",
    "for (i in 1:length(product_german))\n",
    "  if (product_german[[i]]$DisorderFlagList$DisorderFlag$Value=='1' |\n",
    "      product_german[[i]]$DisorderFlagList$DisorderFlag$Value=='128' |\n",
    "      product_german[[i]]$DisorderFlagList$DisorderFlag$Value=='512')\n",
    "  {\n",
    "    all_active_clinical_entities_german[[indice_list]]=product_german[[i]]\n",
    "    indice_list=indice_list+1\n",
    "  }"
   ]
  },
  {
   "cell_type": "code",
   "execution_count": 62,
   "metadata": {},
   "outputs": [],
   "source": [
    "### We look for all the active clinical entities which have synonyms\n",
    "indice_list=1\n",
    "synonyms_total_german=list()\n",
    "for (i in 1:length(all_active_clinical_entities_german))\n",
    "{\n",
    "  synonyms_total_german[[indice_list]]=data.frame(as.numeric(all_active_clinical_entities_german[[i]]$SynonymList$.attrs))\n",
    "  indice_list=indice_list+1\n",
    "}\n",
    "synonyms_total_german=rbindlist(synonyms_total_german,use.names = TRUE)\n",
    "colnames(synonyms_total_german)=c('Number of synonyms')"
   ]
  },
  {
   "cell_type": "code",
   "execution_count": 63,
   "metadata": {},
   "outputs": [
    {
     "data": {
      "text/html": [
       "11612"
      ],
      "text/latex": [
       "11612"
      ],
      "text/markdown": [
       "11612"
      ],
      "text/plain": [
       "[1] 11612"
      ]
     },
     "metadata": {},
     "output_type": "display_data"
    }
   ],
   "source": [
    "# Total number of synonyms in German\n",
    "total_number_synonyms_german=sum(synonyms_total_german)\n",
    "total_number_synonyms_german"
   ]
  },
  {
   "cell_type": "code",
   "execution_count": 64,
   "metadata": {},
   "outputs": [
    {
     "data": {
      "text/plain": [
       " Number of synonyms\n",
       " Min.   : 0.000    \n",
       " 1st Qu.: 0.000    \n",
       " Median : 1.000    \n",
       " Mean   : 1.239    \n",
       " 3rd Qu.: 2.000    \n",
       " Max.   :14.000    "
      ]
     },
     "metadata": {},
     "output_type": "display_data"
    }
   ],
   "source": [
    "# Statistics about all synonyms in German\n",
    "stats_total_synonyms_german=summary(synonyms_total_german)\n",
    "stats_total_synonyms_german"
   ]
  },
  {
   "cell_type": "code",
   "execution_count": 65,
   "metadata": {},
   "outputs": [],
   "source": [
    "### We look for the groups of disorder which have synonyms\n",
    "# The flag is \"36540\" for groups of disorder\n",
    "indice_list=1\n",
    "synonyms_group_german=list()\n",
    "for (i in 1:length(all_active_clinical_entities_german))\n",
    "  if (all_active_clinical_entities_german[[i]]$DisorderGroup$.attrs=='36540')\n",
    "  {\n",
    "    synonyms_group_german[[indice_list]]=data.frame(as.numeric(all_active_clinical_entities_german[[i]]$SynonymList$.attrs))\n",
    "    indice_list=indice_list+1\n",
    "  }\n",
    "synonyms_group_german=rbindlist(synonyms_group_german,use.names = TRUE)\n",
    "colnames(synonyms_group_german)=c('Number of synonyms')"
   ]
  },
  {
   "cell_type": "code",
   "execution_count": 66,
   "metadata": {},
   "outputs": [
    {
     "data": {
      "text/html": [
       "1059"
      ],
      "text/latex": [
       "1059"
      ],
      "text/markdown": [
       "1059"
      ],
      "text/plain": [
       "[1] 1059"
      ]
     },
     "metadata": {},
     "output_type": "display_data"
    }
   ],
   "source": [
    "# Number of synonyms for groups of disorders in German\n",
    "number_synonyms_group_german=sum(synonyms_group_german)\n",
    "number_synonyms_group_german"
   ]
  },
  {
   "cell_type": "code",
   "execution_count": 67,
   "metadata": {},
   "outputs": [
    {
     "data": {
      "text/html": [
       "9.11987599035481"
      ],
      "text/latex": [
       "9.11987599035481"
      ],
      "text/markdown": [
       "9.11987599035481"
      ],
      "text/plain": [
       "[1] 9.119876"
      ]
     },
     "metadata": {},
     "output_type": "display_data"
    }
   ],
   "source": [
    "# Percentage of synonyms for groups of disorders in German\n",
    "percentage_synonyms_group_german=number_synonyms_group_german/total_number_synonyms_german*100\n",
    "percentage_synonyms_group_german"
   ]
  },
  {
   "cell_type": "code",
   "execution_count": 68,
   "metadata": {},
   "outputs": [
    {
     "data": {
      "text/plain": [
       " Number of synonyms\n",
       " Min.   :0.0000    \n",
       " 1st Qu.:0.0000    \n",
       " Median :0.0000    \n",
       " Mean   :0.4976    \n",
       " 3rd Qu.:1.0000    \n",
       " Max.   :8.0000    "
      ]
     },
     "metadata": {},
     "output_type": "display_data"
    }
   ],
   "source": [
    "# Statistics about groups of disorder's synonyms in German\n",
    "stats_synonyms_group_german=summary(synonyms_group_german)\n",
    "stats_synonyms_group_german"
   ]
  },
  {
   "cell_type": "code",
   "execution_count": 69,
   "metadata": {},
   "outputs": [],
   "source": [
    "### We look for the disorders which have synonyms\n",
    "# The flag is \"36547\" for disorders\n",
    "indice_list=1\n",
    "synonyms_disorder_german=list()\n",
    "for (i in 1:length(all_active_clinical_entities_german))\n",
    "  if (all_active_clinical_entities_german[[i]]$DisorderGroup$.attrs=='36547')\n",
    "  {\n",
    "    synonyms_disorder_german[[indice_list]]=data.frame(as.numeric(all_active_clinical_entities_german[[i]]$SynonymList$.attrs))\n",
    "    indice_list=indice_list+1\n",
    "  }\n",
    "synonyms_disorder_german=rbindlist(synonyms_disorder_german,use.names = TRUE)\n",
    "colnames(synonyms_disorder_german)=c('Number of synonyms')"
   ]
  },
  {
   "cell_type": "code",
   "execution_count": 70,
   "metadata": {},
   "outputs": [
    {
     "data": {
      "text/html": [
       "8980"
      ],
      "text/latex": [
       "8980"
      ],
      "text/markdown": [
       "8980"
      ],
      "text/plain": [
       "[1] 8980"
      ]
     },
     "metadata": {},
     "output_type": "display_data"
    }
   ],
   "source": [
    "# Number of synonyms for disorders in German\n",
    "number_synonyms_disorder_german=sum(synonyms_disorder_german)\n",
    "number_synonyms_disorder_german"
   ]
  },
  {
   "cell_type": "code",
   "execution_count": 71,
   "metadata": {},
   "outputs": [
    {
     "data": {
      "text/html": [
       "77.3337926283155"
      ],
      "text/latex": [
       "77.3337926283155"
      ],
      "text/markdown": [
       "77.3337926283155"
      ],
      "text/plain": [
       "[1] 77.33379"
      ]
     },
     "metadata": {},
     "output_type": "display_data"
    }
   ],
   "source": [
    "### Percentage of synonyms for disorders in German\n",
    "percentage_synonyms_disorder_german=number_synonyms_disorder_german/total_number_synonyms_german*100\n",
    "percentage_synonyms_disorder_german"
   ]
  },
  {
   "cell_type": "code",
   "execution_count": 72,
   "metadata": {},
   "outputs": [
    {
     "data": {
      "text/plain": [
       " Number of synonyms\n",
       " Min.   : 0.000    \n",
       " 1st Qu.: 0.000    \n",
       " Median : 1.000    \n",
       " Mean   : 1.442    \n",
       " 3rd Qu.: 2.000    \n",
       " Max.   :14.000    "
      ]
     },
     "metadata": {},
     "output_type": "display_data"
    }
   ],
   "source": [
    "# Statistics about disorder' synonyms in German\n",
    "stats_synonyms_disorder_german=summary(synonyms_disorder_german)\n",
    "stats_synonyms_disorder_german"
   ]
  },
  {
   "cell_type": "code",
   "execution_count": 73,
   "metadata": {},
   "outputs": [],
   "source": [
    "### We look for the subtypes of disorder which have synonyms\n",
    "# The flag is \"36554\" for subtypes of disorder\n",
    "indice_list=1\n",
    "synonyms_subtype_german=list()\n",
    "for (i in 1:length(all_active_clinical_entities_german))\n",
    "  if (all_active_clinical_entities_german[[i]]$DisorderGroup$.attrs=='36554')\n",
    "  {\n",
    "    synonyms_subtype_german[[indice_list]]=data.frame(as.numeric(all_active_clinical_entities_german[[i]]$SynonymList$.attrs))\n",
    "    indice_list=indice_list+1\n",
    "  }\n",
    "synonyms_subtype_german=rbindlist(synonyms_subtype_german,use.names = TRUE)\n",
    "colnames(synonyms_subtype_german)=c('Number of synonyms')"
   ]
  },
  {
   "cell_type": "code",
   "execution_count": 74,
   "metadata": {},
   "outputs": [
    {
     "data": {
      "text/html": [
       "1573"
      ],
      "text/latex": [
       "1573"
      ],
      "text/markdown": [
       "1573"
      ],
      "text/plain": [
       "[1] 1573"
      ]
     },
     "metadata": {},
     "output_type": "display_data"
    }
   ],
   "source": [
    "# Number of synonyms for subtypes of disorders in German\n",
    "number_synonyms_subtype_german=sum(synonyms_subtype_german)\n",
    "number_synonyms_subtype_german"
   ]
  },
  {
   "cell_type": "code",
   "execution_count": 75,
   "metadata": {},
   "outputs": [
    {
     "data": {
      "text/html": [
       "13.5463313813297"
      ],
      "text/latex": [
       "13.5463313813297"
      ],
      "text/markdown": [
       "13.5463313813297"
      ],
      "text/plain": [
       "[1] 13.54633"
      ]
     },
     "metadata": {},
     "output_type": "display_data"
    }
   ],
   "source": [
    "# Percentage of synonyms for subtypes of disorders in German\n",
    "percentage_synonyms_subtype_german=number_synonyms_subtype_german/total_number_synonyms_german*100\n",
    "percentage_synonyms_subtype_german"
   ]
  },
  {
   "cell_type": "code",
   "execution_count": 76,
   "metadata": {},
   "outputs": [
    {
     "data": {
      "text/plain": [
       " Number of synonyms\n",
       " Min.   : 0.000    \n",
       " 1st Qu.: 0.000    \n",
       " Median : 1.000    \n",
       " Mean   : 1.551    \n",
       " 3rd Qu.: 2.000    \n",
       " Max.   :12.000    "
      ]
     },
     "metadata": {},
     "output_type": "display_data"
    }
   ],
   "source": [
    "# Statistics about subtypes of disorder's synonyms in German\n",
    "stats_synonyms_subtype_german=summary(synonyms_subtype_german)\n",
    "stats_synonyms_subtype_german"
   ]
  },
  {
   "cell_type": "code",
   "execution_count": 77,
   "metadata": {},
   "outputs": [],
   "source": [
    "###############################################################################################\n",
    "\n",
    "\n",
    "##### Number of nomenclature terms (preferred terms + synonyms) in German\n",
    "\n",
    "\n",
    "### We look for the groups of disorder which have preferred terms\n",
    "# The flag is \"36540\" for groups of disorder\n",
    "indice_list=1\n",
    "preferred_terms_group_german=list()\n",
    "for (i in 1:length(all_active_clinical_entities_german))\n",
    "  if (all_active_clinical_entities_german[[i]]$DisorderGroup$.attrs=='36540')\n",
    "  {\n",
    "    preferred_terms_group_german[[indice_list]]=data.frame(all_active_clinical_entities_german[[i]]$Name$text)\n",
    "    indice_list=indice_list+1\n",
    "  }\n",
    "preferred_terms_group_german=rbindlist(preferred_terms_group_german)\n",
    "preferred_terms_group_german=preferred_terms_group_german[!duplicated(preferred_terms_group_german)]\n",
    "names(preferred_terms_group_german)=c('Preferred_terms')"
   ]
  },
  {
   "cell_type": "code",
   "execution_count": 78,
   "metadata": {},
   "outputs": [],
   "source": [
    "# We look for the preferred terms present in English and German\n",
    "egal_group_german=merge(preferred_terms_group,preferred_terms_group_german,by='Preferred_terms')"
   ]
  },
  {
   "cell_type": "code",
   "execution_count": 79,
   "metadata": {},
   "outputs": [
    {
     "data": {
      "text/html": [
       "2115"
      ],
      "text/latex": [
       "2115"
      ],
      "text/markdown": [
       "2115"
      ],
      "text/plain": [
       "[1] 2115"
      ]
     },
     "metadata": {},
     "output_type": "display_data"
    }
   ],
   "source": [
    "# Number of preferred terms for groups of disorder in German\n",
    "number_preferred_terms_group_german=nrow(preferred_terms_group_german)-nrow(egal_group_german)\n",
    "number_preferred_terms_group_german"
   ]
  },
  {
   "cell_type": "code",
   "execution_count": 80,
   "metadata": {},
   "outputs": [
    {
     "data": {
      "text/html": [
       "3174"
      ],
      "text/latex": [
       "3174"
      ],
      "text/markdown": [
       "3174"
      ],
      "text/plain": [
       "[1] 3174"
      ]
     },
     "metadata": {},
     "output_type": "display_data"
    }
   ],
   "source": [
    "# Number of nomenclature terms (preferred terms + synonyms) for groups of disorders in German\n",
    "number_nomenclature_terms_group_german=number_synonyms_group_german + number_preferred_terms_group_german\n",
    "number_nomenclature_terms_group_german"
   ]
  },
  {
   "cell_type": "code",
   "execution_count": 81,
   "metadata": {},
   "outputs": [],
   "source": [
    "### We look for the disorders which have preferred terms\n",
    "# The flag is \"36547\" for disorders\n",
    "indice_list=1\n",
    "preferred_terms_disorder_german=list()\n",
    "for (i in 1:length(all_active_clinical_entities_german))\n",
    "  if (all_active_clinical_entities_german[[i]]$DisorderGroup$.attrs=='36547')\n",
    "  {\n",
    "    preferred_terms_disorder_german[[indice_list]]=data.frame(all_active_clinical_entities_german[[i]]$Name$text)\n",
    "    indice_list=indice_list+1\n",
    "  }\n",
    "preferred_terms_disorder_german=rbindlist(preferred_terms_disorder_german)\n",
    "preferred_terms_disorder_german=preferred_terms_disorder_german[!duplicated(preferred_terms_disorder_german)]\n",
    "names(preferred_terms_disorder_german)=c('Preferred_terms')"
   ]
  },
  {
   "cell_type": "code",
   "execution_count": 82,
   "metadata": {},
   "outputs": [],
   "source": [
    "# We look for the preferred terms present in English and German\n",
    "egal_disorder_german=merge(preferred_terms_disorder,preferred_terms_disorder_german,by='Preferred_terms')"
   ]
  },
  {
   "cell_type": "code",
   "execution_count": 83,
   "metadata": {},
   "outputs": [
    {
     "data": {
      "text/html": [
       "6046"
      ],
      "text/latex": [
       "6046"
      ],
      "text/markdown": [
       "6046"
      ],
      "text/plain": [
       "[1] 6046"
      ]
     },
     "metadata": {},
     "output_type": "display_data"
    }
   ],
   "source": [
    "# Number of preferred terms for disorders in German\n",
    "number_preferred_terms_disorder_german=nrow(preferred_terms_disorder_german)-nrow(egal_disorder_german)\n",
    "number_preferred_terms_disorder_german"
   ]
  },
  {
   "cell_type": "code",
   "execution_count": 84,
   "metadata": {},
   "outputs": [
    {
     "data": {
      "text/html": [
       "15026"
      ],
      "text/latex": [
       "15026"
      ],
      "text/markdown": [
       "15026"
      ],
      "text/plain": [
       "[1] 15026"
      ]
     },
     "metadata": {},
     "output_type": "display_data"
    }
   ],
   "source": [
    "# Number of nomenclature terms (preferred terms + synonyms) for disorders in German\n",
    "number_nomenclature_terms_disorder_german=number_synonyms_disorder_german + number_preferred_terms_disorder_german\n",
    "number_nomenclature_terms_disorder_german"
   ]
  },
  {
   "cell_type": "code",
   "execution_count": 85,
   "metadata": {},
   "outputs": [],
   "source": [
    "### We look for the subtypes of disorder which have preferred terms\n",
    "# The flag is \"36554\" for subtypes of disorder\n",
    "indice_list=1\n",
    "preferred_terms_subtype_german=list()\n",
    "for (i in 1:length(all_active_clinical_entities_german))\n",
    "  if (all_active_clinical_entities_german[[i]]$DisorderGroup$.attrs=='36554')\n",
    "  {\n",
    "    preferred_terms_subtype_german[[indice_list]]=data.frame(all_active_clinical_entities_german[[i]]$Name$text)\n",
    "    indice_list=indice_list+1\n",
    "  }\n",
    "preferred_terms_subtype_german=rbindlist(preferred_terms_subtype_german)\n",
    "preferred_terms_subtype_german=preferred_terms_subtype_german[!duplicated(preferred_terms_subtype_german)]\n",
    "names(preferred_terms_subtype_german)=c('Preferred_terms')"
   ]
  },
  {
   "cell_type": "code",
   "execution_count": 86,
   "metadata": {},
   "outputs": [],
   "source": [
    "# We look for the preferred terms present in English and German\n",
    "egal_subtype_german=merge(preferred_terms_subtype,preferred_terms_subtype_german,by='Preferred_terms')"
   ]
  },
  {
   "cell_type": "code",
   "execution_count": 87,
   "metadata": {},
   "outputs": [
    {
     "data": {
      "text/html": [
       "1009"
      ],
      "text/latex": [
       "1009"
      ],
      "text/markdown": [
       "1009"
      ],
      "text/plain": [
       "[1] 1009"
      ]
     },
     "metadata": {},
     "output_type": "display_data"
    }
   ],
   "source": [
    "# Number of preferred terms for subtypes of disorder in German\n",
    "number_preferred_terms_subtype_german=nrow(preferred_terms_subtype_german)-nrow(egal_subtype_german)\n",
    "number_preferred_terms_subtype_german"
   ]
  },
  {
   "cell_type": "code",
   "execution_count": 88,
   "metadata": {},
   "outputs": [
    {
     "data": {
      "text/html": [
       "2582"
      ],
      "text/latex": [
       "2582"
      ],
      "text/markdown": [
       "2582"
      ],
      "text/plain": [
       "[1] 2582"
      ]
     },
     "metadata": {},
     "output_type": "display_data"
    }
   ],
   "source": [
    "# Number of nomenclature terms (preferred terms + synonyms) for groups of disorders in  German\n",
    "number_nomenclature_terms_subtype_german=number_synonyms_subtype_german + number_preferred_terms_subtype_german\n",
    "number_nomenclature_terms_subtype_german"
   ]
  },
  {
   "cell_type": "code",
   "execution_count": 89,
   "metadata": {},
   "outputs": [
    {
     "data": {
      "text/html": [
       "20782"
      ],
      "text/latex": [
       "20782"
      ],
      "text/markdown": [
       "20782"
      ],
      "text/plain": [
       "[1] 20782"
      ]
     },
     "metadata": {},
     "output_type": "display_data"
    }
   ],
   "source": [
    "### Total number of nomenclature terms for active clinical entities in German\n",
    "total_number_nomenclature_terms_german=number_nomenclature_terms_subtype_german + \n",
    "  number_nomenclature_terms_disorder_german +\n",
    "  number_nomenclature_terms_group_german\n",
    "total_number_nomenclature_terms_german"
   ]
  },
  {
   "cell_type": "code",
   "execution_count": 90,
   "metadata": {},
   "outputs": [],
   "source": [
    "######## Dutch #########\n",
    "\n",
    "# We work on the file with datas in Dutch\n",
    "\n",
    "# We open xml \"product1_de_cross_jdbor_evo\"\n",
    "product1_dutch=xmlParse(\"nl_product1.xml\")\n",
    "product1_dutch=xmlToList(product1_dutch)\n",
    "\n",
    "# We remove the last element of the list, which is the numeric count of all elements of the list\n",
    "product1_dutch=product1_dutch$DisorderList\n",
    "product1_dutch=product1_dutch[-length(product1_dutch)]\n",
    "\n",
    "### Our list for working\n",
    "indice_list=1\n",
    "product_dutch=list()\n",
    "for (i in 1:length(product1_dutch))\n",
    "{\n",
    "  product_dutch[[indice_list]]=product1_dutch[[i]]\n",
    "  indice_list=indice_list+1\n",
    "}\n",
    "# Each element in the list is a disorder"
   ]
  },
  {
   "cell_type": "code",
   "execution_count": 91,
   "metadata": {},
   "outputs": [],
   "source": [
    "# We previously need to select the active clinical entities:\n",
    "# Head of classification (flag=128), Historical entities (flag=512) & On-line (flag=1)\n",
    "indice_list=1\n",
    "all_active_clinical_entities_dutch=list()\n",
    "for (i in 1:length(product_dutch))\n",
    "  if (product_dutch[[i]]$DisorderFlagList$DisorderFlag$Value=='1' |\n",
    "      product_dutch[[i]]$DisorderFlagList$DisorderFlag$Value=='128' |\n",
    "      product_dutch[[i]]$DisorderFlagList$DisorderFlag$Value=='512')\n",
    "  {\n",
    "    all_active_clinical_entities_dutch[[indice_list]]=product_dutch[[i]]\n",
    "    indice_list=indice_list+1\n",
    "  }"
   ]
  },
  {
   "cell_type": "code",
   "execution_count": 92,
   "metadata": {},
   "outputs": [],
   "source": [
    "### We look for all the active clinical entities which have synonyms\n",
    "indice_list=1\n",
    "synonyms_total_dutch=list()\n",
    "for (i in 1:length(all_active_clinical_entities_dutch))\n",
    "{\n",
    "  synonyms_total_dutch[[indice_list]]=data.frame(as.numeric(all_active_clinical_entities_dutch[[i]]$SynonymList$.attrs))\n",
    "  indice_list=indice_list+1\n",
    "}\n",
    "synonyms_total_dutch=rbindlist(synonyms_total_dutch,use.names = TRUE)\n",
    "colnames(synonyms_total_dutch)=c('Number of synonyms')"
   ]
  },
  {
   "cell_type": "code",
   "execution_count": 93,
   "metadata": {},
   "outputs": [
    {
     "data": {
      "text/html": [
       "13525"
      ],
      "text/latex": [
       "13525"
      ],
      "text/markdown": [
       "13525"
      ],
      "text/plain": [
       "[1] 13525"
      ]
     },
     "metadata": {},
     "output_type": "display_data"
    }
   ],
   "source": [
    "# Total number of synonyms in Dutch\n",
    "total_number_synonyms_dutch=sum(synonyms_total_dutch)\n",
    "total_number_synonyms_dutch"
   ]
  },
  {
   "cell_type": "code",
   "execution_count": 94,
   "metadata": {},
   "outputs": [
    {
     "data": {
      "text/plain": [
       " Number of synonyms\n",
       " Min.   : 0.000    \n",
       " 1st Qu.: 0.000    \n",
       " Median : 1.000    \n",
       " Mean   : 1.444    \n",
       " 3rd Qu.: 2.000    \n",
       " Max.   :19.000    "
      ]
     },
     "metadata": {},
     "output_type": "display_data"
    }
   ],
   "source": [
    "# Statistics about all synonyms in Dutch\n",
    "stats_total_synonyms_dutch=summary(synonyms_total_dutch)\n",
    "stats_total_synonyms_dutch"
   ]
  },
  {
   "cell_type": "code",
   "execution_count": 95,
   "metadata": {},
   "outputs": [],
   "source": [
    "### We look for the groups of disorder which have synonyms\n",
    "# The flag is \"36540\" for groups of disorder\n",
    "indice_list=1\n",
    "synonyms_group_dutch=list()\n",
    "for (i in 1:length(all_active_clinical_entities_dutch))\n",
    "  if (all_active_clinical_entities_dutch[[i]]$DisorderGroup$.attrs=='36540')\n",
    "  {\n",
    "    synonyms_group_dutch[[indice_list]]=data.frame(as.numeric(all_active_clinical_entities_dutch[[i]]$SynonymList$.attrs))\n",
    "    indice_list=indice_list+1\n",
    "  }\n",
    "synonyms_group_dutch=rbindlist(synonyms_group_dutch,use.names = TRUE)\n",
    "colnames(synonyms_group_dutch)=c('Number of synonyms')"
   ]
  },
  {
   "cell_type": "code",
   "execution_count": 96,
   "metadata": {},
   "outputs": [
    {
     "data": {
      "text/html": [
       "1330"
      ],
      "text/latex": [
       "1330"
      ],
      "text/markdown": [
       "1330"
      ],
      "text/plain": [
       "[1] 1330"
      ]
     },
     "metadata": {},
     "output_type": "display_data"
    }
   ],
   "source": [
    "# Number of synonyms for groups of disorders in Dutch\n",
    "number_synonyms_group_dutch=sum(synonyms_group_dutch)\n",
    "number_synonyms_group_dutch"
   ]
  },
  {
   "cell_type": "code",
   "execution_count": 97,
   "metadata": {},
   "outputs": [
    {
     "data": {
      "text/html": [
       "9.83364140480592"
      ],
      "text/latex": [
       "9.83364140480592"
      ],
      "text/markdown": [
       "9.83364140480592"
      ],
      "text/plain": [
       "[1] 9.833641"
      ]
     },
     "metadata": {},
     "output_type": "display_data"
    }
   ],
   "source": [
    "# Percentage of synonyms for groups of disorders in Dutch\n",
    "percentage_synonyms_group_dutch=number_synonyms_group_dutch/total_number_synonyms_dutch*100\n",
    "percentage_synonyms_group_dutch"
   ]
  },
  {
   "cell_type": "code",
   "execution_count": 98,
   "metadata": {},
   "outputs": [
    {
     "data": {
      "text/plain": [
       " Number of synonyms\n",
       " Min.   : 0.000    \n",
       " 1st Qu.: 0.000    \n",
       " Median : 0.000    \n",
       " Mean   : 0.625    \n",
       " 3rd Qu.: 1.000    \n",
       " Max.   :11.000    "
      ]
     },
     "metadata": {},
     "output_type": "display_data"
    }
   ],
   "source": [
    "# Statistics about groups of disorder's synonyms in Dutch\n",
    "stats_synonyms_group_dutch=summary(synonyms_group_dutch)\n",
    "stats_synonyms_group_dutch"
   ]
  },
  {
   "cell_type": "code",
   "execution_count": 99,
   "metadata": {},
   "outputs": [],
   "source": [
    "### We look for the disorders which have synonyms\n",
    "# The flag is \"36547\" for disorders\n",
    "indice_list=1\n",
    "synonyms_disorder_dutch=list()\n",
    "for (i in 1:length(all_active_clinical_entities_dutch))\n",
    "  if (all_active_clinical_entities_dutch[[i]]$DisorderGroup$.attrs=='36547')\n",
    "  {\n",
    "    synonyms_disorder_dutch[[indice_list]]=data.frame(as.numeric(all_active_clinical_entities_dutch[[i]]$SynonymList$.attrs))\n",
    "    indice_list=indice_list+1\n",
    "  }\n",
    "synonyms_disorder_dutch=rbindlist(synonyms_disorder_dutch,use.names = TRUE)\n",
    "colnames(synonyms_disorder_dutch)=c('Number of synonyms')"
   ]
  },
  {
   "cell_type": "code",
   "execution_count": 100,
   "metadata": {},
   "outputs": [
    {
     "data": {
      "text/html": [
       "10422"
      ],
      "text/latex": [
       "10422"
      ],
      "text/markdown": [
       "10422"
      ],
      "text/plain": [
       "[1] 10422"
      ]
     },
     "metadata": {},
     "output_type": "display_data"
    }
   ],
   "source": [
    "# Number of synonyms for disorders in Dutch\n",
    "number_synonyms_disorder_dutch=sum(synonyms_disorder_dutch)\n",
    "number_synonyms_disorder_dutch"
   ]
  },
  {
   "cell_type": "code",
   "execution_count": 101,
   "metadata": {},
   "outputs": [
    {
     "data": {
      "text/html": [
       "77.0573012939002"
      ],
      "text/latex": [
       "77.0573012939002"
      ],
      "text/markdown": [
       "77.0573012939002"
      ],
      "text/plain": [
       "[1] 77.0573"
      ]
     },
     "metadata": {},
     "output_type": "display_data"
    }
   ],
   "source": [
    "### Percentage of synonyms for disorders in Dutch\n",
    "percentage_synonyms_disorder_dutch=number_synonyms_disorder_dutch/total_number_synonyms_dutch*100\n",
    "percentage_synonyms_disorder_dutch"
   ]
  },
  {
   "cell_type": "code",
   "execution_count": 102,
   "metadata": {},
   "outputs": [
    {
     "data": {
      "text/plain": [
       " Number of synonyms\n",
       " Min.   : 0.000    \n",
       " 1st Qu.: 0.000    \n",
       " Median : 1.000    \n",
       " Mean   : 1.674    \n",
       " 3rd Qu.: 2.000    \n",
       " Max.   :16.000    "
      ]
     },
     "metadata": {},
     "output_type": "display_data"
    }
   ],
   "source": [
    "# Statistics about disorder' synonyms in Dutch\n",
    "stats_synonyms_disorder_dutch=summary(synonyms_disorder_dutch)\n",
    "stats_synonyms_disorder_dutch"
   ]
  },
  {
   "cell_type": "code",
   "execution_count": 103,
   "metadata": {},
   "outputs": [],
   "source": [
    "### We look for the subtypes of disorder which have synonyms\n",
    "# The flag is \"36554\" for subtypes of disorder\n",
    "indice_list=1\n",
    "synonyms_subtype_dutch=list()\n",
    "for (i in 1:length(all_active_clinical_entities_dutch))\n",
    "  if (all_active_clinical_entities_dutch[[i]]$DisorderGroup$.attrs=='36554')\n",
    "  {\n",
    "    synonyms_subtype_dutch[[indice_list]]=data.frame(as.numeric(all_active_clinical_entities_dutch[[i]]$SynonymList$.attrs))\n",
    "    indice_list=indice_list+1\n",
    "  }\n",
    "synonyms_subtype_dutch=rbindlist(synonyms_subtype_dutch,use.names = TRUE)\n",
    "colnames(synonyms_subtype_dutch)=c('Number of synonyms')"
   ]
  },
  {
   "cell_type": "code",
   "execution_count": 104,
   "metadata": {},
   "outputs": [
    {
     "data": {
      "text/html": [
       "1773"
      ],
      "text/latex": [
       "1773"
      ],
      "text/markdown": [
       "1773"
      ],
      "text/plain": [
       "[1] 1773"
      ]
     },
     "metadata": {},
     "output_type": "display_data"
    }
   ],
   "source": [
    "# Number of synonyms for subtypes of disorders in Dutch\n",
    "number_synonyms_subtype_dutch=sum(synonyms_subtype_dutch)\n",
    "number_synonyms_subtype_dutch"
   ]
  },
  {
   "cell_type": "code",
   "execution_count": 105,
   "metadata": {},
   "outputs": [
    {
     "data": {
      "text/html": [
       "13.1090573012939"
      ],
      "text/latex": [
       "13.1090573012939"
      ],
      "text/markdown": [
       "13.1090573012939"
      ],
      "text/plain": [
       "[1] 13.10906"
      ]
     },
     "metadata": {},
     "output_type": "display_data"
    }
   ],
   "source": [
    "# Percentage of synonyms for subtypes of disorders in Dutch\n",
    "percentage_synonyms_subtype_dutch=number_synonyms_subtype_dutch/total_number_synonyms_dutch*100\n",
    "percentage_synonyms_subtype_dutch"
   ]
  },
  {
   "cell_type": "code",
   "execution_count": 106,
   "metadata": {},
   "outputs": [
    {
     "data": {
      "text/plain": [
       " Number of synonyms\n",
       " Min.   : 0.000    \n",
       " 1st Qu.: 0.000    \n",
       " Median : 1.000    \n",
       " Mean   : 1.749    \n",
       " 3rd Qu.: 2.000    \n",
       " Max.   :19.000    "
      ]
     },
     "metadata": {},
     "output_type": "display_data"
    }
   ],
   "source": [
    "# Statistics about subtypes of disorder's synonyms in Dutch\n",
    "stats_synonyms_subtype_dutch=summary(synonyms_subtype_dutch)\n",
    "stats_synonyms_subtype_dutch"
   ]
  },
  {
   "cell_type": "code",
   "execution_count": 107,
   "metadata": {},
   "outputs": [],
   "source": [
    "###############################################################################################\n",
    "\n",
    "\n",
    "##### Number of nomenclature terms (preferred terms + synonyms) in Dutch\n",
    "\n",
    "\n",
    "### We look for the groups of disorder which have preferred terms\n",
    "# The flag is \"36540\" for groups of disorder\n",
    "indice_list=1\n",
    "preferred_terms_group_dutch=list()\n",
    "for (i in 1:length(all_active_clinical_entities_dutch))\n",
    "  if (all_active_clinical_entities_dutch[[i]]$DisorderGroup$.attrs=='36540')\n",
    "  {\n",
    "    preferred_terms_group_dutch[[indice_list]]=data.frame(all_active_clinical_entities_dutch[[i]]$Name$text)\n",
    "    indice_list=indice_list+1\n",
    "  }\n",
    "preferred_terms_group_dutch=rbindlist(preferred_terms_group_dutch)\n",
    "preferred_terms_group_dutch=preferred_terms_group_dutch[!duplicated(preferred_terms_group_dutch)]\n",
    "names(preferred_terms_group_dutch)=c('Preferred_terms')"
   ]
  },
  {
   "cell_type": "code",
   "execution_count": 108,
   "metadata": {},
   "outputs": [],
   "source": [
    "# We look for the preferred terms present in English and Dutch\n",
    "egal_group_dutch=merge(preferred_terms_group,preferred_terms_group_dutch,by='Preferred_terms')"
   ]
  },
  {
   "cell_type": "code",
   "execution_count": 109,
   "metadata": {},
   "outputs": [
    {
     "data": {
      "text/html": [
       "2117"
      ],
      "text/latex": [
       "2117"
      ],
      "text/markdown": [
       "2117"
      ],
      "text/plain": [
       "[1] 2117"
      ]
     },
     "metadata": {},
     "output_type": "display_data"
    }
   ],
   "source": [
    "# Number of preferred terms for groups of disorder in Dutch\n",
    "number_preferred_terms_group_dutch=nrow(preferred_terms_group_dutch)-nrow(egal_group_dutch)\n",
    "number_preferred_terms_group_dutch"
   ]
  },
  {
   "cell_type": "code",
   "execution_count": 110,
   "metadata": {},
   "outputs": [
    {
     "data": {
      "text/html": [
       "3447"
      ],
      "text/latex": [
       "3447"
      ],
      "text/markdown": [
       "3447"
      ],
      "text/plain": [
       "[1] 3447"
      ]
     },
     "metadata": {},
     "output_type": "display_data"
    }
   ],
   "source": [
    "# Number of nomenclature terms (preferred terms + synonyms) for groups of disorders in Dutch\n",
    "number_nomenclature_terms_group_dutch=number_synonyms_group_dutch + number_preferred_terms_group_dutch\n",
    "number_nomenclature_terms_group_dutch"
   ]
  },
  {
   "cell_type": "code",
   "execution_count": 111,
   "metadata": {},
   "outputs": [],
   "source": [
    "### We look for the disorders which have preferred terms\n",
    "# The flag is \"36547\" for disorders\n",
    "indice_list=1\n",
    "preferred_terms_disorder_dutch=list()\n",
    "for (i in 1:length(all_active_clinical_entities_dutch))\n",
    "  if (all_active_clinical_entities_dutch[[i]]$DisorderGroup$.attrs=='36547')\n",
    "  {\n",
    "    preferred_terms_disorder_dutch[[indice_list]]=data.frame(all_active_clinical_entities_dutch[[i]]$Name$text)\n",
    "    indice_list=indice_list+1\n",
    "  }\n",
    "preferred_terms_disorder_dutch=rbindlist(preferred_terms_disorder_dutch)\n",
    "preferred_terms_disorder_dutch=preferred_terms_disorder_dutch[!duplicated(preferred_terms_disorder_dutch)]\n",
    "names(preferred_terms_disorder_dutch)=c('Preferred_terms')"
   ]
  },
  {
   "cell_type": "code",
   "execution_count": 112,
   "metadata": {},
   "outputs": [],
   "source": [
    "# We look for the preferred terms present in English and Dutch\n",
    "egal_disorder_dutch=merge(preferred_terms_disorder,preferred_terms_disorder_dutch,by='Preferred_terms')"
   ]
  },
  {
   "cell_type": "code",
   "execution_count": 113,
   "metadata": {},
   "outputs": [
    {
     "data": {
      "text/html": [
       "6030"
      ],
      "text/latex": [
       "6030"
      ],
      "text/markdown": [
       "6030"
      ],
      "text/plain": [
       "[1] 6030"
      ]
     },
     "metadata": {},
     "output_type": "display_data"
    }
   ],
   "source": [
    "# Number of preferred terms for disorders in Dutch\n",
    "number_preferred_terms_disorder_dutch=nrow(preferred_terms_disorder_dutch)-nrow(egal_disorder_dutch)\n",
    "number_preferred_terms_disorder_dutch"
   ]
  },
  {
   "cell_type": "code",
   "execution_count": 114,
   "metadata": {},
   "outputs": [
    {
     "data": {
      "text/html": [
       "16452"
      ],
      "text/latex": [
       "16452"
      ],
      "text/markdown": [
       "16452"
      ],
      "text/plain": [
       "[1] 16452"
      ]
     },
     "metadata": {},
     "output_type": "display_data"
    }
   ],
   "source": [
    "# Number of nomenclature terms (preferred terms + synonyms) for disorders in Dutch\n",
    "number_nomenclature_terms_disorder_dutch=number_synonyms_disorder_dutch + number_preferred_terms_disorder_dutch\n",
    "number_nomenclature_terms_disorder_dutch"
   ]
  },
  {
   "cell_type": "code",
   "execution_count": 115,
   "metadata": {},
   "outputs": [],
   "source": [
    "### We look for the subtypes of disorder which have preferred terms\n",
    "# The flag is \"36554\" for subtypes of disorder\n",
    "indice_list=1\n",
    "preferred_terms_subtype_dutch=list()\n",
    "for (i in 1:length(all_active_clinical_entities_dutch))\n",
    "  if (all_active_clinical_entities_dutch[[i]]$DisorderGroup$.attrs=='36554')\n",
    "  {\n",
    "    preferred_terms_subtype_dutch[[indice_list]]=data.frame(all_active_clinical_entities_dutch[[i]]$Name$text)\n",
    "    indice_list=indice_list+1\n",
    "  }\n",
    "preferred_terms_subtype_dutch=rbindlist(preferred_terms_subtype_dutch)\n",
    "preferred_terms_subtype_dutch=preferred_terms_subtype_dutch[!duplicated(preferred_terms_subtype_dutch)]\n",
    "names(preferred_terms_subtype_dutch)=c('Preferred_terms')"
   ]
  },
  {
   "cell_type": "code",
   "execution_count": 116,
   "metadata": {},
   "outputs": [],
   "source": [
    "# We look for the preferred terms present in English and Dutch\n",
    "egal_subtype_dutch=merge(preferred_terms_subtype,preferred_terms_subtype_dutch,by='Preferred_terms')"
   ]
  },
  {
   "cell_type": "code",
   "execution_count": 117,
   "metadata": {},
   "outputs": [
    {
     "data": {
      "text/html": [
       "998"
      ],
      "text/latex": [
       "998"
      ],
      "text/markdown": [
       "998"
      ],
      "text/plain": [
       "[1] 998"
      ]
     },
     "metadata": {},
     "output_type": "display_data"
    }
   ],
   "source": [
    "# Number of preferred terms for subtypes of disorder in Dutch\n",
    "number_preferred_terms_subtype_dutch=nrow(preferred_terms_subtype_dutch)-nrow(egal_subtype_dutch)\n",
    "number_preferred_terms_subtype_dutch"
   ]
  },
  {
   "cell_type": "code",
   "execution_count": 118,
   "metadata": {},
   "outputs": [
    {
     "data": {
      "text/html": [
       "2771"
      ],
      "text/latex": [
       "2771"
      ],
      "text/markdown": [
       "2771"
      ],
      "text/plain": [
       "[1] 2771"
      ]
     },
     "metadata": {},
     "output_type": "display_data"
    }
   ],
   "source": [
    "# Number of nomenclature terms (preferred terms + synonyms) for groups of disorders in  Dutch\n",
    "number_nomenclature_terms_subtype_dutch=number_synonyms_subtype_dutch + number_preferred_terms_subtype_dutch\n",
    "number_nomenclature_terms_subtype_dutch"
   ]
  },
  {
   "cell_type": "code",
   "execution_count": 119,
   "metadata": {},
   "outputs": [
    {
     "data": {
      "text/html": [
       "22670"
      ],
      "text/latex": [
       "22670"
      ],
      "text/markdown": [
       "22670"
      ],
      "text/plain": [
       "[1] 22670"
      ]
     },
     "metadata": {},
     "output_type": "display_data"
    }
   ],
   "source": [
    "### Total number of nomenclature terms for active clinical entities in Dutch\n",
    "total_number_nomenclature_terms_dutch=number_nomenclature_terms_subtype_dutch + \n",
    "  number_nomenclature_terms_disorder_dutch +\n",
    "  number_nomenclature_terms_group_dutch\n",
    "total_number_nomenclature_terms_dutch"
   ]
  },
  {
   "cell_type": "code",
   "execution_count": 120,
   "metadata": {},
   "outputs": [],
   "source": [
    "######## ITALIAN #########\n",
    "\n",
    "# We work on the file with datas in Italian\n",
    "\n",
    "# We open xml \"product1_de_cross_jdbor_evo\"\n",
    "product1_italian=xmlParse(\"it_product1.xml\")\n",
    "product1_italian=xmlToList(product1_italian)\n",
    "\n",
    "# We remove the last element of the list, which is the numeric count of all elements of the list\n",
    "product1_italian=product1_italian$DisorderList\n",
    "product1_italian=product1_italian[-length(product1_italian)]\n",
    "\n",
    "### Our list for working\n",
    "indice_list=1\n",
    "product_italian=list()\n",
    "for (i in 1:length(product1_italian))\n",
    "{\n",
    "  product_italian[[indice_list]]=product1_italian[[i]]\n",
    "  indice_list=indice_list+1\n",
    "}\n",
    "# Each element in the list is a disorder"
   ]
  },
  {
   "cell_type": "code",
   "execution_count": 121,
   "metadata": {},
   "outputs": [],
   "source": [
    "# We previously need to select the active clinical entities:\n",
    "# Head of classification (flag=128), Historical entities (flag=512) & On-line (flag=1)\n",
    "indice_list=1\n",
    "all_active_clinical_entities_italian=list()\n",
    "for (i in 1:length(product_italian))\n",
    "  if (product_italian[[i]]$DisorderFlagList$DisorderFlag$Value=='1' |\n",
    "      product_italian[[i]]$DisorderFlagList$DisorderFlag$Value=='128' |\n",
    "      product_italian[[i]]$DisorderFlagList$DisorderFlag$Value=='512')\n",
    "  {\n",
    "    all_active_clinical_entities_italian[[indice_list]]=product_italian[[i]]\n",
    "    indice_list=indice_list+1\n",
    "  }"
   ]
  },
  {
   "cell_type": "code",
   "execution_count": 122,
   "metadata": {},
   "outputs": [],
   "source": [
    "### We look for all the active clinical entities which have synonyms\n",
    "indice_list=1\n",
    "synonyms_total_italian=list()\n",
    "for (i in 1:length(all_active_clinical_entities_italian))\n",
    "{\n",
    "  synonyms_total_italian[[indice_list]]=data.frame(as.numeric(all_active_clinical_entities_italian[[i]]$SynonymList$.attrs))\n",
    "  indice_list=indice_list+1\n",
    "}\n",
    "synonyms_total_italian=rbindlist(synonyms_total_italian,use.names = TRUE)\n",
    "colnames(synonyms_total_italian)=c('Number of synonyms')"
   ]
  },
  {
   "cell_type": "code",
   "execution_count": 123,
   "metadata": {},
   "outputs": [
    {
     "data": {
      "text/html": [
       "10609"
      ],
      "text/latex": [
       "10609"
      ],
      "text/markdown": [
       "10609"
      ],
      "text/plain": [
       "[1] 10609"
      ]
     },
     "metadata": {},
     "output_type": "display_data"
    }
   ],
   "source": [
    "# Total number of synonyms in Italian\n",
    "total_number_synonyms_italian=sum(synonyms_total_italian)\n",
    "total_number_synonyms_italian"
   ]
  },
  {
   "cell_type": "code",
   "execution_count": 124,
   "metadata": {},
   "outputs": [
    {
     "data": {
      "text/plain": [
       " Number of synonyms\n",
       " Min.   : 0.000    \n",
       " 1st Qu.: 0.000    \n",
       " Median : 1.000    \n",
       " Mean   : 1.132    \n",
       " 3rd Qu.: 2.000    \n",
       " Max.   :15.000    "
      ]
     },
     "metadata": {},
     "output_type": "display_data"
    }
   ],
   "source": [
    "# Statistics about all synonyms in Italian\n",
    "stats_total_synonyms_italian=summary(synonyms_total_italian)\n",
    "stats_total_synonyms_italian"
   ]
  },
  {
   "cell_type": "code",
   "execution_count": 125,
   "metadata": {},
   "outputs": [],
   "source": [
    "### We look for the groups of disorder which have synonyms\n",
    "# The flag is \"36540\" for groups of disorder\n",
    "indice_list=1\n",
    "synonyms_group_italian=list()\n",
    "for (i in 1:length(all_active_clinical_entities_italian))\n",
    "  if (all_active_clinical_entities_italian[[i]]$DisorderGroup$.attrs=='36540')\n",
    "  {\n",
    "    synonyms_group_italian[[indice_list]]=data.frame(as.numeric(all_active_clinical_entities_italian[[i]]$SynonymList$.attrs))\n",
    "    indice_list=indice_list+1\n",
    "  }\n",
    "synonyms_group_italian=rbindlist(synonyms_group_italian,use.names = TRUE)\n",
    "colnames(synonyms_group_italian)=c('Number of synonyms')"
   ]
  },
  {
   "cell_type": "code",
   "execution_count": 126,
   "metadata": {},
   "outputs": [
    {
     "data": {
      "text/html": [
       "1039"
      ],
      "text/latex": [
       "1039"
      ],
      "text/markdown": [
       "1039"
      ],
      "text/plain": [
       "[1] 1039"
      ]
     },
     "metadata": {},
     "output_type": "display_data"
    }
   ],
   "source": [
    "# Number of synonyms for groups of disorders in Italian\n",
    "number_synonyms_group_italian=sum(synonyms_group_italian)\n",
    "number_synonyms_group_italian"
   ]
  },
  {
   "cell_type": "code",
   "execution_count": 127,
   "metadata": {},
   "outputs": [
    {
     "data": {
      "text/html": [
       "9.79357149589971"
      ],
      "text/latex": [
       "9.79357149589971"
      ],
      "text/markdown": [
       "9.79357149589971"
      ],
      "text/plain": [
       "[1] 9.793571"
      ]
     },
     "metadata": {},
     "output_type": "display_data"
    }
   ],
   "source": [
    "# Percentage of synonyms for groups of disorders in Italian\n",
    "percentage_synonyms_group_italian=number_synonyms_group_italian/total_number_synonyms_italian*100\n",
    "percentage_synonyms_group_italian"
   ]
  },
  {
   "cell_type": "code",
   "execution_count": 128,
   "metadata": {},
   "outputs": [
    {
     "data": {
      "text/plain": [
       " Number of synonyms\n",
       " Min.   : 0.0000   \n",
       " 1st Qu.: 0.0000   \n",
       " Median : 0.0000   \n",
       " Mean   : 0.4883   \n",
       " 3rd Qu.: 1.0000   \n",
       " Max.   :10.0000   "
      ]
     },
     "metadata": {},
     "output_type": "display_data"
    }
   ],
   "source": [
    "# Statistics about groups of disorder's synonyms in Italian\n",
    "stats_synonyms_group_italian=summary(synonyms_group_italian)\n",
    "stats_synonyms_group_italian"
   ]
  },
  {
   "cell_type": "code",
   "execution_count": 129,
   "metadata": {},
   "outputs": [],
   "source": [
    "### We look for the disorders which have synonyms\n",
    "# The flag is \"36547\" for disorders\n",
    "indice_list=1\n",
    "synonyms_disorder_italian=list()\n",
    "for (i in 1:length(all_active_clinical_entities_italian))\n",
    "  if (all_active_clinical_entities_italian[[i]]$DisorderGroup$.attrs=='36547')\n",
    "  {\n",
    "    synonyms_disorder_italian[[indice_list]]=data.frame(as.numeric(all_active_clinical_entities_italian[[i]]$SynonymList$.attrs))\n",
    "    indice_list=indice_list+1\n",
    "  }\n",
    "synonyms_disorder_italian=rbindlist(synonyms_disorder_italian,use.names = TRUE)\n",
    "colnames(synonyms_disorder_italian)=c('Number of synonyms')"
   ]
  },
  {
   "cell_type": "code",
   "execution_count": 130,
   "metadata": {},
   "outputs": [
    {
     "data": {
      "text/html": [
       "8066"
      ],
      "text/latex": [
       "8066"
      ],
      "text/markdown": [
       "8066"
      ],
      "text/plain": [
       "[1] 8066"
      ]
     },
     "metadata": {},
     "output_type": "display_data"
    }
   ],
   "source": [
    "# Number of synonyms for disorders in Italian\n",
    "number_synonyms_disorder_italian=sum(synonyms_disorder_italian)\n",
    "number_synonyms_disorder_italian"
   ]
  },
  {
   "cell_type": "code",
   "execution_count": 131,
   "metadata": {},
   "outputs": [
    {
     "data": {
      "text/html": [
       "76.0297860307286"
      ],
      "text/latex": [
       "76.0297860307286"
      ],
      "text/markdown": [
       "76.0297860307286"
      ],
      "text/plain": [
       "[1] 76.02979"
      ]
     },
     "metadata": {},
     "output_type": "display_data"
    }
   ],
   "source": [
    "### Percentage of synonyms for disorders in Italian\n",
    "percentage_synonyms_disorder_italian=number_synonyms_disorder_italian/total_number_synonyms_italian*100\n",
    "percentage_synonyms_disorder_italian"
   ]
  },
  {
   "cell_type": "code",
   "execution_count": 132,
   "metadata": {},
   "outputs": [
    {
     "data": {
      "text/plain": [
       " Number of synonyms\n",
       " Min.   : 0.000    \n",
       " 1st Qu.: 0.000    \n",
       " Median : 1.000    \n",
       " Mean   : 1.295    \n",
       " 3rd Qu.: 2.000    \n",
       " Max.   :15.000    "
      ]
     },
     "metadata": {},
     "output_type": "display_data"
    }
   ],
   "source": [
    "# Statistics about disorder' synonyms in Italian\n",
    "stats_synonyms_disorder_italian=summary(synonyms_disorder_italian)\n",
    "stats_synonyms_disorder_italian"
   ]
  },
  {
   "cell_type": "code",
   "execution_count": 133,
   "metadata": {},
   "outputs": [],
   "source": [
    "### We look for the subtypes of disorder which have synonyms\n",
    "# The flag is \"36554\" for subtypes of disorder\n",
    "indice_list=1\n",
    "synonyms_subtype_italian=list()\n",
    "for (i in 1:length(all_active_clinical_entities_italian))\n",
    "  if (all_active_clinical_entities_italian[[i]]$DisorderGroup$.attrs=='36554')\n",
    "  {\n",
    "    synonyms_subtype_italian[[indice_list]]=data.frame(as.numeric(all_active_clinical_entities_italian[[i]]$SynonymList$.attrs))\n",
    "    indice_list=indice_list+1\n",
    "  }\n",
    "synonyms_subtype_italian=rbindlist(synonyms_subtype_italian,use.names = TRUE)\n",
    "colnames(synonyms_subtype_italian)=c('Number of synonyms')"
   ]
  },
  {
   "cell_type": "code",
   "execution_count": 134,
   "metadata": {},
   "outputs": [
    {
     "data": {
      "text/html": [
       "1504"
      ],
      "text/latex": [
       "1504"
      ],
      "text/markdown": [
       "1504"
      ],
      "text/plain": [
       "[1] 1504"
      ]
     },
     "metadata": {},
     "output_type": "display_data"
    }
   ],
   "source": [
    "# Number of synonyms for subtypes of disorders in Italian\n",
    "number_synonyms_subtype_italian=sum(synonyms_subtype_italian)\n",
    "number_synonyms_subtype_italian"
   ]
  },
  {
   "cell_type": "code",
   "execution_count": 135,
   "metadata": {},
   "outputs": [
    {
     "data": {
      "text/html": [
       "14.1766424733717"
      ],
      "text/latex": [
       "14.1766424733717"
      ],
      "text/markdown": [
       "14.1766424733717"
      ],
      "text/plain": [
       "[1] 14.17664"
      ]
     },
     "metadata": {},
     "output_type": "display_data"
    }
   ],
   "source": [
    "# Percentage of synonyms for subtypes of disorders in Italian\n",
    "percentage_synonyms_subtype_italian=number_synonyms_subtype_italian/total_number_synonyms_italian*100\n",
    "percentage_synonyms_subtype_italian"
   ]
  },
  {
   "cell_type": "code",
   "execution_count": 136,
   "metadata": {},
   "outputs": [
    {
     "data": {
      "text/plain": [
       " Number of synonyms\n",
       " Min.   : 0.000    \n",
       " 1st Qu.: 0.000    \n",
       " Median : 1.000    \n",
       " Mean   : 1.483    \n",
       " 3rd Qu.: 2.000    \n",
       " Max.   :15.000    "
      ]
     },
     "metadata": {},
     "output_type": "display_data"
    }
   ],
   "source": [
    "# Statistics about subtypes of disorder's synonyms in Italian\n",
    "stats_synonyms_subtype_italian=summary(synonyms_subtype_italian)\n",
    "stats_synonyms_subtype_italian"
   ]
  },
  {
   "cell_type": "code",
   "execution_count": 137,
   "metadata": {},
   "outputs": [],
   "source": [
    "###############################################################################################\n",
    "\n",
    "\n",
    "##### Number of nomenclature terms (preferred terms + synonyms) in Italian\n",
    "\n",
    "\n",
    "### We look for the groups of disorder which have preferred terms\n",
    "# The flag is \"36540\" for groups of disorder\n",
    "indice_list=1\n",
    "preferred_terms_group_italian=list()\n",
    "for (i in 1:length(all_active_clinical_entities_italian))\n",
    "  if (all_active_clinical_entities_italian[[i]]$DisorderGroup$.attrs=='36540')\n",
    "  {\n",
    "    preferred_terms_group_italian[[indice_list]]=data.frame(all_active_clinical_entities_italian[[i]]$Name$text)\n",
    "    indice_list=indice_list+1\n",
    "  }\n",
    "preferred_terms_group_italian=rbindlist(preferred_terms_group_italian)\n",
    "preferred_terms_group_italian=preferred_terms_group_italian[!duplicated(preferred_terms_group_italian)]\n",
    "names(preferred_terms_group_italian)=c('Preferred_terms')"
   ]
  },
  {
   "cell_type": "code",
   "execution_count": 138,
   "metadata": {},
   "outputs": [],
   "source": [
    "# We look for the preferred terms present in English and Italian\n",
    "egal_group_italian=merge(preferred_terms_group,preferred_terms_group_italian,by='Preferred_terms')"
   ]
  },
  {
   "cell_type": "code",
   "execution_count": 139,
   "metadata": {},
   "outputs": [
    {
     "data": {
      "text/html": [
       "2118"
      ],
      "text/latex": [
       "2118"
      ],
      "text/markdown": [
       "2118"
      ],
      "text/plain": [
       "[1] 2118"
      ]
     },
     "metadata": {},
     "output_type": "display_data"
    }
   ],
   "source": [
    "# Number of preferred terms for groups of disorder in Italian\n",
    "number_preferred_terms_group_italian=nrow(preferred_terms_group_italian)-nrow(egal_group_italian)\n",
    "number_preferred_terms_group_italian"
   ]
  },
  {
   "cell_type": "code",
   "execution_count": 140,
   "metadata": {},
   "outputs": [
    {
     "data": {
      "text/html": [
       "3157"
      ],
      "text/latex": [
       "3157"
      ],
      "text/markdown": [
       "3157"
      ],
      "text/plain": [
       "[1] 3157"
      ]
     },
     "metadata": {},
     "output_type": "display_data"
    }
   ],
   "source": [
    "# Number of nomenclature terms (preferred terms + synonyms) for groups of disorders in Italian\n",
    "number_nomenclature_terms_group_italian=number_synonyms_group_italian + number_preferred_terms_group_italian\n",
    "number_nomenclature_terms_group_italian"
   ]
  },
  {
   "cell_type": "code",
   "execution_count": 141,
   "metadata": {},
   "outputs": [],
   "source": [
    "### We look for the disorders which have preferred terms\n",
    "# The flag is \"36547\" for disorders\n",
    "indice_list=1\n",
    "preferred_terms_disorder_italian=list()\n",
    "for (i in 1:length(all_active_clinical_entities_italian))\n",
    "  if (all_active_clinical_entities_italian[[i]]$DisorderGroup$.attrs=='36547')\n",
    "  {\n",
    "    preferred_terms_disorder_italian[[indice_list]]=data.frame(all_active_clinical_entities_italian[[i]]$Name$text)\n",
    "    indice_list=indice_list+1\n",
    "  }\n",
    "preferred_terms_disorder_italian=rbindlist(preferred_terms_disorder_italian)\n",
    "preferred_terms_disorder_italian=preferred_terms_disorder_italian[!duplicated(preferred_terms_disorder_italian)]\n",
    "names(preferred_terms_disorder_italian)=c('Preferred_terms')"
   ]
  },
  {
   "cell_type": "code",
   "execution_count": 142,
   "metadata": {},
   "outputs": [],
   "source": [
    "# We look for the preferred terms present in English and Italian\n",
    "egal_disorder_italian=merge(preferred_terms_disorder,preferred_terms_disorder_italian,by='Preferred_terms')"
   ]
  },
  {
   "cell_type": "code",
   "execution_count": 143,
   "metadata": {},
   "outputs": [
    {
     "data": {
      "text/html": [
       "6100"
      ],
      "text/latex": [
       "6100"
      ],
      "text/markdown": [
       "6100"
      ],
      "text/plain": [
       "[1] 6100"
      ]
     },
     "metadata": {},
     "output_type": "display_data"
    }
   ],
   "source": [
    "# Number of preferred terms for disorders in Italian\n",
    "number_preferred_terms_disorder_italian=nrow(preferred_terms_disorder_italian)-nrow(egal_disorder_italian)\n",
    "number_preferred_terms_disorder_italian"
   ]
  },
  {
   "cell_type": "code",
   "execution_count": 144,
   "metadata": {},
   "outputs": [
    {
     "data": {
      "text/html": [
       "14166"
      ],
      "text/latex": [
       "14166"
      ],
      "text/markdown": [
       "14166"
      ],
      "text/plain": [
       "[1] 14166"
      ]
     },
     "metadata": {},
     "output_type": "display_data"
    }
   ],
   "source": [
    "# Number of nomenclature terms (preferred terms + synonyms) for disorders in Italian\n",
    "number_nomenclature_terms_disorder_italian=number_synonyms_disorder_italian + number_preferred_terms_disorder_italian\n",
    "number_nomenclature_terms_disorder_italian"
   ]
  },
  {
   "cell_type": "code",
   "execution_count": 145,
   "metadata": {},
   "outputs": [],
   "source": [
    "### We look for the subtypes of disorder which have preferred terms\n",
    "# The flag is \"36554\" for subtypes of disorder\n",
    "indice_list=1\n",
    "preferred_terms_subtype_italian=list()\n",
    "for (i in 1:length(all_active_clinical_entities_italian))\n",
    "  if (all_active_clinical_entities_italian[[i]]$DisorderGroup$.attrs=='36554')\n",
    "  {\n",
    "    preferred_terms_subtype_italian[[indice_list]]=data.frame(all_active_clinical_entities_italian[[i]]$Name$text)\n",
    "    indice_list=indice_list+1\n",
    "  }\n",
    "preferred_terms_subtype_italian=rbindlist(preferred_terms_subtype_italian)\n",
    "preferred_terms_subtype_italian=preferred_terms_subtype_italian[!duplicated(preferred_terms_subtype_italian)]\n",
    "names(preferred_terms_subtype_italian)=c('Preferred_terms')"
   ]
  },
  {
   "cell_type": "code",
   "execution_count": 146,
   "metadata": {},
   "outputs": [],
   "source": [
    "# We look for the preferred terms present in English and Italian\n",
    "egal_subtype_italian=merge(preferred_terms_subtype,preferred_terms_subtype_italian,by='Preferred_terms')"
   ]
  },
  {
   "cell_type": "code",
   "execution_count": 147,
   "metadata": {},
   "outputs": [
    {
     "data": {
      "text/html": [
       "1012"
      ],
      "text/latex": [
       "1012"
      ],
      "text/markdown": [
       "1012"
      ],
      "text/plain": [
       "[1] 1012"
      ]
     },
     "metadata": {},
     "output_type": "display_data"
    }
   ],
   "source": [
    "# Number of preferred terms for subtypes of disorder in Italian\n",
    "number_preferred_terms_subtype_italian=nrow(preferred_terms_subtype_italian)-nrow(egal_subtype_italian)\n",
    "number_preferred_terms_subtype_italian"
   ]
  },
  {
   "cell_type": "code",
   "execution_count": 148,
   "metadata": {},
   "outputs": [
    {
     "data": {
      "text/html": [
       "2516"
      ],
      "text/latex": [
       "2516"
      ],
      "text/markdown": [
       "2516"
      ],
      "text/plain": [
       "[1] 2516"
      ]
     },
     "metadata": {},
     "output_type": "display_data"
    }
   ],
   "source": [
    "# Number of nomenclature terms (preferred terms + synonyms) for groups of disorders in Italian\n",
    "number_nomenclature_terms_subtype_italian=number_synonyms_subtype_italian + number_preferred_terms_subtype_italian\n",
    "number_nomenclature_terms_subtype_italian"
   ]
  },
  {
   "cell_type": "code",
   "execution_count": 149,
   "metadata": {},
   "outputs": [
    {
     "data": {
      "text/html": [
       "19839"
      ],
      "text/latex": [
       "19839"
      ],
      "text/markdown": [
       "19839"
      ],
      "text/plain": [
       "[1] 19839"
      ]
     },
     "metadata": {},
     "output_type": "display_data"
    }
   ],
   "source": [
    "### Total number of nomenclature terms for active clinical entities in Italian\n",
    "total_number_nomenclature_terms_italian=number_nomenclature_terms_subtype_italian + \n",
    "  number_nomenclature_terms_disorder_italian +\n",
    "  number_nomenclature_terms_group_italian\n",
    "total_number_nomenclature_terms_italian"
   ]
  },
  {
   "cell_type": "code",
   "execution_count": 150,
   "metadata": {},
   "outputs": [],
   "source": [
    "######## SPANISH #########\n",
    "\n",
    "# We work on the file with datas in Spanish\n",
    "\n",
    "# We open xml \"product1_de_cross_jdbor_evo\"\n",
    "product1_spanish=xmlParse(\"es_product1.xml\")\n",
    "product1_spanish=xmlToList(product1_spanish)\n",
    "\n",
    "# We remove the last element of the list, which is the numeric count of all elements of the list\n",
    "product1_spanish=product1_spanish$DisorderList\n",
    "product1_spanish=product1_spanish[-length(product1_spanish)]\n",
    "\n",
    "### Our list for working\n",
    "indice_list=1\n",
    "product_spanish=list()\n",
    "for (i in 1:length(product1_spanish))\n",
    "{\n",
    "  product_spanish[[indice_list]]=product1_spanish[[i]]\n",
    "  indice_list=indice_list+1\n",
    "}\n",
    "# Each element in the list is a disorder"
   ]
  },
  {
   "cell_type": "code",
   "execution_count": 151,
   "metadata": {},
   "outputs": [],
   "source": [
    "# We previously need to select the active clinical entities:\n",
    "# Head of classification (flag=128), Historical entities (flag=512) & On-line (flag=1)\n",
    "indice_list=1\n",
    "all_active_clinical_entities_spanish=list()\n",
    "for (i in 1:length(product_spanish))\n",
    "  if (product_spanish[[i]]$DisorderFlagList$DisorderFlag$Value=='1' |\n",
    "      product_spanish[[i]]$DisorderFlagList$DisorderFlag$Value=='128' |\n",
    "      product_spanish[[i]]$DisorderFlagList$DisorderFlag$Value=='512')\n",
    "  {\n",
    "    all_active_clinical_entities_spanish[[indice_list]]=product_spanish[[i]]\n",
    "    indice_list=indice_list+1\n",
    "  }"
   ]
  },
  {
   "cell_type": "code",
   "execution_count": 152,
   "metadata": {},
   "outputs": [],
   "source": [
    "### We look for all the active clinical entities which have synonyms\n",
    "indice_list=1\n",
    "synonyms_total_spanish=list()\n",
    "for (i in 1:length(all_active_clinical_entities_spanish))\n",
    "{\n",
    "  synonyms_total_spanish[[indice_list]]=data.frame(as.numeric(all_active_clinical_entities_spanish[[i]]$SynonymList$.attrs))\n",
    "  indice_list=indice_list+1\n",
    "}\n",
    "synonyms_total_spanish=rbindlist(synonyms_total_spanish,use.names = TRUE)\n",
    "colnames(synonyms_total_spanish)=c('Number of synonyms')"
   ]
  },
  {
   "cell_type": "code",
   "execution_count": 153,
   "metadata": {},
   "outputs": [
    {
     "data": {
      "text/html": [
       "11673"
      ],
      "text/latex": [
       "11673"
      ],
      "text/markdown": [
       "11673"
      ],
      "text/plain": [
       "[1] 11673"
      ]
     },
     "metadata": {},
     "output_type": "display_data"
    }
   ],
   "source": [
    "# Total number of synonyms in Spanish\n",
    "total_number_synonyms_spanish=sum(synonyms_total_spanish)\n",
    "total_number_synonyms_spanish"
   ]
  },
  {
   "cell_type": "code",
   "execution_count": 154,
   "metadata": {},
   "outputs": [
    {
     "data": {
      "text/plain": [
       " Number of synonyms\n",
       " Min.   : 0.000    \n",
       " 1st Qu.: 0.000    \n",
       " Median : 1.000    \n",
       " Mean   : 1.246    \n",
       " 3rd Qu.: 2.000    \n",
       " Max.   :17.000    "
      ]
     },
     "metadata": {},
     "output_type": "display_data"
    }
   ],
   "source": [
    "# Statistics about all synonyms in Spanish\n",
    "stats_total_synonyms_spanish=summary(synonyms_total_spanish)\n",
    "stats_total_synonyms_spanish"
   ]
  },
  {
   "cell_type": "code",
   "execution_count": 155,
   "metadata": {},
   "outputs": [],
   "source": [
    "### We look for the groups of disorder which have synonyms\n",
    "# The flag is \"36540\" for groups of disorder\n",
    "indice_list=1\n",
    "synonyms_group_spanish=list()\n",
    "for (i in 1:length(all_active_clinical_entities_spanish))\n",
    "  if (all_active_clinical_entities_spanish[[i]]$DisorderGroup$.attrs=='36540')\n",
    "  {\n",
    "    synonyms_group_spanish[[indice_list]]=data.frame(as.numeric(all_active_clinical_entities_spanish[[i]]$SynonymList$.attrs))\n",
    "    indice_list=indice_list+1\n",
    "  }\n",
    "synonyms_group_spanish=rbindlist(synonyms_group_spanish,use.names = TRUE)\n",
    "colnames(synonyms_group_spanish)=c('Number of synonyms')"
   ]
  },
  {
   "cell_type": "code",
   "execution_count": 156,
   "metadata": {},
   "outputs": [
    {
     "data": {
      "text/html": [
       "1168"
      ],
      "text/latex": [
       "1168"
      ],
      "text/markdown": [
       "1168"
      ],
      "text/plain": [
       "[1] 1168"
      ]
     },
     "metadata": {},
     "output_type": "display_data"
    }
   ],
   "source": [
    "# Number of synonyms for groups of disorders in Spanish\n",
    "number_synonyms_group_spanish=sum(synonyms_group_spanish)\n",
    "number_synonyms_group_spanish"
   ]
  },
  {
   "cell_type": "code",
   "execution_count": 157,
   "metadata": {},
   "outputs": [
    {
     "data": {
      "text/html": [
       "10.0059967446243"
      ],
      "text/latex": [
       "10.0059967446243"
      ],
      "text/markdown": [
       "10.0059967446243"
      ],
      "text/plain": [
       "[1] 10.006"
      ]
     },
     "metadata": {},
     "output_type": "display_data"
    }
   ],
   "source": [
    "# Percentage of synonyms for groups of disorders in Spanish\n",
    "percentage_synonyms_group_spanish=number_synonyms_group_spanish/total_number_synonyms_spanish*100\n",
    "percentage_synonyms_group_spanish"
   ]
  },
  {
   "cell_type": "code",
   "execution_count": 158,
   "metadata": {},
   "outputs": [
    {
     "data": {
      "text/plain": [
       " Number of synonyms\n",
       " Min.   : 0.0000   \n",
       " 1st Qu.: 0.0000   \n",
       " Median : 0.0000   \n",
       " Mean   : 0.5489   \n",
       " 3rd Qu.: 1.0000   \n",
       " Max.   :11.0000   "
      ]
     },
     "metadata": {},
     "output_type": "display_data"
    }
   ],
   "source": [
    "# Statistics about groups of disorder's synonyms in Spanish\n",
    "stats_synonyms_group_spanish=summary(synonyms_group_spanish)\n",
    "stats_synonyms_group_spanish"
   ]
  },
  {
   "cell_type": "code",
   "execution_count": 159,
   "metadata": {},
   "outputs": [],
   "source": [
    "### We look for the disorders which have synonyms\n",
    "# The flag is \"36547\" for disorders\n",
    "indice_list=1\n",
    "synonyms_disorder_spanish=list()\n",
    "for (i in 1:length(all_active_clinical_entities_spanish))\n",
    "  if (all_active_clinical_entities_spanish[[i]]$DisorderGroup$.attrs=='36547')\n",
    "  {\n",
    "    synonyms_disorder_spanish[[indice_list]]=data.frame(as.numeric(all_active_clinical_entities_spanish[[i]]$SynonymList$.attrs))\n",
    "    indice_list=indice_list+1\n",
    "  }\n",
    "synonyms_disorder_spanish=rbindlist(synonyms_disorder_spanish,use.names = TRUE)\n",
    "colnames(synonyms_disorder_spanish)=c('Number of synonyms')"
   ]
  },
  {
   "cell_type": "code",
   "execution_count": 160,
   "metadata": {},
   "outputs": [
    {
     "data": {
      "text/html": [
       "8916"
      ],
      "text/latex": [
       "8916"
      ],
      "text/markdown": [
       "8916"
      ],
      "text/plain": [
       "[1] 8916"
      ]
     },
     "metadata": {},
     "output_type": "display_data"
    }
   ],
   "source": [
    "# Number of synonyms for disorders in Spanish\n",
    "number_synonyms_disorder_spanish=sum(synonyms_disorder_spanish)\n",
    "number_synonyms_disorder_spanish"
   ]
  },
  {
   "cell_type": "code",
   "execution_count": 161,
   "metadata": {},
   "outputs": [
    {
     "data": {
      "text/html": [
       "76.3813929581084"
      ],
      "text/latex": [
       "76.3813929581084"
      ],
      "text/markdown": [
       "76.3813929581084"
      ],
      "text/plain": [
       "[1] 76.38139"
      ]
     },
     "metadata": {},
     "output_type": "display_data"
    }
   ],
   "source": [
    "### Percentage of synonyms for disorders in Spanish\n",
    "percentage_synonyms_disorder_spanish=number_synonyms_disorder_spanish/total_number_synonyms_spanish*100\n",
    "percentage_synonyms_disorder_spanish"
   ]
  },
  {
   "cell_type": "code",
   "execution_count": 162,
   "metadata": {},
   "outputs": [
    {
     "data": {
      "text/plain": [
       " Number of synonyms\n",
       " Min.   : 0.000    \n",
       " 1st Qu.: 0.000    \n",
       " Median : 1.000    \n",
       " Mean   : 1.432    \n",
       " 3rd Qu.: 2.000    \n",
       " Max.   :15.000    "
      ]
     },
     "metadata": {},
     "output_type": "display_data"
    }
   ],
   "source": [
    "# Statistics about disorder' synonyms in Spanish\n",
    "stats_synonyms_disorder_spanish=summary(synonyms_disorder_spanish)\n",
    "stats_synonyms_disorder_spanish"
   ]
  },
  {
   "cell_type": "code",
   "execution_count": 163,
   "metadata": {},
   "outputs": [],
   "source": [
    "### We look for the subtypes of disorder which have synonyms\n",
    "# The flag is \"36554\" for subtypes of disorder\n",
    "indice_list=1\n",
    "synonyms_subtype_spanish=list()\n",
    "for (i in 1:length(all_active_clinical_entities_spanish))\n",
    "  if (all_active_clinical_entities_spanish[[i]]$DisorderGroup$.attrs=='36554')\n",
    "  {\n",
    "    synonyms_subtype_spanish[[indice_list]]=data.frame(as.numeric(all_active_clinical_entities_spanish[[i]]$SynonymList$.attrs))\n",
    "    indice_list=indice_list+1\n",
    "  }\n",
    "synonyms_subtype_spanish=rbindlist(synonyms_subtype_spanish,use.names = TRUE)\n",
    "colnames(synonyms_subtype_spanish)=c('Number of synonyms')"
   ]
  },
  {
   "cell_type": "code",
   "execution_count": 164,
   "metadata": {},
   "outputs": [
    {
     "data": {
      "text/html": [
       "1589"
      ],
      "text/latex": [
       "1589"
      ],
      "text/markdown": [
       "1589"
      ],
      "text/plain": [
       "[1] 1589"
      ]
     },
     "metadata": {},
     "output_type": "display_data"
    }
   ],
   "source": [
    "# Number of synonyms for subtypes of disorders in Spanish\n",
    "number_synonyms_subtype_spanish=sum(synonyms_subtype_spanish)\n",
    "number_synonyms_subtype_spanish"
   ]
  },
  {
   "cell_type": "code",
   "execution_count": 165,
   "metadata": {},
   "outputs": [
    {
     "data": {
      "text/html": [
       "13.6126102972672"
      ],
      "text/latex": [
       "13.6126102972672"
      ],
      "text/markdown": [
       "13.6126102972672"
      ],
      "text/plain": [
       "[1] 13.61261"
      ]
     },
     "metadata": {},
     "output_type": "display_data"
    }
   ],
   "source": [
    "# Percentage of synonyms for subtypes of disorders in Spanish\n",
    "percentage_synonyms_subtype_spanish=number_synonyms_subtype_spanish/total_number_synonyms_spanish*100\n",
    "percentage_synonyms_subtype_spanish"
   ]
  },
  {
   "cell_type": "code",
   "execution_count": 166,
   "metadata": {},
   "outputs": [
    {
     "data": {
      "text/plain": [
       " Number of synonyms\n",
       " Min.   : 0.000    \n",
       " 1st Qu.: 0.000    \n",
       " Median : 1.000    \n",
       " Mean   : 1.567    \n",
       " 3rd Qu.: 2.000    \n",
       " Max.   :17.000    "
      ]
     },
     "metadata": {},
     "output_type": "display_data"
    }
   ],
   "source": [
    "# Statistics about subtypes of disorder's synonyms in Spanish\n",
    "stats_synonyms_subtype_spanish=summary(synonyms_subtype_spanish)\n",
    "stats_synonyms_subtype_spanish"
   ]
  },
  {
   "cell_type": "code",
   "execution_count": 167,
   "metadata": {},
   "outputs": [],
   "source": [
    "###############################################################################################\n",
    "\n",
    "\n",
    "##### Number of nomenclature terms (preferred terms + synonyms) in Spanish\n",
    "\n",
    "\n",
    "### We look for the groups of disorder which have preferred terms\n",
    "# The flag is \"36540\" for groups of disorder\n",
    "indice_list=1\n",
    "preferred_terms_group_spanish=list()\n",
    "for (i in 1:length(all_active_clinical_entities_spanish))\n",
    "  if (all_active_clinical_entities_spanish[[i]]$DisorderGroup$.attrs=='36540')\n",
    "  {\n",
    "    preferred_terms_group_spanish[[indice_list]]=data.frame(all_active_clinical_entities_spanish[[i]]$Name$text)\n",
    "    indice_list=indice_list+1\n",
    "  }\n",
    "preferred_terms_group_spanish=rbindlist(preferred_terms_group_spanish)\n",
    "preferred_terms_group_spanish=preferred_terms_group_spanish[!duplicated(preferred_terms_group_spanish)]\n",
    "names(preferred_terms_group_spanish)=c('Preferred_terms')"
   ]
  },
  {
   "cell_type": "code",
   "execution_count": 168,
   "metadata": {},
   "outputs": [],
   "source": [
    "# We look for the preferred terms present in English and Spanish\n",
    "egal_group_spanish=merge(preferred_terms_group,preferred_terms_group_spanish,by='Preferred_terms')"
   ]
  },
  {
   "cell_type": "code",
   "execution_count": 169,
   "metadata": {},
   "outputs": [
    {
     "data": {
      "text/html": [
       "2114"
      ],
      "text/latex": [
       "2114"
      ],
      "text/markdown": [
       "2114"
      ],
      "text/plain": [
       "[1] 2114"
      ]
     },
     "metadata": {},
     "output_type": "display_data"
    }
   ],
   "source": [
    "# Number of preferred terms for groups of disorder in Spanish\n",
    "number_preferred_terms_group_spanish=nrow(preferred_terms_group_spanish)-nrow(egal_group_spanish)\n",
    "number_preferred_terms_group_spanish"
   ]
  },
  {
   "cell_type": "code",
   "execution_count": 170,
   "metadata": {},
   "outputs": [
    {
     "data": {
      "text/html": [
       "3282"
      ],
      "text/latex": [
       "3282"
      ],
      "text/markdown": [
       "3282"
      ],
      "text/plain": [
       "[1] 3282"
      ]
     },
     "metadata": {},
     "output_type": "display_data"
    }
   ],
   "source": [
    "# Number of nomenclature terms (preferred terms + synonyms) for groups of disorders in Spanish\n",
    "number_nomenclature_terms_group_spanish=number_synonyms_group_spanish + number_preferred_terms_group_spanish\n",
    "number_nomenclature_terms_group_spanish"
   ]
  },
  {
   "cell_type": "code",
   "execution_count": 171,
   "metadata": {},
   "outputs": [],
   "source": [
    "### We look for the disorders which have preferred terms\n",
    "# The flag is \"36547\" for disorders\n",
    "indice_list=1\n",
    "preferred_terms_disorder_spanish=list()\n",
    "for (i in 1:length(all_active_clinical_entities_spanish))\n",
    "  if (all_active_clinical_entities_spanish[[i]]$DisorderGroup$.attrs=='36547')\n",
    "  {\n",
    "    preferred_terms_disorder_spanish[[indice_list]]=data.frame(all_active_clinical_entities_spanish[[i]]$Name$text)\n",
    "    indice_list=indice_list+1\n",
    "  }\n",
    "preferred_terms_disorder_spanish=rbindlist(preferred_terms_disorder_spanish)\n",
    "preferred_terms_disorder_spanish=preferred_terms_disorder_spanish[!duplicated(preferred_terms_disorder_spanish)]\n",
    "names(preferred_terms_disorder_spanish)=c('Preferred_terms')"
   ]
  },
  {
   "cell_type": "code",
   "execution_count": 172,
   "metadata": {},
   "outputs": [],
   "source": [
    "# We look for the preferred terms present in English and Spanish\n",
    "egal_disorder_spanish=merge(preferred_terms_disorder,preferred_terms_disorder_spanish,by='Preferred_terms')"
   ]
  },
  {
   "cell_type": "code",
   "execution_count": 173,
   "metadata": {},
   "outputs": [
    {
     "data": {
      "text/html": [
       "6076"
      ],
      "text/latex": [
       "6076"
      ],
      "text/markdown": [
       "6076"
      ],
      "text/plain": [
       "[1] 6076"
      ]
     },
     "metadata": {},
     "output_type": "display_data"
    }
   ],
   "source": [
    "# Number of preferred terms for disorders in Spanish\n",
    "number_preferred_terms_disorder_spanish=nrow(preferred_terms_disorder_spanish)-nrow(egal_disorder_spanish)\n",
    "number_preferred_terms_disorder_spanish"
   ]
  },
  {
   "cell_type": "code",
   "execution_count": 174,
   "metadata": {},
   "outputs": [
    {
     "data": {
      "text/html": [
       "14992"
      ],
      "text/latex": [
       "14992"
      ],
      "text/markdown": [
       "14992"
      ],
      "text/plain": [
       "[1] 14992"
      ]
     },
     "metadata": {},
     "output_type": "display_data"
    }
   ],
   "source": [
    "# Number of nomenclature terms (preferred terms + synonyms) for disorders in Spanish\n",
    "number_nomenclature_terms_disorder_spanish=number_synonyms_disorder_spanish + number_preferred_terms_disorder_spanish\n",
    "number_nomenclature_terms_disorder_spanish"
   ]
  },
  {
   "cell_type": "code",
   "execution_count": 175,
   "metadata": {},
   "outputs": [],
   "source": [
    "### We look for the subtypes of disorder which have preferred terms\n",
    "# The flag is \"36554\" for subtypes of disorder\n",
    "indice_list=1\n",
    "preferred_terms_subtype_spanish=list()\n",
    "for (i in 1:length(all_active_clinical_entities_spanish))\n",
    "  if (all_active_clinical_entities_spanish[[i]]$DisorderGroup$.attrs=='36554')\n",
    "  {\n",
    "    preferred_terms_subtype_spanish[[indice_list]]=data.frame(all_active_clinical_entities_spanish[[i]]$Name$text)\n",
    "    indice_list=indice_list+1\n",
    "  }\n",
    "preferred_terms_subtype_spanish=rbindlist(preferred_terms_subtype_spanish)\n",
    "preferred_terms_subtype_spanish=preferred_terms_subtype_spanish[!duplicated(preferred_terms_subtype_spanish)]\n",
    "names(preferred_terms_subtype_spanish)=c('Preferred_terms')"
   ]
  },
  {
   "cell_type": "code",
   "execution_count": 176,
   "metadata": {},
   "outputs": [],
   "source": [
    "# We look for the preferred terms present in English and Spanish\n",
    "egal_subtype_spanish=merge(preferred_terms_subtype,preferred_terms_subtype_spanish,by='Preferred_terms')"
   ]
  },
  {
   "cell_type": "code",
   "execution_count": 177,
   "metadata": {},
   "outputs": [
    {
     "data": {
      "text/html": [
       "1012"
      ],
      "text/latex": [
       "1012"
      ],
      "text/markdown": [
       "1012"
      ],
      "text/plain": [
       "[1] 1012"
      ]
     },
     "metadata": {},
     "output_type": "display_data"
    }
   ],
   "source": [
    "# Number of preferred terms for subtypes of disorder in Spanish\n",
    "number_preferred_terms_subtype_spanish=nrow(preferred_terms_subtype_spanish)-nrow(egal_subtype_spanish)\n",
    "number_preferred_terms_subtype_spanish"
   ]
  },
  {
   "cell_type": "code",
   "execution_count": 178,
   "metadata": {},
   "outputs": [
    {
     "data": {
      "text/html": [
       "2601"
      ],
      "text/latex": [
       "2601"
      ],
      "text/markdown": [
       "2601"
      ],
      "text/plain": [
       "[1] 2601"
      ]
     },
     "metadata": {},
     "output_type": "display_data"
    }
   ],
   "source": [
    "# Number of nomenclature terms (preferred terms + synonyms) for groups of disorders in Spanish\n",
    "number_nomenclature_terms_subtype_spanish=number_synonyms_subtype_spanish + number_preferred_terms_subtype_spanish\n",
    "number_nomenclature_terms_subtype_spanish"
   ]
  },
  {
   "cell_type": "code",
   "execution_count": 179,
   "metadata": {},
   "outputs": [
    {
     "data": {
      "text/html": [
       "20875"
      ],
      "text/latex": [
       "20875"
      ],
      "text/markdown": [
       "20875"
      ],
      "text/plain": [
       "[1] 20875"
      ]
     },
     "metadata": {},
     "output_type": "display_data"
    }
   ],
   "source": [
    "### Total number of nomenclature terms for active clinical entities in Spanish\n",
    "total_number_nomenclature_terms_spanish=number_nomenclature_terms_subtype_spanish + \n",
    "  number_nomenclature_terms_disorder_spanish +\n",
    "  number_nomenclature_terms_group_spanish\n",
    "total_number_nomenclature_terms_spanish"
   ]
  },
  {
   "cell_type": "code",
   "execution_count": 180,
   "metadata": {},
   "outputs": [],
   "source": [
    "######## PORTUGUESE #########\n",
    "\n",
    "# We work on the file with datas in Portuguese\n",
    "\n",
    "# We open xml \"product1_de_cross_jdbor_evo\"\n",
    "product1_portuguese=xmlParse(\"pt_product1.xml\")\n",
    "product1_portuguese=xmlToList(product1_portuguese)\n",
    "\n",
    "# We remove the last element of the list, which is the numeric count of all elements of the list\n",
    "product1_portuguese=product1_portuguese$DisorderList\n",
    "product1_portuguese=product1_portuguese[-length(product1_portuguese)]\n",
    "\n",
    "### Our list for working\n",
    "indice_list=1\n",
    "product_portuguese=list()\n",
    "for (i in 1:length(product1_portuguese))\n",
    "{\n",
    "  product_portuguese[[indice_list]]=product1_portuguese[[i]]\n",
    "  indice_list=indice_list+1\n",
    "}\n",
    "# Each element in the list is a disorder"
   ]
  },
  {
   "cell_type": "code",
   "execution_count": 181,
   "metadata": {},
   "outputs": [],
   "source": [
    "# We previously need to select the active clinical entities:\n",
    "# Head of classification (flag=128), Historical entities (flag=512) & On-line (flag=1)\n",
    "indice_list=1\n",
    "all_active_clinical_entities_portuguese=list()\n",
    "for (i in 1:length(product_portuguese))\n",
    "  if (product_portuguese[[i]]$DisorderFlagList$DisorderFlag$Value=='1' |\n",
    "      product_portuguese[[i]]$DisorderFlagList$DisorderFlag$Value=='128' |\n",
    "      product_portuguese[[i]]$DisorderFlagList$DisorderFlag$Value=='512')\n",
    "  {\n",
    "    all_active_clinical_entities_portuguese[[indice_list]]=product_portuguese[[i]]\n",
    "    indice_list=indice_list+1\n",
    "  }"
   ]
  },
  {
   "cell_type": "code",
   "execution_count": 182,
   "metadata": {},
   "outputs": [],
   "source": [
    "### We look for all the active clinical entities which have synonyms\n",
    "indice_list=1\n",
    "synonyms_total_portuguese=list()\n",
    "for (i in 1:length(all_active_clinical_entities_portuguese))\n",
    "{\n",
    "  synonyms_total_portuguese[[indice_list]]=data.frame(as.numeric(all_active_clinical_entities_portuguese[[i]]$SynonymList$.attrs))\n",
    "  indice_list=indice_list+1\n",
    "}\n",
    "synonyms_total_portuguese=rbindlist(synonyms_total_portuguese,use.names = TRUE)\n",
    "colnames(synonyms_total_portuguese)=c('Number of synonyms')"
   ]
  },
  {
   "cell_type": "code",
   "execution_count": 183,
   "metadata": {},
   "outputs": [
    {
     "data": {
      "text/html": [
       "3266"
      ],
      "text/latex": [
       "3266"
      ],
      "text/markdown": [
       "3266"
      ],
      "text/plain": [
       "[1] 3266"
      ]
     },
     "metadata": {},
     "output_type": "display_data"
    }
   ],
   "source": [
    "# Total number of synonyms in Portuguese\n",
    "total_number_synonyms_portuguese=sum(synonyms_total_portuguese)\n",
    "total_number_synonyms_portuguese"
   ]
  },
  {
   "cell_type": "code",
   "execution_count": 184,
   "metadata": {},
   "outputs": [
    {
     "data": {
      "text/plain": [
       " Number of synonyms\n",
       " Min.   :0.0000    \n",
       " 1st Qu.:0.0000    \n",
       " Median :0.0000    \n",
       " Mean   :0.3486    \n",
       " 3rd Qu.:0.0000    \n",
       " Max.   :9.0000    "
      ]
     },
     "metadata": {},
     "output_type": "display_data"
    }
   ],
   "source": [
    "# Statistics about all synonyms in Portuguese\n",
    "stats_total_synonyms_portuguese=summary(synonyms_total_portuguese)\n",
    "stats_total_synonyms_portuguese"
   ]
  },
  {
   "cell_type": "code",
   "execution_count": 185,
   "metadata": {},
   "outputs": [],
   "source": [
    "### We look for the groups of disorder which have synonyms\n",
    "# The flag is \"36540\" for groups of disorder\n",
    "indice_list=1\n",
    "synonyms_group_portuguese=list()\n",
    "for (i in 1:length(all_active_clinical_entities_portuguese))\n",
    "  if (all_active_clinical_entities_portuguese[[i]]$DisorderGroup$.attrs=='36540')\n",
    "  {\n",
    "    synonyms_group_portuguese[[indice_list]]=data.frame(as.numeric(all_active_clinical_entities_portuguese[[i]]$SynonymList$.attrs))\n",
    "    indice_list=indice_list+1\n",
    "  }\n",
    "synonyms_group_portuguese=rbindlist(synonyms_group_portuguese,use.names = TRUE)\n",
    "colnames(synonyms_group_portuguese)=c('Number of synonyms')"
   ]
  },
  {
   "cell_type": "code",
   "execution_count": 186,
   "metadata": {},
   "outputs": [
    {
     "data": {
      "text/html": [
       "166"
      ],
      "text/latex": [
       "166"
      ],
      "text/markdown": [
       "166"
      ],
      "text/plain": [
       "[1] 166"
      ]
     },
     "metadata": {},
     "output_type": "display_data"
    }
   ],
   "source": [
    "# Number of synonyms for groups of disorders in Portuguese\n",
    "number_synonyms_group_portuguese=sum(synonyms_group_portuguese)\n",
    "number_synonyms_group_portuguese"
   ]
  },
  {
   "cell_type": "code",
   "execution_count": 187,
   "metadata": {},
   "outputs": [
    {
     "data": {
      "text/html": [
       "5.08266993263931"
      ],
      "text/latex": [
       "5.08266993263931"
      ],
      "text/markdown": [
       "5.08266993263931"
      ],
      "text/plain": [
       "[1] 5.08267"
      ]
     },
     "metadata": {},
     "output_type": "display_data"
    }
   ],
   "source": [
    "# Percentage of synonyms for groups of disorders in Portuguese\n",
    "percentage_synonyms_group_portuguese=number_synonyms_group_portuguese/total_number_synonyms_portuguese*100\n",
    "percentage_synonyms_group_portuguese"
   ]
  },
  {
   "cell_type": "code",
   "execution_count": 188,
   "metadata": {},
   "outputs": [
    {
     "data": {
      "text/plain": [
       " Number of synonyms\n",
       " Min.   :0.00000   \n",
       " 1st Qu.:0.00000   \n",
       " Median :0.00000   \n",
       " Mean   :0.07801   \n",
       " 3rd Qu.:0.00000   \n",
       " Max.   :5.00000   "
      ]
     },
     "metadata": {},
     "output_type": "display_data"
    }
   ],
   "source": [
    "# Statistics about groups of disorder's synonyms in Portuguese\n",
    "stats_synonyms_group_portuguese=summary(synonyms_group_portuguese)\n",
    "stats_synonyms_group_portuguese"
   ]
  },
  {
   "cell_type": "code",
   "execution_count": 189,
   "metadata": {},
   "outputs": [],
   "source": [
    "### We look for the disorders which have synonyms\n",
    "# The flag is \"36547\" for disorders\n",
    "indice_list=1\n",
    "synonyms_disorder_portuguese=list()\n",
    "for (i in 1:length(all_active_clinical_entities_portuguese))\n",
    "  if (all_active_clinical_entities_portuguese[[i]]$DisorderGroup$.attrs=='36547')\n",
    "  {\n",
    "    synonyms_disorder_portuguese[[indice_list]]=data.frame(as.numeric(all_active_clinical_entities_portuguese[[i]]$SynonymList$.attrs))\n",
    "    indice_list=indice_list+1\n",
    "  }\n",
    "synonyms_disorder_portuguese=rbindlist(synonyms_disorder_portuguese,use.names = TRUE)\n",
    "colnames(synonyms_disorder_portuguese)=c('Number of synonyms')"
   ]
  },
  {
   "cell_type": "code",
   "execution_count": 190,
   "metadata": {},
   "outputs": [
    {
     "data": {
      "text/html": [
       "2763"
      ],
      "text/latex": [
       "2763"
      ],
      "text/markdown": [
       "2763"
      ],
      "text/plain": [
       "[1] 2763"
      ]
     },
     "metadata": {},
     "output_type": "display_data"
    }
   ],
   "source": [
    "# Number of synonyms for disorders in Portuguese\n",
    "number_synonyms_disorder_portuguese=sum(synonyms_disorder_portuguese)\n",
    "number_synonyms_disorder_portuguese"
   ]
  },
  {
   "cell_type": "code",
   "execution_count": 191,
   "metadata": {},
   "outputs": [
    {
     "data": {
      "text/html": [
       "84.5988977342315"
      ],
      "text/latex": [
       "84.5988977342315"
      ],
      "text/markdown": [
       "84.5988977342315"
      ],
      "text/plain": [
       "[1] 84.5989"
      ]
     },
     "metadata": {},
     "output_type": "display_data"
    }
   ],
   "source": [
    "### Percentage of synonyms for disorders in Portuguese\n",
    "percentage_synonyms_disorder_portuguese=number_synonyms_disorder_portuguese/total_number_synonyms_portuguese*100\n",
    "percentage_synonyms_disorder_portuguese"
   ]
  },
  {
   "cell_type": "code",
   "execution_count": 192,
   "metadata": {},
   "outputs": [
    {
     "data": {
      "text/plain": [
       " Number of synonyms\n",
       " Min.   :0.0000    \n",
       " 1st Qu.:0.0000    \n",
       " Median :0.0000    \n",
       " Mean   :0.4437    \n",
       " 3rd Qu.:1.0000    \n",
       " Max.   :9.0000    "
      ]
     },
     "metadata": {},
     "output_type": "display_data"
    }
   ],
   "source": [
    "# Statistics about disorder' synonyms in Portuguese\n",
    "stats_synonyms_disorder_portuguese=summary(synonyms_disorder_portuguese)\n",
    "stats_synonyms_disorder_portuguese"
   ]
  },
  {
   "cell_type": "code",
   "execution_count": 193,
   "metadata": {},
   "outputs": [],
   "source": [
    "### We look for the subtypes of disorder which have synonyms\n",
    "# The flag is \"36554\" for subtypes of disorder\n",
    "indice_list=1\n",
    "synonyms_subtype_portuguese=list()\n",
    "for (i in 1:length(all_active_clinical_entities_portuguese))\n",
    "  if (all_active_clinical_entities_portuguese[[i]]$DisorderGroup$.attrs=='36554')\n",
    "  {\n",
    "    synonyms_subtype_portuguese[[indice_list]]=data.frame(as.numeric(all_active_clinical_entities_portuguese[[i]]$SynonymList$.attrs))\n",
    "    indice_list=indice_list+1\n",
    "  }\n",
    "synonyms_subtype_portuguese=rbindlist(synonyms_subtype_portuguese,use.names = TRUE)\n",
    "colnames(synonyms_subtype_portuguese)=c('Number of synonyms')"
   ]
  },
  {
   "cell_type": "code",
   "execution_count": 194,
   "metadata": {},
   "outputs": [
    {
     "data": {
      "text/html": [
       "337"
      ],
      "text/latex": [
       "337"
      ],
      "text/markdown": [
       "337"
      ],
      "text/plain": [
       "[1] 337"
      ]
     },
     "metadata": {},
     "output_type": "display_data"
    }
   ],
   "source": [
    "# Number of synonyms for subtypes of disorders in Portuguese\n",
    "number_synonyms_subtype_portuguese=sum(synonyms_subtype_portuguese)\n",
    "number_synonyms_subtype_portuguese"
   ]
  },
  {
   "cell_type": "code",
   "execution_count": 195,
   "metadata": {},
   "outputs": [
    {
     "data": {
      "text/html": [
       "10.3184323331292"
      ],
      "text/latex": [
       "10.3184323331292"
      ],
      "text/markdown": [
       "10.3184323331292"
      ],
      "text/plain": [
       "[1] 10.31843"
      ]
     },
     "metadata": {},
     "output_type": "display_data"
    }
   ],
   "source": [
    "# Percentage of synonyms for subtypes of disorders in Portuguese\n",
    "percentage_synonyms_subtype_portuguese=number_synonyms_subtype_portuguese/total_number_synonyms_portuguese*100\n",
    "percentage_synonyms_subtype_portuguese"
   ]
  },
  {
   "cell_type": "code",
   "execution_count": 196,
   "metadata": {},
   "outputs": [
    {
     "data": {
      "text/plain": [
       " Number of synonyms\n",
       " Min.   :0.0000    \n",
       " 1st Qu.:0.0000    \n",
       " Median :0.0000    \n",
       " Mean   :0.3323    \n",
       " 3rd Qu.:0.0000    \n",
       " Max.   :5.0000    "
      ]
     },
     "metadata": {},
     "output_type": "display_data"
    }
   ],
   "source": [
    "# Statistics about subtypes of disorder's synonyms in Portuguese\n",
    "stats_synonyms_subtype_portuguese=summary(synonyms_subtype_portuguese)\n",
    "stats_synonyms_subtype_portuguese"
   ]
  },
  {
   "cell_type": "code",
   "execution_count": 197,
   "metadata": {},
   "outputs": [],
   "source": [
    "###############################################################################################\n",
    "\n",
    "\n",
    "##### Number of nomenclature terms (preferred terms + synonyms) in Portuguese\n",
    "\n",
    "\n",
    "### We look for the groups of disorder which have preferred terms\n",
    "# The flag is \"36540\" for groups of disorder\n",
    "indice_list=1\n",
    "preferred_terms_group_portuguese=list()\n",
    "for (i in 1:length(all_active_clinical_entities_portuguese))\n",
    "  if (all_active_clinical_entities_portuguese[[i]]$DisorderGroup$.attrs=='36540')\n",
    "  {\n",
    "    preferred_terms_group_portuguese[[indice_list]]=data.frame(all_active_clinical_entities_portuguese[[i]]$Name$text)\n",
    "    indice_list=indice_list+1\n",
    "  }\n",
    "preferred_terms_group_portuguese=rbindlist(preferred_terms_group_portuguese)\n",
    "preferred_terms_group_portuguese=preferred_terms_group_portuguese[!duplicated(preferred_terms_group_portuguese)]\n",
    "names(preferred_terms_group_portuguese)=c('Preferred_terms')"
   ]
  },
  {
   "cell_type": "code",
   "execution_count": 198,
   "metadata": {},
   "outputs": [],
   "source": [
    "# We look for the preferred terms present in English and Portuguese\n",
    "egal_group_portuguese=merge(preferred_terms_group,preferred_terms_group_portuguese,by='Preferred_terms')"
   ]
  },
  {
   "cell_type": "code",
   "execution_count": 199,
   "metadata": {},
   "outputs": [
    {
     "data": {
      "text/html": [
       "2116"
      ],
      "text/latex": [
       "2116"
      ],
      "text/markdown": [
       "2116"
      ],
      "text/plain": [
       "[1] 2116"
      ]
     },
     "metadata": {},
     "output_type": "display_data"
    }
   ],
   "source": [
    "# Number of preferred terms for groups of disorder in Portuguese\n",
    "number_preferred_terms_group_portuguese=nrow(preferred_terms_group_portuguese)-nrow(egal_group_portuguese)\n",
    "number_preferred_terms_group_portuguese"
   ]
  },
  {
   "cell_type": "code",
   "execution_count": 200,
   "metadata": {},
   "outputs": [
    {
     "data": {
      "text/html": [
       "2282"
      ],
      "text/latex": [
       "2282"
      ],
      "text/markdown": [
       "2282"
      ],
      "text/plain": [
       "[1] 2282"
      ]
     },
     "metadata": {},
     "output_type": "display_data"
    }
   ],
   "source": [
    "# Number of nomenclature terms (preferred terms + synonyms) for groups of disorders in Portuguese\n",
    "number_nomenclature_terms_group_portuguese=number_synonyms_group_portuguese + number_preferred_terms_group_portuguese\n",
    "number_nomenclature_terms_group_portuguese"
   ]
  },
  {
   "cell_type": "code",
   "execution_count": 201,
   "metadata": {},
   "outputs": [],
   "source": [
    "### We look for the disorders which have preferred terms\n",
    "# The flag is \"36547\" for disorders\n",
    "indice_list=1\n",
    "preferred_terms_disorder_portuguese=list()\n",
    "for (i in 1:length(all_active_clinical_entities_portuguese))\n",
    "  if (all_active_clinical_entities_portuguese[[i]]$DisorderGroup$.attrs=='36547')\n",
    "  {\n",
    "    preferred_terms_disorder_portuguese[[indice_list]]=data.frame(all_active_clinical_entities_portuguese[[i]]$Name$text)\n",
    "    indice_list=indice_list+1\n",
    "  }\n",
    "preferred_terms_disorder_portuguese=rbindlist(preferred_terms_disorder_portuguese)\n",
    "preferred_terms_disorder_portuguese=preferred_terms_disorder_portuguese[!duplicated(preferred_terms_disorder_portuguese)]\n",
    "names(preferred_terms_disorder_portuguese)=c('Preferred_terms')"
   ]
  },
  {
   "cell_type": "code",
   "execution_count": 202,
   "metadata": {},
   "outputs": [],
   "source": [
    "# We look for the preferred terms present in English and Portuguese\n",
    "egal_disorder_portuguese=merge(preferred_terms_disorder,preferred_terms_disorder_portuguese,by='Preferred_terms')"
   ]
  },
  {
   "cell_type": "code",
   "execution_count": 203,
   "metadata": {},
   "outputs": [
    {
     "data": {
      "text/html": [
       "6145"
      ],
      "text/latex": [
       "6145"
      ],
      "text/markdown": [
       "6145"
      ],
      "text/plain": [
       "[1] 6145"
      ]
     },
     "metadata": {},
     "output_type": "display_data"
    }
   ],
   "source": [
    "# Number of preferred terms for disorders in Portuguese\n",
    "number_preferred_terms_disorder_portuguese=nrow(preferred_terms_disorder_portuguese)-nrow(egal_disorder_portuguese)\n",
    "number_preferred_terms_disorder_portuguese"
   ]
  },
  {
   "cell_type": "code",
   "execution_count": 204,
   "metadata": {},
   "outputs": [
    {
     "data": {
      "text/html": [
       "8908"
      ],
      "text/latex": [
       "8908"
      ],
      "text/markdown": [
       "8908"
      ],
      "text/plain": [
       "[1] 8908"
      ]
     },
     "metadata": {},
     "output_type": "display_data"
    }
   ],
   "source": [
    "# Number of nomenclature terms (preferred terms + synonyms) for disorders in Portuguese\n",
    "number_nomenclature_terms_disorder_portuguese=number_synonyms_disorder_portuguese + number_preferred_terms_disorder_portuguese\n",
    "number_nomenclature_terms_disorder_portuguese"
   ]
  },
  {
   "cell_type": "code",
   "execution_count": 205,
   "metadata": {},
   "outputs": [],
   "source": [
    "### We look for the subtypes of disorder which have preferred terms\n",
    "# The flag is \"36554\" for subtypes of disorder\n",
    "indice_list=1\n",
    "preferred_terms_subtype_portuguese=list()\n",
    "for (i in 1:length(all_active_clinical_entities_portuguese))\n",
    "  if (all_active_clinical_entities_portuguese[[i]]$DisorderGroup$.attrs=='36554')\n",
    "  {\n",
    "    preferred_terms_subtype_portuguese[[indice_list]]=data.frame(all_active_clinical_entities_portuguese[[i]]$Name$text)\n",
    "    indice_list=indice_list+1\n",
    "  }\n",
    "preferred_terms_subtype_portuguese=rbindlist(preferred_terms_subtype_portuguese)\n",
    "preferred_terms_subtype_portuguese=preferred_terms_subtype_portuguese[!duplicated(preferred_terms_subtype_portuguese)]\n",
    "names(preferred_terms_subtype_portuguese)=c('Preferred_terms')"
   ]
  },
  {
   "cell_type": "code",
   "execution_count": 206,
   "metadata": {},
   "outputs": [],
   "source": [
    "# We look for the preferred terms present in English and Portuguese\n",
    "egal_subtype_portuguese=merge(preferred_terms_subtype,preferred_terms_subtype_portuguese,by='Preferred_terms')"
   ]
  },
  {
   "cell_type": "code",
   "execution_count": 207,
   "metadata": {},
   "outputs": [
    {
     "data": {
      "text/html": [
       "1012"
      ],
      "text/latex": [
       "1012"
      ],
      "text/markdown": [
       "1012"
      ],
      "text/plain": [
       "[1] 1012"
      ]
     },
     "metadata": {},
     "output_type": "display_data"
    }
   ],
   "source": [
    "# Number of preferred terms for subtypes of disorder in Portuguese\n",
    "number_preferred_terms_subtype_portuguese=nrow(preferred_terms_subtype_portuguese)-nrow(egal_subtype_portuguese)\n",
    "number_preferred_terms_subtype_portuguese"
   ]
  },
  {
   "cell_type": "code",
   "execution_count": 208,
   "metadata": {},
   "outputs": [
    {
     "data": {
      "text/html": [
       "1349"
      ],
      "text/latex": [
       "1349"
      ],
      "text/markdown": [
       "1349"
      ],
      "text/plain": [
       "[1] 1349"
      ]
     },
     "metadata": {},
     "output_type": "display_data"
    }
   ],
   "source": [
    "# Number of nomenclature terms (preferred terms + synonyms) for groups of disorders in Portuguese\n",
    "number_nomenclature_terms_subtype_portuguese=number_synonyms_subtype_portuguese + number_preferred_terms_subtype_portuguese\n",
    "number_nomenclature_terms_subtype_portuguese"
   ]
  },
  {
   "cell_type": "code",
   "execution_count": 209,
   "metadata": {},
   "outputs": [
    {
     "data": {
      "text/html": [
       "12539"
      ],
      "text/latex": [
       "12539"
      ],
      "text/markdown": [
       "12539"
      ],
      "text/plain": [
       "[1] 12539"
      ]
     },
     "metadata": {},
     "output_type": "display_data"
    }
   ],
   "source": [
    "### Total number of nomenclature terms for active clinical entities in Portuguese\n",
    "total_number_nomenclature_terms_portuguese=number_nomenclature_terms_subtype_portuguese + \n",
    "  number_nomenclature_terms_disorder_portuguese +\n",
    "  number_nomenclature_terms_group_portuguese\n",
    "total_number_nomenclature_terms_portuguese"
   ]
  },
  {
   "cell_type": "code",
   "execution_count": 210,
   "metadata": {},
   "outputs": [],
   "source": [
    "######## POLISH #########\n",
    "\n",
    "# We work on the file with datas in Polish\n",
    "\n",
    "# We open xml \"product1_de_cross_jdbor_evo\"\n",
    "# We set folder & direction\n",
    "product1_polish=xmlParse(\"pl_product1.xml\")\n",
    "product1_polish=xmlToList(product1_polish)\n",
    "\n",
    "# We remove the last element of the list, which is the numeric count of all elements of the list\n",
    "product1_polish=product1_polish$DisorderList\n",
    "product1_polish=product1_polish[-length(product1_polish)]\n",
    "\n",
    "### Our list for working\n",
    "indice_list=1\n",
    "product_polish=list()\n",
    "for (i in 1:length(product1_polish))\n",
    "{\n",
    "  product_polish[[indice_list]]=product1_polish[[i]]\n",
    "  indice_list=indice_list+1\n",
    "}\n",
    "# Each element in the list is a disorder"
   ]
  },
  {
   "cell_type": "code",
   "execution_count": 211,
   "metadata": {},
   "outputs": [],
   "source": [
    "# We previously need to select the active clinical entities:\n",
    "# Head of classification (flag=128), Historical entities (flag=512) & On-line (flag=1)\n",
    "indice_list=1\n",
    "all_active_clinical_entities_polish=list()\n",
    "for (i in 1:length(product_polish))\n",
    "  if (product_polish[[i]]$DisorderFlagList$DisorderFlag$Value=='1' |\n",
    "      product_polish[[i]]$DisorderFlagList$DisorderFlag$Value=='128' |\n",
    "      product_polish[[i]]$DisorderFlagList$DisorderFlag$Value=='512')\n",
    "  {\n",
    "    all_active_clinical_entities_polish[[indice_list]]=product_polish[[i]]\n",
    "    indice_list=indice_list+1\n",
    "  }"
   ]
  },
  {
   "cell_type": "code",
   "execution_count": 212,
   "metadata": {},
   "outputs": [],
   "source": [
    "### We look for all the active clinical entities which have synonyms\n",
    "indice_list=1\n",
    "synonyms_total_polish=list()\n",
    "for (i in 1:length(all_active_clinical_entities_polish))\n",
    "{\n",
    "  synonyms_total_polish[[indice_list]]=data.frame(as.numeric(all_active_clinical_entities_polish[[i]]$SynonymList$.attrs))\n",
    "  indice_list=indice_list+1\n",
    "}\n",
    "synonyms_total_polish=rbindlist(synonyms_total_polish,use.names = TRUE)\n",
    "colnames(synonyms_total_polish)=c('Number of synonyms')"
   ]
  },
  {
   "cell_type": "code",
   "execution_count": 213,
   "metadata": {},
   "outputs": [
    {
     "data": {
      "text/html": [
       "11880"
      ],
      "text/latex": [
       "11880"
      ],
      "text/markdown": [
       "11880"
      ],
      "text/plain": [
       "[1] 11880"
      ]
     },
     "metadata": {},
     "output_type": "display_data"
    }
   ],
   "source": [
    "# Total number of synonyms in Polish\n",
    "total_number_synonyms_polish=sum(synonyms_total_polish)\n",
    "total_number_synonyms_polish"
   ]
  },
  {
   "cell_type": "code",
   "execution_count": 214,
   "metadata": {},
   "outputs": [
    {
     "data": {
      "text/plain": [
       " Number of synonyms\n",
       " Min.   : 0.000    \n",
       " 1st Qu.: 0.000    \n",
       " Median : 1.000    \n",
       " Mean   : 1.268    \n",
       " 3rd Qu.: 2.000    \n",
       " Max.   :15.000    "
      ]
     },
     "metadata": {},
     "output_type": "display_data"
    }
   ],
   "source": [
    "# Statistics about all synonyms in Polish\n",
    "stats_total_synonyms_polish=summary(synonyms_total_polish)\n",
    "stats_total_synonyms_polish"
   ]
  },
  {
   "cell_type": "code",
   "execution_count": 215,
   "metadata": {},
   "outputs": [],
   "source": [
    "### We look for the groups of disorder which have synonyms\n",
    "# The flag is \"36540\" for groups of disorder\n",
    "indice_list=1\n",
    "synonyms_group_polish=list()\n",
    "for (i in 1:length(all_active_clinical_entities_polish))\n",
    "  if (all_active_clinical_entities_polish[[i]]$DisorderGroup$.attrs=='36540')\n",
    "  {\n",
    "    synonyms_group_polish[[indice_list]]=data.frame(as.numeric(all_active_clinical_entities_polish[[i]]$SynonymList$.attrs))\n",
    "    indice_list=indice_list+1\n",
    "  }\n",
    "synonyms_group_polish=rbindlist(synonyms_group_polish,use.names = TRUE)\n",
    "colnames(synonyms_group_polish)=c('Number of synonyms')"
   ]
  },
  {
   "cell_type": "code",
   "execution_count": 216,
   "metadata": {},
   "outputs": [
    {
     "data": {
      "text/html": [
       "1215"
      ],
      "text/latex": [
       "1215"
      ],
      "text/markdown": [
       "1215"
      ],
      "text/plain": [
       "[1] 1215"
      ]
     },
     "metadata": {},
     "output_type": "display_data"
    }
   ],
   "source": [
    "# Number of synonyms for groups of disorders in Polish\n",
    "number_synonyms_group_polish=sum(synonyms_group_polish)\n",
    "number_synonyms_group_polish"
   ]
  },
  {
   "cell_type": "code",
   "execution_count": 217,
   "metadata": {},
   "outputs": [
    {
     "data": {
      "text/html": [
       "10.2272727272727"
      ],
      "text/latex": [
       "10.2272727272727"
      ],
      "text/markdown": [
       "10.2272727272727"
      ],
      "text/plain": [
       "[1] 10.22727"
      ]
     },
     "metadata": {},
     "output_type": "display_data"
    }
   ],
   "source": [
    "# Percentage of synonyms for groups of disorders in Polish\n",
    "percentage_synonyms_group_polish=number_synonyms_group_polish/total_number_synonyms_polish*100\n",
    "percentage_synonyms_group_polish"
   ]
  },
  {
   "cell_type": "code",
   "execution_count": 218,
   "metadata": {},
   "outputs": [
    {
     "data": {
      "text/plain": [
       " Number of synonyms\n",
       " Min.   :0.000     \n",
       " 1st Qu.:0.000     \n",
       " Median :0.000     \n",
       " Mean   :0.571     \n",
       " 3rd Qu.:1.000     \n",
       " Max.   :9.000     "
      ]
     },
     "metadata": {},
     "output_type": "display_data"
    }
   ],
   "source": [
    "# Statistics about groups of disorder's synonyms in Polish\n",
    "stats_synonyms_group_polish=summary(synonyms_group_polish)\n",
    "stats_synonyms_group_polish"
   ]
  },
  {
   "cell_type": "code",
   "execution_count": 219,
   "metadata": {},
   "outputs": [],
   "source": [
    "### We look for the disorders which have synonyms\n",
    "# The flag is \"36547\" for disorders\n",
    "indice_list=1\n",
    "synonyms_disorder_polish=list()\n",
    "for (i in 1:length(all_active_clinical_entities_polish))\n",
    "  if (all_active_clinical_entities_polish[[i]]$DisorderGroup$.attrs=='36547')\n",
    "  {\n",
    "    synonyms_disorder_polish[[indice_list]]=data.frame(as.numeric(all_active_clinical_entities_polish[[i]]$SynonymList$.attrs))\n",
    "    indice_list=indice_list+1\n",
    "  }\n",
    "synonyms_disorder_polish=rbindlist(synonyms_disorder_polish,use.names = TRUE)\n",
    "colnames(synonyms_disorder_polish)=c('Number of synonyms')"
   ]
  },
  {
   "cell_type": "code",
   "execution_count": 220,
   "metadata": {},
   "outputs": [
    {
     "data": {
      "text/html": [
       "9075"
      ],
      "text/latex": [
       "9075"
      ],
      "text/markdown": [
       "9075"
      ],
      "text/plain": [
       "[1] 9075"
      ]
     },
     "metadata": {},
     "output_type": "display_data"
    }
   ],
   "source": [
    "# Number of synonyms for disorders in Polish\n",
    "number_synonyms_disorder_polish=sum(synonyms_disorder_polish)\n",
    "number_synonyms_disorder_polish"
   ]
  },
  {
   "cell_type": "code",
   "execution_count": 221,
   "metadata": {},
   "outputs": [
    {
     "data": {
      "text/html": [
       "76.3888888888889"
      ],
      "text/latex": [
       "76.3888888888889"
      ],
      "text/markdown": [
       "76.3888888888889"
      ],
      "text/plain": [
       "[1] 76.38889"
      ]
     },
     "metadata": {},
     "output_type": "display_data"
    }
   ],
   "source": [
    "### Percentage of synonyms for disorders in Polish\n",
    "percentage_synonyms_disorder_polish=number_synonyms_disorder_polish/total_number_synonyms_polish*100\n",
    "percentage_synonyms_disorder_polish"
   ]
  },
  {
   "cell_type": "code",
   "execution_count": 222,
   "metadata": {},
   "outputs": [
    {
     "data": {
      "text/plain": [
       " Number of synonyms\n",
       " Min.   : 0.000    \n",
       " 1st Qu.: 0.000    \n",
       " Median : 1.000    \n",
       " Mean   : 1.457    \n",
       " 3rd Qu.: 2.000    \n",
       " Max.   :15.000    "
      ]
     },
     "metadata": {},
     "output_type": "display_data"
    }
   ],
   "source": [
    "# Statistics about disorder' synonyms in Polish\n",
    "stats_synonyms_disorder_polish=summary(synonyms_disorder_polish)\n",
    "stats_synonyms_disorder_polish"
   ]
  },
  {
   "cell_type": "code",
   "execution_count": 223,
   "metadata": {},
   "outputs": [],
   "source": [
    "### We look for the subtypes of disorder which have synonyms\n",
    "# The flag is \"36554\" for subtypes of disorder\n",
    "indice_list=1\n",
    "synonyms_subtype_polish=list()\n",
    "for (i in 1:length(all_active_clinical_entities_polish))\n",
    "  if (all_active_clinical_entities_polish[[i]]$DisorderGroup$.attrs=='36554')\n",
    "  {\n",
    "    synonyms_subtype_polish[[indice_list]]=data.frame(as.numeric(all_active_clinical_entities_polish[[i]]$SynonymList$.attrs))\n",
    "    indice_list=indice_list+1\n",
    "  }\n",
    "synonyms_subtype_polish=rbindlist(synonyms_subtype_polish,use.names = TRUE)\n",
    "colnames(synonyms_subtype_polish)=c('Number of synonyms')"
   ]
  },
  {
   "cell_type": "code",
   "execution_count": 224,
   "metadata": {},
   "outputs": [
    {
     "data": {
      "text/html": [
       "1590"
      ],
      "text/latex": [
       "1590"
      ],
      "text/markdown": [
       "1590"
      ],
      "text/plain": [
       "[1] 1590"
      ]
     },
     "metadata": {},
     "output_type": "display_data"
    }
   ],
   "source": [
    "# Number of synonyms for subtypes of disorders in Polish\n",
    "number_synonyms_subtype_polish=sum(synonyms_subtype_polish)\n",
    "number_synonyms_subtype_polish"
   ]
  },
  {
   "cell_type": "code",
   "execution_count": 225,
   "metadata": {},
   "outputs": [
    {
     "data": {
      "text/html": [
       "13.3838383838384"
      ],
      "text/latex": [
       "13.3838383838384"
      ],
      "text/markdown": [
       "13.3838383838384"
      ],
      "text/plain": [
       "[1] 13.38384"
      ]
     },
     "metadata": {},
     "output_type": "display_data"
    }
   ],
   "source": [
    "# Percentage of synonyms for subtypes of disorders in Polish\n",
    "percentage_synonyms_subtype_polish=number_synonyms_subtype_polish/total_number_synonyms_polish*100\n",
    "percentage_synonyms_subtype_polish"
   ]
  },
  {
   "cell_type": "code",
   "execution_count": 226,
   "metadata": {},
   "outputs": [
    {
     "data": {
      "text/plain": [
       " Number of synonyms\n",
       " Min.   : 0.000    \n",
       " 1st Qu.: 0.000    \n",
       " Median : 1.000    \n",
       " Mean   : 1.568    \n",
       " 3rd Qu.: 2.000    \n",
       " Max.   :13.000    "
      ]
     },
     "metadata": {},
     "output_type": "display_data"
    }
   ],
   "source": [
    "# Statistics about subtypes of disorder's synonyms in Polish\n",
    "stats_synonyms_subtype_polish=summary(synonyms_subtype_polish)\n",
    "stats_synonyms_subtype_polish"
   ]
  },
  {
   "cell_type": "code",
   "execution_count": 227,
   "metadata": {},
   "outputs": [],
   "source": [
    "###############################################################################################\n",
    "\n",
    "\n",
    "##### Number of nomenclature terms (preferred terms + synonyms) in Polish\n",
    "\n",
    "\n",
    "### We look for the groups of disorder which have preferred terms\n",
    "# The flag is \"36540\" for groups of disorder\n",
    "indice_list=1\n",
    "preferred_terms_group_polish=list()\n",
    "for (i in 1:length(all_active_clinical_entities_polish))\n",
    "  if (all_active_clinical_entities_polish[[i]]$DisorderGroup$.attrs=='36540')\n",
    "  {\n",
    "    preferred_terms_group_polish[[indice_list]]=data.frame(all_active_clinical_entities_polish[[i]]$Name$text)\n",
    "    indice_list=indice_list+1\n",
    "  }\n",
    "preferred_terms_group_polish=rbindlist(preferred_terms_group_polish)\n",
    "preferred_terms_group_polish=preferred_terms_group_polish[!duplicated(preferred_terms_group_polish)]\n",
    "names(preferred_terms_group_polish)=c('Preferred_terms')"
   ]
  },
  {
   "cell_type": "code",
   "execution_count": 228,
   "metadata": {},
   "outputs": [],
   "source": [
    "# We look for the preferred terms present in English and Polish\n",
    "egal_group_polish=merge(preferred_terms_group,preferred_terms_group_polish,by='Preferred_terms')"
   ]
  },
  {
   "cell_type": "code",
   "execution_count": 229,
   "metadata": {},
   "outputs": [
    {
     "data": {
      "text/html": [
       "2108"
      ],
      "text/latex": [
       "2108"
      ],
      "text/markdown": [
       "2108"
      ],
      "text/plain": [
       "[1] 2108"
      ]
     },
     "metadata": {},
     "output_type": "display_data"
    }
   ],
   "source": [
    "# Number of preferred terms for groups of disorder in Polish\n",
    "number_preferred_terms_group_polish=nrow(preferred_terms_group_polish)-nrow(egal_group_polish)\n",
    "number_preferred_terms_group_polish"
   ]
  },
  {
   "cell_type": "code",
   "execution_count": 230,
   "metadata": {},
   "outputs": [
    {
     "data": {
      "text/html": [
       "3323"
      ],
      "text/latex": [
       "3323"
      ],
      "text/markdown": [
       "3323"
      ],
      "text/plain": [
       "[1] 3323"
      ]
     },
     "metadata": {},
     "output_type": "display_data"
    }
   ],
   "source": [
    "# Number of nomenclature terms (preferred terms + synonyms) for groups of disorders in Polish\n",
    "number_nomenclature_terms_group_polish=number_synonyms_group_polish + number_preferred_terms_group_polish\n",
    "number_nomenclature_terms_group_polish"
   ]
  },
  {
   "cell_type": "code",
   "execution_count": 231,
   "metadata": {},
   "outputs": [],
   "source": [
    "### We look for the disorders which have preferred terms\n",
    "# The flag is \"36547\" for disorders\n",
    "indice_list=1\n",
    "preferred_terms_disorder_polish=list()\n",
    "for (i in 1:length(all_active_clinical_entities_polish))\n",
    "  if (all_active_clinical_entities_polish[[i]]$DisorderGroup$.attrs=='36547')\n",
    "  {\n",
    "    preferred_terms_disorder_polish[[indice_list]]=data.frame(all_active_clinical_entities_polish[[i]]$Name$text)\n",
    "    indice_list=indice_list+1\n",
    "  }\n",
    "preferred_terms_disorder_polish=rbindlist(preferred_terms_disorder_polish)\n",
    "preferred_terms_disorder_polish=preferred_terms_disorder_polish[!duplicated(preferred_terms_disorder_polish)]\n",
    "names(preferred_terms_disorder_polish)=c('Preferred_terms')"
   ]
  },
  {
   "cell_type": "code",
   "execution_count": 232,
   "metadata": {},
   "outputs": [],
   "source": [
    "# We look for the preferred terms present in English and Polish\n",
    "egal_disorder_polish=merge(preferred_terms_disorder,preferred_terms_disorder_polish,by='Preferred_terms')"
   ]
  },
  {
   "cell_type": "code",
   "execution_count": 233,
   "metadata": {},
   "outputs": [
    {
     "data": {
      "text/html": [
       "6093"
      ],
      "text/latex": [
       "6093"
      ],
      "text/markdown": [
       "6093"
      ],
      "text/plain": [
       "[1] 6093"
      ]
     },
     "metadata": {},
     "output_type": "display_data"
    }
   ],
   "source": [
    "# Number of preferred terms for disorders in Polish\n",
    "number_preferred_terms_disorder_polish=nrow(preferred_terms_disorder_polish)-nrow(egal_disorder_polish)\n",
    "number_preferred_terms_disorder_polish"
   ]
  },
  {
   "cell_type": "code",
   "execution_count": 234,
   "metadata": {},
   "outputs": [
    {
     "data": {
      "text/html": [
       "15168"
      ],
      "text/latex": [
       "15168"
      ],
      "text/markdown": [
       "15168"
      ],
      "text/plain": [
       "[1] 15168"
      ]
     },
     "metadata": {},
     "output_type": "display_data"
    }
   ],
   "source": [
    "# Number of nomenclature terms (preferred terms + synonyms) for disorders in Polish\n",
    "number_nomenclature_terms_disorder_polish=number_synonyms_disorder_polish + number_preferred_terms_disorder_polish\n",
    "number_nomenclature_terms_disorder_polish"
   ]
  },
  {
   "cell_type": "code",
   "execution_count": 235,
   "metadata": {},
   "outputs": [],
   "source": [
    "### We look for the subtypes of disorder which have preferred terms\n",
    "# The flag is \"36554\" for subtypes of disorder\n",
    "indice_list=1\n",
    "preferred_terms_subtype_polish=list()\n",
    "for (i in 1:length(all_active_clinical_entities_polish))\n",
    "  if (all_active_clinical_entities_polish[[i]]$DisorderGroup$.attrs=='36554')\n",
    "  {\n",
    "    preferred_terms_subtype_polish[[indice_list]]=data.frame(all_active_clinical_entities_polish[[i]]$Name$text)\n",
    "    indice_list=indice_list+1\n",
    "  }\n",
    "preferred_terms_subtype_polish=rbindlist(preferred_terms_subtype_polish)\n",
    "preferred_terms_subtype_polish=preferred_terms_subtype_polish[!duplicated(preferred_terms_subtype_polish)]\n",
    "names(preferred_terms_subtype_polish)=c('Preferred_terms')"
   ]
  },
  {
   "cell_type": "code",
   "execution_count": 236,
   "metadata": {},
   "outputs": [],
   "source": [
    "# We look for the preferred terms present in English and Polish\n",
    "egal_subtype_polish=merge(preferred_terms_subtype,preferred_terms_subtype_polish,by='Preferred_terms')"
   ]
  },
  {
   "cell_type": "code",
   "execution_count": 237,
   "metadata": {},
   "outputs": [
    {
     "data": {
      "text/html": [
       "1001"
      ],
      "text/latex": [
       "1001"
      ],
      "text/markdown": [
       "1001"
      ],
      "text/plain": [
       "[1] 1001"
      ]
     },
     "metadata": {},
     "output_type": "display_data"
    }
   ],
   "source": [
    "# Number of preferred terms for subtypes of disorder in Polish\n",
    "number_preferred_terms_subtype_polish=nrow(preferred_terms_subtype_polish)-nrow(egal_subtype_polish)\n",
    "number_preferred_terms_subtype_polish"
   ]
  },
  {
   "cell_type": "code",
   "execution_count": 238,
   "metadata": {},
   "outputs": [
    {
     "data": {
      "text/html": [
       "2591"
      ],
      "text/latex": [
       "2591"
      ],
      "text/markdown": [
       "2591"
      ],
      "text/plain": [
       "[1] 2591"
      ]
     },
     "metadata": {},
     "output_type": "display_data"
    }
   ],
   "source": [
    "# Number of nomenclature terms (preferred terms + synonyms) for groups of disorders in Polish\n",
    "number_nomenclature_terms_subtype_polish=number_synonyms_subtype_polish + number_preferred_terms_subtype_polish\n",
    "number_nomenclature_terms_subtype_polish"
   ]
  },
  {
   "cell_type": "code",
   "execution_count": 239,
   "metadata": {},
   "outputs": [
    {
     "data": {
      "text/html": [
       "21082"
      ],
      "text/latex": [
       "21082"
      ],
      "text/markdown": [
       "21082"
      ],
      "text/plain": [
       "[1] 21082"
      ]
     },
     "metadata": {},
     "output_type": "display_data"
    }
   ],
   "source": [
    "### Total number of nomenclature terms for active clinical entities in Polish\n",
    "total_number_nomenclature_terms_polish=number_nomenclature_terms_subtype_polish + \n",
    "  number_nomenclature_terms_disorder_polish +\n",
    "  number_nomenclature_terms_group_polish\n",
    "total_number_nomenclature_terms_polish"
   ]
  },
  {
   "cell_type": "code",
   "execution_count": 240,
   "metadata": {},
   "outputs": [],
   "source": [
    "######## CZECH #########\n",
    "\n",
    "# We work on the file with datas in Czech\n",
    "\n",
    "# We open xml \"product1_de_cross_jdbor_evo\"\n",
    "product1_czech=xmlParse(\"cs_product1.xml\")\n",
    "product1_czech=xmlToList(product1_czech)\n",
    "\n",
    "# We remove the last element of the list, which is the numeric count of all elements of the list\n",
    "product1_czech=product1_czech$DisorderList\n",
    "product1_czech=product1_czech[-length(product1_czech)]\n",
    "\n",
    "### Our list for working\n",
    "indice_list=1\n",
    "product_czech=list()\n",
    "for (i in 1:length(product1_czech))\n",
    "{\n",
    "  product_czech[[indice_list]]=product1_czech[[i]]\n",
    "  indice_list=indice_list+1\n",
    "}\n",
    "# Each element in the list is a disorder"
   ]
  },
  {
   "cell_type": "code",
   "execution_count": 241,
   "metadata": {},
   "outputs": [],
   "source": [
    "# We previously need to select the active clinical entities:\n",
    "# Head of classification (flag=128), Historical entities (flag=512) & On-line (flag=1)\n",
    "indice_list=1\n",
    "all_active_clinical_entities_czech=list()\n",
    "for (i in 1:length(product_czech))\n",
    "  if (product_czech[[i]]$DisorderFlagList$DisorderFlag$Value=='1' |\n",
    "      product_czech[[i]]$DisorderFlagList$DisorderFlag$Value=='128' |\n",
    "      product_czech[[i]]$DisorderFlagList$DisorderFlag$Value=='512')\n",
    "  {\n",
    "    all_active_clinical_entities_czech[[indice_list]]=product_czech[[i]]\n",
    "    indice_list=indice_list+1\n",
    "  }"
   ]
  },
  {
   "cell_type": "code",
   "execution_count": null,
   "metadata": {},
   "outputs": [],
   "source": [
    "### We look for all the active clinical entities which have synonyms\n",
    "indice_list=1\n",
    "synonyms_total_czech=list()\n",
    "for (i in 1:length(all_active_clinical_entities_czech))\n",
    "{\n",
    "  synonyms_total_czech[[indice_list]]=data.frame(as.numeric(all_active_clinical_entities_czech[[i]]$SynonymList$.attrs))\n",
    "  indice_list=indice_list+1\n",
    "}\n",
    "synonyms_total_czech=rbindlist(synonyms_total_czech,use.names = TRUE)\n",
    "colnames(synonyms_total_czech)=c('Number of synonyms')"
   ]
  },
  {
   "cell_type": "code",
   "execution_count": null,
   "metadata": {},
   "outputs": [],
   "source": [
    "# Total number of synonyms in Czech\n",
    "total_number_synonyms_czech=sum(synonyms_total_czech)\n",
    "total_number_synonyms_czech"
   ]
  },
  {
   "cell_type": "code",
   "execution_count": null,
   "metadata": {},
   "outputs": [],
   "source": [
    "# Statistics about all synonyms in Czech\n",
    "stats_total_synonyms_czech=summary(synonyms_total_czech)\n",
    "stats_total_synonyms_czech"
   ]
  },
  {
   "cell_type": "code",
   "execution_count": null,
   "metadata": {},
   "outputs": [],
   "source": [
    "### We look for the groups of disorder which have synonyms\n",
    "# The flag is \"36540\" for groups of disorder\n",
    "indice_list=1\n",
    "synonyms_group_czech=list()\n",
    "for (i in 1:length(all_active_clinical_entities_czech))\n",
    "  if (all_active_clinical_entities_czech[[i]]$DisorderGroup$.attrs=='36540')\n",
    "  {\n",
    "    synonyms_group_czech[[indice_list]]=data.frame(as.numeric(all_active_clinical_entities_czech[[i]]$SynonymList$.attrs))\n",
    "    indice_list=indice_list+1\n",
    "  }\n",
    "synonyms_group_czech=rbindlist(synonyms_group_czech,use.names = TRUE)\n",
    "colnames(synonyms_group_czech)=c('Number of synonyms')"
   ]
  },
  {
   "cell_type": "code",
   "execution_count": null,
   "metadata": {},
   "outputs": [],
   "source": [
    "# Number of synonyms for groups of disorders in Czech\n",
    "number_synonyms_group_czech=sum(synonyms_group_czech)\n",
    "number_synonyms_group_czech"
   ]
  },
  {
   "cell_type": "code",
   "execution_count": null,
   "metadata": {},
   "outputs": [],
   "source": [
    "# Percentage of synonyms for groups of disorders in Czech\n",
    "percentage_synonyms_group_czech=number_synonyms_group_czech/total_number_synonyms_czech*100\n",
    "percentage_synonyms_group_czech"
   ]
  },
  {
   "cell_type": "code",
   "execution_count": null,
   "metadata": {},
   "outputs": [],
   "source": [
    "# Statistics about groups of disorder's synonyms in Czech\n",
    "stats_synonyms_group_czech=summary(synonyms_group_czech)\n",
    "stats_synonyms_group_czech"
   ]
  },
  {
   "cell_type": "code",
   "execution_count": null,
   "metadata": {},
   "outputs": [],
   "source": [
    "### We look for the disorders which have synonyms\n",
    "# The flag is \"36547\" for disorders\n",
    "indice_list=1\n",
    "synonyms_disorder_czech=list()\n",
    "for (i in 1:length(all_active_clinical_entities_czech))\n",
    "  if (all_active_clinical_entities_czech[[i]]$DisorderGroup$.attrs=='36547')\n",
    "  {\n",
    "    synonyms_disorder_czech[[indice_list]]=data.frame(as.numeric(all_active_clinical_entities_czech[[i]]$SynonymList$.attrs))\n",
    "    indice_list=indice_list+1\n",
    "  }\n",
    "synonyms_disorder_czech=rbindlist(synonyms_disorder_czech,use.names = TRUE)\n",
    "colnames(synonyms_disorder_czech)=c('Number of synonyms')"
   ]
  },
  {
   "cell_type": "code",
   "execution_count": null,
   "metadata": {},
   "outputs": [],
   "source": [
    "# Number of synonyms for disorders in Czech\n",
    "number_synonyms_disorder_czech=sum(synonyms_disorder_czech)\n",
    "number_synonyms_disorder_czech"
   ]
  },
  {
   "cell_type": "code",
   "execution_count": null,
   "metadata": {},
   "outputs": [],
   "source": [
    "# Percentage of synonyms for disorders in Czech\n",
    "percentage_synonyms_disorder_czech=number_synonyms_disorder_czech/total_number_synonyms_czech*100\n",
    "percentage_synonyms_disorder_czech"
   ]
  },
  {
   "cell_type": "code",
   "execution_count": null,
   "metadata": {},
   "outputs": [],
   "source": [
    "# Statistics about disorder' synonyms in Czech\n",
    "stats_synonyms_disorder_czech=summary(synonyms_disorder_czech)\n",
    "stats_synonyms_disorder_czech"
   ]
  },
  {
   "cell_type": "code",
   "execution_count": null,
   "metadata": {},
   "outputs": [],
   "source": [
    "### We look for the subtypes of disorder which have synonyms\n",
    "# The flag is \"36554\" for subtypes of disorder\n",
    "indice_list=1\n",
    "synonyms_subtype_czech=list()\n",
    "for (i in 1:length(all_active_clinical_entities_czech))\n",
    "  if (all_active_clinical_entities_czech[[i]]$DisorderGroup$.attrs=='36554')\n",
    "  {\n",
    "    synonyms_subtype_czech[[indice_list]]=data.frame(as.numeric(all_active_clinical_entities_czech[[i]]$SynonymList$.attrs))\n",
    "    indice_list=indice_list+1\n",
    "  }\n",
    "synonyms_subtype_czech=rbindlist(synonyms_subtype_czech,use.names = TRUE)\n",
    "colnames(synonyms_subtype_czech)=c('Number of synonyms')"
   ]
  },
  {
   "cell_type": "code",
   "execution_count": null,
   "metadata": {},
   "outputs": [],
   "source": [
    "# Number of synonyms for subtypes of disorders in Czech\n",
    "number_synonyms_subtype_czech=sum(synonyms_subtype_czech)\n",
    "number_synonyms_subtype_czech"
   ]
  },
  {
   "cell_type": "code",
   "execution_count": null,
   "metadata": {},
   "outputs": [],
   "source": [
    "# Percentage of synonyms for subtypes of disorders in Czech\n",
    "percentage_synonyms_subtype_czech=number_synonyms_subtype_czech/total_number_synonyms_czech*100\n",
    "percentage_synonyms_subtype_czech"
   ]
  },
  {
   "cell_type": "code",
   "execution_count": null,
   "metadata": {},
   "outputs": [],
   "source": [
    "# Statistics about subtypes of disorder's synonyms in Czech\n",
    "stats_synonyms_subtype_czech=summary(synonyms_subtype_czech)\n",
    "stats_synonyms_subtype_czech"
   ]
  },
  {
   "cell_type": "code",
   "execution_count": null,
   "metadata": {},
   "outputs": [],
   "source": [
    "###############################################################################################\n",
    "\n",
    "\n",
    "##### Number of nomenclature terms (preferred terms + synonyms) in Czech\n",
    "\n",
    "\n",
    "### We look for the groups of disorder which have preferred terms\n",
    "# The flag is \"36540\" for groups of disorder\n",
    "indice_list=1\n",
    "preferred_terms_group_czech=list()\n",
    "for (i in 1:length(all_active_clinical_entities_czech))\n",
    "  if (all_active_clinical_entities_czech[[i]]$DisorderGroup$.attrs=='36540')\n",
    "  {\n",
    "    preferred_terms_group_czech[[indice_list]]=data.frame(all_active_clinical_entities_czech[[i]]$Name$text)\n",
    "    indice_list=indice_list+1\n",
    "  }\n",
    "preferred_terms_group_czech=rbindlist(preferred_terms_group_czech)\n",
    "preferred_terms_group_czech=preferred_terms_group_czech[!duplicated(preferred_terms_group_czech)]\n",
    "names(preferred_terms_group_czech)=c('Preferred_terms')"
   ]
  },
  {
   "cell_type": "code",
   "execution_count": null,
   "metadata": {},
   "outputs": [],
   "source": [
    "# We look for the preferred terms present in English and Czech\n",
    "egal_group_czech=merge(preferred_terms_group,preferred_terms_group_czech,by='Preferred_terms')"
   ]
  },
  {
   "cell_type": "code",
   "execution_count": null,
   "metadata": {},
   "outputs": [],
   "source": [
    "# Number of preferred terms for groups of disorder in Czech\n",
    "number_preferred_terms_group_czech=nrow(preferred_terms_group_czech)-nrow(egal_group_czech)\n",
    "number_preferred_terms_group_czech"
   ]
  },
  {
   "cell_type": "code",
   "execution_count": null,
   "metadata": {},
   "outputs": [],
   "source": [
    "# Number of nomenclature terms (preferred terms + synonyms) for groups of disorders in Czech\n",
    "number_nomenclature_terms_group_czech=number_synonyms_group_czech + number_preferred_terms_group_czech\n",
    "number_nomenclature_terms_group_czech"
   ]
  },
  {
   "cell_type": "code",
   "execution_count": null,
   "metadata": {},
   "outputs": [],
   "source": [
    "### We look for the disorders which have preferred terms\n",
    "# The flag is \"36547\" for disorders\n",
    "indice_list=1\n",
    "preferred_terms_disorder_czech=list()\n",
    "for (i in 1:length(all_active_clinical_entities_czech))\n",
    "  if (all_active_clinical_entities_czech[[i]]$DisorderGroup$.attrs=='36547')\n",
    "  {\n",
    "    preferred_terms_disorder_czech[[indice_list]]=data.frame(all_active_clinical_entities_czech[[i]]$Name$text)\n",
    "    indice_list=indice_list+1\n",
    "  }\n",
    "preferred_terms_disorder_czech=rbindlist(preferred_terms_disorder_czech)\n",
    "preferred_terms_disorder_czech=preferred_terms_disorder_czech[!duplicated(preferred_terms_disorder_czech)]\n",
    "names(preferred_terms_disorder_czech)=c('Preferred_terms')"
   ]
  },
  {
   "cell_type": "code",
   "execution_count": null,
   "metadata": {},
   "outputs": [],
   "source": [
    "# We look for the preferred terms present in English and Czech\n",
    "egal_disorder_czech=merge(preferred_terms_disorder,preferred_terms_disorder_czech,by='Preferred_terms')"
   ]
  },
  {
   "cell_type": "code",
   "execution_count": null,
   "metadata": {},
   "outputs": [],
   "source": [
    "# Number of preferred terms for disorders in Czech\n",
    "number_preferred_terms_disorder_czech=nrow(preferred_terms_disorder_czech)-nrow(egal_disorder_czech)\n",
    "number_preferred_terms_disorder_czech"
   ]
  },
  {
   "cell_type": "code",
   "execution_count": null,
   "metadata": {},
   "outputs": [],
   "source": [
    "# Number of nomenclature terms (preferred terms + synonyms) for disorders in Czech\n",
    "number_nomenclature_terms_disorder_czech=number_synonyms_disorder_czech + number_preferred_terms_disorder_czech\n",
    "number_nomenclature_terms_disorder_czech"
   ]
  },
  {
   "cell_type": "code",
   "execution_count": null,
   "metadata": {},
   "outputs": [],
   "source": [
    "### We look for the subtypes of disorder which have preferred terms\n",
    "# The flag is \"36554\" for subtypes of disorder\n",
    "indice_list=1\n",
    "preferred_terms_subtype_czech=list()\n",
    "for (i in 1:length(all_active_clinical_entities_czech))\n",
    "  if (all_active_clinical_entities_czech[[i]]$DisorderGroup$.attrs=='36554')\n",
    "  {\n",
    "    preferred_terms_subtype_czech[[indice_list]]=data.frame(all_active_clinical_entities_czech[[i]]$Name$text)\n",
    "    indice_list=indice_list+1\n",
    "  }\n",
    "preferred_terms_subtype_czech=rbindlist(preferred_terms_subtype_czech)\n",
    "preferred_terms_subtype_czech=preferred_terms_subtype_czech[!duplicated(preferred_terms_subtype_czech)]\n",
    "names(preferred_terms_subtype_czech)=c('Preferred_terms')"
   ]
  },
  {
   "cell_type": "code",
   "execution_count": null,
   "metadata": {},
   "outputs": [],
   "source": [
    "# We look for the preferred terms present in English and Czech\n",
    "egal_subtype_czech=merge(preferred_terms_subtype,preferred_terms_subtype_czech,by='Preferred_terms')"
   ]
  },
  {
   "cell_type": "code",
   "execution_count": null,
   "metadata": {},
   "outputs": [],
   "source": [
    "# Number of preferred terms for subtypes of disorder in Czech\n",
    "number_preferred_terms_subtype_czech=nrow(preferred_terms_subtype_czech)-nrow(egal_subtype_czech)\n",
    "number_preferred_terms_subtype_czech"
   ]
  },
  {
   "cell_type": "code",
   "execution_count": null,
   "metadata": {},
   "outputs": [],
   "source": [
    "# Number of nomenclature terms (preferred terms + synonyms) for groups of disorders in Czech\n",
    "number_nomenclature_terms_subtype_czech=number_synonyms_subtype_czech + number_preferred_terms_subtype_czech\n",
    "number_nomenclature_terms_subtype_czech"
   ]
  },
  {
   "cell_type": "code",
   "execution_count": null,
   "metadata": {},
   "outputs": [],
   "source": [
    "### Total number of nomenclature terms for active clinical entities in Czech\n",
    "total_number_nomenclature_terms_czech=number_nomenclature_terms_subtype_czech + \n",
    "  number_nomenclature_terms_disorder_czech +\n",
    "  number_nomenclature_terms_group_czech\n",
    "total_number_nomenclature_terms_czech"
   ]
  }
 ],
 "metadata": {
  "kernelspec": {
   "display_name": "R",
   "language": "R",
   "name": "ir"
  },
  "language_info": {
   "codemirror_mode": "r",
   "file_extension": ".r",
   "mimetype": "text/x-r-source",
   "name": "R",
   "pygments_lexer": "r",
   "version": "3.6.1"
  }
 },
 "nbformat": 4,
 "nbformat_minor": 4
}
