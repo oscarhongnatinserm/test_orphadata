{
 "cells": [
  {
   "cell_type": "code",
   "execution_count": 1,
   "metadata": {},
   "outputs": [
    {
     "name": "stdout",
     "output_type": "stream",
     "text": [
      "\n",
      "  There is a binary version available but the source version is later:\n",
      "         binary source needs_compilation\n",
      "jsonlite  1.7.2  1.8.0              TRUE\n",
      "\n",
      "  Binaries will be installed\n",
      "package 'jsonlite' successfully unpacked and MD5 sums checked\n"
     ]
    },
    {
     "name": "stderr",
     "output_type": "stream",
     "text": [
      "Warning message:\n",
      "\"cannot remove prior installation of package 'jsonlite'\"Warning message in file.copy(savedcopy, lib, recursive = TRUE):\n",
      "\"problème lors de la copie de C:\\Users\\ohongnat\\Anaconda3\\Lib\\R\\library\\00LOCK\\jsonlite\\libs\\x64\\jsonlite.dll vers C:\\Users\\ohongnat\\Anaconda3\\Lib\\R\\library\\jsonlite\\libs\\x64\\jsonlite.dll: Permission denied\"Warning message:\n",
      "\"restored 'jsonlite'\""
     ]
    },
    {
     "name": "stdout",
     "output_type": "stream",
     "text": [
      "\n",
      "The downloaded binary packages are in\n",
      "\tC:\\Users\\ohongnat\\AppData\\Local\\Temp\\Rtmp88s6dA\\downloaded_packages\n",
      "\n",
      "  There is a binary version available but the source version is later:\n",
      "       binary  source needs_compilation\n",
      "rlist 0.4.6.1 0.4.6.2             FALSE\n",
      "\n"
     ]
    },
    {
     "name": "stderr",
     "output_type": "stream",
     "text": [
      "installing the source package 'rlist'\n",
      "\n"
     ]
    },
    {
     "name": "stdout",
     "output_type": "stream",
     "text": [
      "\n",
      "  There is a binary version available but the source version is later:\n",
      "           binary source needs_compilation\n",
      "data.table 1.14.0 1.14.2              TRUE\n",
      "\n",
      "  Binaries will be installed\n",
      "package 'data.table' successfully unpacked and MD5 sums checked\n"
     ]
    },
    {
     "name": "stderr",
     "output_type": "stream",
     "text": [
      "Warning message:\n",
      "\"cannot remove prior installation of package 'data.table'\"Warning message in file.copy(savedcopy, lib, recursive = TRUE):\n",
      "\"problème lors de la copie de C:\\Users\\ohongnat\\Anaconda3\\Lib\\R\\library\\00LOCK\\data.table\\libs\\x64\\datatable.dll vers C:\\Users\\ohongnat\\Anaconda3\\Lib\\R\\library\\data.table\\libs\\x64\\datatable.dll: Permission denied\"Warning message:\n",
      "\"restored 'data.table'\""
     ]
    },
    {
     "name": "stdout",
     "output_type": "stream",
     "text": [
      "\n",
      "The downloaded binary packages are in\n",
      "\tC:\\Users\\ohongnat\\AppData\\Local\\Temp\\Rtmp88s6dA\\downloaded_packages\n",
      "package 'XML' successfully unpacked and MD5 sums checked\n"
     ]
    },
    {
     "name": "stderr",
     "output_type": "stream",
     "text": [
      "Warning message:\n",
      "\"cannot remove prior installation of package 'XML'\"Warning message in file.copy(savedcopy, lib, recursive = TRUE):\n",
      "\"problème lors de la copie de C:\\Users\\ohongnat\\Anaconda3\\Lib\\R\\library\\00LOCK\\XML\\libs\\x64\\XML.dll vers C:\\Users\\ohongnat\\Anaconda3\\Lib\\R\\library\\XML\\libs\\x64\\XML.dll: Permission denied\"Warning message:\n",
      "\"restored 'XML'\""
     ]
    },
    {
     "name": "stdout",
     "output_type": "stream",
     "text": [
      "\n",
      "The downloaded binary packages are in\n",
      "\tC:\\Users\\ohongnat\\AppData\\Local\\Temp\\Rtmp88s6dA\\downloaded_packages\n"
     ]
    },
    {
     "name": "stderr",
     "output_type": "stream",
     "text": [
      "Warning message:\n",
      "\"package 'methods' is not available (for R version 3.6.1)\"Warning message:\n",
      "\"package 'methods' is a base package, and should not be updated\""
     ]
    }
   ],
   "source": [
    "### NUMBER OF DEFINITIONS\n",
    "\n",
    "\n",
    "# We launch the config file with the installation of the R libraries\n",
    "source(\"config.R\")\n",
    "\n",
    "\n",
    "# INPUTS : \"en_product1.xml\"; \"fr_product1.xml\"; \"de_product1.xml\"; \n",
    "# \"nl_product1.xml\"; \"it_product1.xml\"; \"pt_product1.xml\"; \n",
    "# \"es_product1.xml\"; \"pl_product1.xml\". \n",
    "\n",
    "\n",
    "# OUTPUTS : \n",
    "# \"number_of_disorders_with_english_definition\"; \"percentage_of_disorders_with_english_definition\";\n",
    "# \"number_of_disorders_with_french_definition\"; \"percentage_of_disorders_with_french_definition\";\n",
    "# \"number_of_disorders_with_german_definition\"; \"percentage_of_disorders_with_german_definition\";\n",
    "# \"number_of_disorders_with_dutch_definition\"; \"percentage_of_disorders_with_dutch_definition\";\n",
    "# \"number_of_disorders_with_spanish_definition\"; \"percentage_of_disorders_with_spanish_definition\";\n",
    "# \"number_of_disorders_with_italian_definition\"; \"percentage_of_disorders_with_italian_definition\";\n",
    "# \"number_of_disorders_with_portuguese_definition\"; \"percentage_of_disorders_with_portuguese_definition\";\n",
    "# \"number_of_disorders_with_polish_definition\"; \"percentage_of_disorders_with_polish_definition\"."
   ]
  },
  {
   "cell_type": "code",
   "execution_count": 2,
   "metadata": {},
   "outputs": [
    {
     "name": "stderr",
     "output_type": "stream",
     "text": [
      "Warning message:\n",
      "\"package 'data.table' was built under R version 3.6.3\"Warning message:\n",
      "\"package 'dplyr' was built under R version 3.6.3\"\n",
      "Attaching package: 'dplyr'\n",
      "\n",
      "The following objects are masked from 'package:data.table':\n",
      "\n",
      "    between, first, last\n",
      "\n",
      "The following objects are masked from 'package:stats':\n",
      "\n",
      "    filter, lag\n",
      "\n",
      "The following objects are masked from 'package:base':\n",
      "\n",
      "    intersect, setdiff, setequal, union\n",
      "\n",
      "Warning message:\n",
      "\"package 'XML' was built under R version 3.6.3\""
     ]
    }
   ],
   "source": [
    "# We launch the libraries\n",
    "library(jsonlite)\n",
    "library(rlist)\n",
    "library(data.table)\n",
    "library(dplyr)\n",
    "library(XML)\n",
    "library(methods)"
   ]
  },
  {
   "cell_type": "code",
   "execution_count": 3,
   "metadata": {},
   "outputs": [],
   "source": [
    "# We open xml \"product1_en_cross_jdbor_evo\"\n",
    "product1=xmlParse(\"en_product1.xml\")\n",
    "product1=xmlToList(product1)\n",
    "\n",
    "# We remove the last element of the list, which is the numeric count of all elements of the list\n",
    "product1=product1$DisorderList\n",
    "product1=product1[-length(product1)]\n",
    "\n",
    "### Our list for working\n",
    "indice_list=1\n",
    "product=list()\n",
    "for (i in 1:length(product1))\n",
    "{\n",
    "  product[[indice_list]]=product1[[i]]\n",
    "  indice_list=indice_list+1\n",
    "}\n",
    "# Each element in the list is a disorder"
   ]
  },
  {
   "cell_type": "code",
   "execution_count": 4,
   "metadata": {},
   "outputs": [],
   "source": [
    "# We first need to select the active clinical entities:\n",
    "# Head of classification (flag=128), Historical entities (flag=512) & On-line (flag=1)\n",
    "indice_list=1\n",
    "all_active_clinical_entities=list()\n",
    "for (i in 1:length(product))\n",
    "  if (product[[i]]$DisorderFlagList$DisorderFlag$Value=='1' |\n",
    "      product[[i]]$DisorderFlagList$DisorderFlag$Value=='128' |\n",
    "      product[[i]]$DisorderFlagList$DisorderFlag$Value=='512')\n",
    "  {\n",
    "    all_active_clinical_entities[[indice_list]]=product[[i]]\n",
    "    indice_list=indice_list+1\n",
    "  }"
   ]
  },
  {
   "cell_type": "code",
   "execution_count": 5,
   "metadata": {},
   "outputs": [
    {
     "data": {
      "text/html": [
       "6227"
      ],
      "text/latex": [
       "6227"
      ],
      "text/markdown": [
       "6227"
      ],
      "text/plain": [
       "[1] 6227"
      ]
     },
     "metadata": {},
     "output_type": "display_data"
    }
   ],
   "source": [
    "# We only want to work on disorders\n",
    "indice_list=1\n",
    "disorders=list()\n",
    "for (i in 1:length(all_active_clinical_entities))\n",
    "  if (all_active_clinical_entities[[i]]$DisorderGroup$Name$text=='Disorder')\n",
    "  {\n",
    "    disorders[[indice_list]]=all_active_clinical_entities[[i]]\n",
    "    indice_list=indice_list+1\n",
    "  }\n",
    "\n",
    "# Number of disorders\n",
    "number_disorders=length(disorders)\n",
    "number_disorders"
   ]
  },
  {
   "cell_type": "code",
   "execution_count": 6,
   "metadata": {},
   "outputs": [],
   "source": [
    "### Calculation of numbers of disorders with a definition\n",
    "\n",
    "# We are currently working on the file with datas in English\n",
    "\n",
    "# We look for the disorders that have a definition in their datas\n",
    "indice_list=1\n",
    "disorder_with_english_definition=list()\n",
    "for (i in 1:length(disorders))\n",
    "  if (!is.null(disorders[[i]]$SummaryInformationList$SummaryInformation$\n",
    "               TextSectionList$TextSection$TextSectionType$Name$text))\n",
    "  {\n",
    "    disorder_with_english_definition[[indice_list]]=disorders[[i]]\n",
    "    indice_list=indice_list+1\n",
    "  }"
   ]
  },
  {
   "cell_type": "code",
   "execution_count": 7,
   "metadata": {},
   "outputs": [
    {
     "data": {
      "text/html": [
       "5948"
      ],
      "text/latex": [
       "5948"
      ],
      "text/markdown": [
       "5948"
      ],
      "text/plain": [
       "[1] 5948"
      ]
     },
     "metadata": {},
     "output_type": "display_data"
    }
   ],
   "source": [
    "# Number of disorders with a definition in English\n",
    "number_of_disorders_with_english_definition=length(disorder_with_english_definition)\n",
    "number_of_disorders_with_english_definition"
   ]
  },
  {
   "cell_type": "code",
   "execution_count": 8,
   "metadata": {},
   "outputs": [
    {
     "data": {
      "text/html": [
       "95.5195118034367"
      ],
      "text/latex": [
       "95.5195118034367"
      ],
      "text/markdown": [
       "95.5195118034367"
      ],
      "text/plain": [
       "[1] 95.51951"
      ]
     },
     "metadata": {},
     "output_type": "display_data"
    }
   ],
   "source": [
    "# Percentage of disorders with a definition in English\n",
    "percentage_of_disorders_with_english_definition=number_of_disorders_with_english_definition/number_disorders*100\n",
    "percentage_of_disorders_with_english_definition"
   ]
  },
  {
   "cell_type": "code",
   "execution_count": 9,
   "metadata": {},
   "outputs": [],
   "source": [
    "### For the others languages\n",
    "\n",
    "\n",
    "### French\n",
    "\n",
    "# We open the file xml in French\n",
    "product1_fr_cross_jdbor_evo=xmlParse(\"fr_product1.xml\")\n",
    "product1_fr_cross_jdbor_evo=xmlToList(product1_fr_cross_jdbor_evo)\n",
    "\n",
    "# We remove the last element of the list, which is the numeric count of all elements of the list\n",
    "product1_fr_cross_jdbor_evo=product1_fr_cross_jdbor_evo$DisorderList\n",
    "product1_fr_cross_jdbor_evo=product1_fr_cross_jdbor_evo[-length(product1_fr_cross_jdbor_evo)]\n",
    "\n",
    "### Our list for working\n",
    "indice_list=1\n",
    "product1_fr=list()\n",
    "for (i in 1:length(product1_fr_cross_jdbor_evo))\n",
    "{\n",
    "  product1_fr[[indice_list]]=product1_fr_cross_jdbor_evo[[i]]\n",
    "  indice_list=indice_list+1\n",
    "}\n",
    "# Each element in the list is a disorder"
   ]
  },
  {
   "cell_type": "code",
   "execution_count": 10,
   "metadata": {},
   "outputs": [],
   "source": [
    "# We only select the active clinical entities \n",
    "# Head of classification (flag=128), Historical entities (flag=512) & On-line (flag=1)\n",
    "indice_list=1\n",
    "french_active_clinical_entities=list()\n",
    "for (i in 1:length(product1_fr))\n",
    "    if (product1_fr[[i]]$DisorderFlagList$DisorderFlag$Value=='1' |\n",
    "        product1_fr[[i]]$DisorderFlagList$DisorderFlag$Value=='128' |\n",
    "        product1_fr[[i]]$DisorderFlagList$DisorderFlag$Value=='512')\n",
    "    {\n",
    "      french_active_clinical_entities[[indice_list]]=product1_fr[[i]]\n",
    "      indice_list=indice_list+1\n",
    "    }"
   ]
  },
  {
   "cell_type": "code",
   "execution_count": 11,
   "metadata": {},
   "outputs": [],
   "source": [
    "# We only want to work on disorders\n",
    "indice_list=1\n",
    "french_disorders=list()\n",
    "for (i in 1:length(french_active_clinical_entities))\n",
    "  for (j in 1:length(disorders))\n",
    "    if (french_active_clinical_entities[[i]]$OrphaCode==disorders[[j]]$OrphaCode)\n",
    "    {\n",
    "      french_disorders[[indice_list]]=french_active_clinical_entities[[i]]\n",
    "      indice_list=indice_list+1\n",
    "    }"
   ]
  },
  {
   "cell_type": "code",
   "execution_count": 12,
   "metadata": {},
   "outputs": [],
   "source": [
    "# We look for the disorders that have a definition in their datas\n",
    "indice_list=1\n",
    "disorder_with_french_definition=list()\n",
    "for (i in 1:length(french_disorders))\n",
    "  if (!is.null(french_disorders[[i]]$SummaryInformationList$SummaryInformation$\n",
    "               TextSectionList$TextSection$Contents))\n",
    "  {\n",
    "    disorder_with_french_definition[[indice_list]]=data.frame(french_disorders[[i]]$OrphaCode)\n",
    "    indice_list=indice_list+1\n",
    "  }"
   ]
  },
  {
   "cell_type": "code",
   "execution_count": 13,
   "metadata": {},
   "outputs": [
    {
     "data": {
      "text/html": [
       "4294"
      ],
      "text/latex": [
       "4294"
      ],
      "text/markdown": [
       "4294"
      ],
      "text/plain": [
       "[1] 4294"
      ]
     },
     "metadata": {},
     "output_type": "display_data"
    }
   ],
   "source": [
    "# Number of disorders with a definition in French\n",
    "number_of_disorders_with_french_definition=length(disorder_with_french_definition)\n",
    "number_of_disorders_with_french_definition"
   ]
  },
  {
   "cell_type": "code",
   "execution_count": 14,
   "metadata": {},
   "outputs": [
    {
     "data": {
      "text/html": [
       "68.957764573631"
      ],
      "text/latex": [
       "68.957764573631"
      ],
      "text/markdown": [
       "68.957764573631"
      ],
      "text/plain": [
       "[1] 68.95776"
      ]
     },
     "metadata": {},
     "output_type": "display_data"
    }
   ],
   "source": [
    "# Percentage of disorders with a definition in French\n",
    "percentage_of_disorders_with_french_definition=number_of_disorders_with_french_definition/number_disorders*100\n",
    "percentage_of_disorders_with_french_definition"
   ]
  },
  {
   "cell_type": "code",
   "execution_count": 15,
   "metadata": {},
   "outputs": [],
   "source": [
    "### German\n",
    "\n",
    "# We open the file xml in German\n",
    "product1_de_cross_jdbor_evo=xmlParse(\"de_product1.xml\")\n",
    "product1_de_cross_jdbor_evo=xmlToList(product1_de_cross_jdbor_evo)\n",
    "\n",
    "# We remove the last element of the list, which is the numeric count of all elements of the list\n",
    "product1_de_cross_jdbor_evo=product1_de_cross_jdbor_evo$DisorderList\n",
    "product1_de_cross_jdbor_evo=product1_de_cross_jdbor_evo[-length(product1_de_cross_jdbor_evo)]\n",
    "\n",
    "### Our list for working\n",
    "indice_list=1\n",
    "product1_de=list()\n",
    "for (i in 1:length(product1_de_cross_jdbor_evo))\n",
    "{\n",
    "  product1_de[[indice_list]]=product1_de_cross_jdbor_evo[[i]]\n",
    "  indice_list=indice_list+1\n",
    "}\n",
    "# Each element in the list is a disorder"
   ]
  },
  {
   "cell_type": "code",
   "execution_count": 16,
   "metadata": {},
   "outputs": [],
   "source": [
    "# We only select the active clinical entities \n",
    "# Head of classification (flag=128), Historical entities (flag=512) & On-line (flag=1)\n",
    "indice_list=1\n",
    "german_active_clinical_entities=list()\n",
    "for (i in 1:length(product1_de))\n",
    "  if (product1_de[[i]]$DisorderFlagList$DisorderFlag$Value=='1' |\n",
    "      product1_de[[i]]$DisorderFlagList$DisorderFlag$Value=='128' |\n",
    "      product1_de[[i]]$DisorderFlagList$DisorderFlag$Value=='512')\n",
    "  {\n",
    "    german_active_clinical_entities[[indice_list]]=product1_de[[i]]\n",
    "    indice_list=indice_list+1\n",
    "  }"
   ]
  },
  {
   "cell_type": "code",
   "execution_count": 17,
   "metadata": {},
   "outputs": [],
   "source": [
    "# We only want to work on disorders\n",
    "indice_list=1\n",
    "german_disorders=list()\n",
    "for (i in 1:length(german_active_clinical_entities))\n",
    "  for (j in 1:length(disorders))\n",
    "    if (german_active_clinical_entities[[i]]$OrphaCode==disorders[[j]]$OrphaCode)\n",
    "    {\n",
    "      german_disorders[[indice_list]]=german_active_clinical_entities[[i]]\n",
    "      indice_list=indice_list+1\n",
    "    }"
   ]
  },
  {
   "cell_type": "code",
   "execution_count": 18,
   "metadata": {},
   "outputs": [],
   "source": [
    "# We look for the disorders that have a definition in their datas\n",
    "indice_list=1\n",
    "disorder_with_german_definition=list()\n",
    "for (i in 1:length(german_disorders))\n",
    "  if (!is.null(german_disorders[[i]]$SummaryInformationList$SummaryInformation$\n",
    "               TextSectionList$TextSection$Contents))\n",
    "  {\n",
    "    disorder_with_german_definition[[indice_list]]=data.frame(german_disorders[[i]]$OrphaCode)\n",
    "    indice_list=indice_list+1\n",
    "  }"
   ]
  },
  {
   "cell_type": "code",
   "execution_count": 19,
   "metadata": {},
   "outputs": [
    {
     "data": {
      "text/html": [
       "2203"
      ],
      "text/latex": [
       "2203"
      ],
      "text/markdown": [
       "2203"
      ],
      "text/plain": [
       "[1] 2203"
      ]
     },
     "metadata": {},
     "output_type": "display_data"
    }
   ],
   "source": [
    "# Number of disorders with a definition in German\n",
    "number_of_disorders_with_german_definition=length(disorder_with_german_definition)\n",
    "number_of_disorders_with_german_definition"
   ]
  },
  {
   "cell_type": "code",
   "execution_count": 20,
   "metadata": {},
   "outputs": [
    {
     "data": {
      "text/html": [
       "35.3781917456239"
      ],
      "text/latex": [
       "35.3781917456239"
      ],
      "text/markdown": [
       "35.3781917456239"
      ],
      "text/plain": [
       "[1] 35.37819"
      ]
     },
     "metadata": {},
     "output_type": "display_data"
    }
   ],
   "source": [
    "# Percentage of disorders with a definition in German\n",
    "percentage_of_disorders_with_german_definition=number_of_disorders_with_german_definition/number_disorders*100\n",
    "percentage_of_disorders_with_german_definition"
   ]
  },
  {
   "cell_type": "code",
   "execution_count": 21,
   "metadata": {},
   "outputs": [],
   "source": [
    "### Dutch\n",
    "\n",
    "# We open the file xml in Dutch\n",
    "product1_nl_cross_jdbor_evo=xmlParse(\"nl_product1.xml\")\n",
    "product1_nl_cross_jdbor_evo=xmlToList(product1_nl_cross_jdbor_evo)\n",
    "\n",
    "# We remove the last element of the list, which is the numeric count of all elements of the list\n",
    "product1_nl_cross_jdbor_evo=product1_nl_cross_jdbor_evo$DisorderList\n",
    "product1_nl_cross_jdbor_evo=product1_nl_cross_jdbor_evo[-length(product1_nl_cross_jdbor_evo)]\n",
    "\n",
    "### Our list for working\n",
    "indice_list=1\n",
    "product1_nl=list()\n",
    "for (i in 1:length(product1_nl_cross_jdbor_evo))\n",
    "{\n",
    "  product1_nl[[indice_list]]=product1_nl_cross_jdbor_evo[[i]]\n",
    "  indice_list=indice_list+1\n",
    "}\n",
    "# Each element in the list is a disorder"
   ]
  },
  {
   "cell_type": "code",
   "execution_count": 22,
   "metadata": {},
   "outputs": [],
   "source": [
    "# We only select the active clinical entities \n",
    "# Head of classification (flag=128), Historical entities (flag=512) & On-line (flag=1)\n",
    "indice_list=1\n",
    "dutch_active_clinical_entities=list()\n",
    "for (i in 1:length(product1_nl))\n",
    "  if (product1_nl[[i]]$DisorderFlagList$DisorderFlag$Value=='1' |\n",
    "      product1_nl[[i]]$DisorderFlagList$DisorderFlag$Value=='128' |\n",
    "      product1_nl[[i]]$DisorderFlagList$DisorderFlag$Value=='512')\n",
    "  {\n",
    "    dutch_active_clinical_entities[[indice_list]]=product1_nl[[i]]\n",
    "    indice_list=indice_list+1\n",
    "  }"
   ]
  },
  {
   "cell_type": "code",
   "execution_count": 23,
   "metadata": {},
   "outputs": [],
   "source": [
    "# We only want to work on disorders\n",
    "indice_list=1\n",
    "dutch_disorders=list()\n",
    "for (i in 1:length(dutch_active_clinical_entities))\n",
    "  for (j in 1:length(disorders))\n",
    "    if (dutch_active_clinical_entities[[i]]$OrphaCode==disorders[[j]]$OrphaCode)\n",
    "    {\n",
    "      dutch_disorders[[indice_list]]=dutch_active_clinical_entities[[i]]\n",
    "      indice_list=indice_list+1\n",
    "    }"
   ]
  },
  {
   "cell_type": "code",
   "execution_count": 24,
   "metadata": {},
   "outputs": [],
   "source": [
    "# We look for the disorders that have a definition in their datas\n",
    "indice_list=1\n",
    "disorder_with_dutch_definition=list()\n",
    "for (i in 1:length(dutch_disorders))\n",
    "  if (!is.null(dutch_disorders[[i]]$SummaryInformationList$SummaryInformation$\n",
    "               TextSectionList$TextSection$Contents))\n",
    "  {\n",
    "    disorder_with_dutch_definition[[indice_list]]=data.frame(dutch_disorders[[i]]$OrphaCode)\n",
    "    indice_list=indice_list+1\n",
    "  }"
   ]
  },
  {
   "cell_type": "code",
   "execution_count": 25,
   "metadata": {},
   "outputs": [
    {
     "data": {
      "text/html": [
       "5734"
      ],
      "text/latex": [
       "5734"
      ],
      "text/markdown": [
       "5734"
      ],
      "text/plain": [
       "[1] 5734"
      ]
     },
     "metadata": {},
     "output_type": "display_data"
    }
   ],
   "source": [
    "# Number of disorders with a definition in Dutch\n",
    "number_of_disorders_with_dutch_definition=length(disorder_with_dutch_definition)\n",
    "number_of_disorders_with_dutch_definition"
   ]
  },
  {
   "cell_type": "code",
   "execution_count": 26,
   "metadata": {},
   "outputs": [
    {
     "data": {
      "text/html": [
       "92.0828649429902"
      ],
      "text/latex": [
       "92.0828649429902"
      ],
      "text/markdown": [
       "92.0828649429902"
      ],
      "text/plain": [
       "[1] 92.08286"
      ]
     },
     "metadata": {},
     "output_type": "display_data"
    }
   ],
   "source": [
    "# Percentage of disorders with a definition in Dutch\n",
    "percentage_of_disorders_with_dutch_definition=number_of_disorders_with_dutch_definition/number_disorders*100\n",
    "percentage_of_disorders_with_dutch_definition"
   ]
  },
  {
   "cell_type": "code",
   "execution_count": 27,
   "metadata": {},
   "outputs": [],
   "source": [
    "### Spanish\n",
    "\n",
    "# We open the file xml in Spanish\n",
    "product1_es_cross_jdbor_evo=xmlParse(\"es_product1.xml\")\n",
    "product1_es_cross_jdbor_evo=xmlToList(product1_es_cross_jdbor_evo)\n",
    "\n",
    "# We remove the last element of the list, which is the numeric count of all elements of the list\n",
    "product1_es_cross_jdbor_evo=product1_es_cross_jdbor_evo$DisorderList\n",
    "product1_es_cross_jdbor_evo=product1_es_cross_jdbor_evo[-length(product1_es_cross_jdbor_evo)]\n",
    "\n",
    "### Our list for working\n",
    "indice_list=1\n",
    "product1_es=list()\n",
    "for (i in 1:length(product1_es_cross_jdbor_evo))\n",
    "{\n",
    "  product1_es[[indice_list]]=product1_es_cross_jdbor_evo[[i]]\n",
    "  indice_list=indice_list+1\n",
    "}\n",
    "# Each element in the list is a disorder"
   ]
  },
  {
   "cell_type": "code",
   "execution_count": 28,
   "metadata": {},
   "outputs": [],
   "source": [
    "# We only select the active clinical entities \n",
    "# Head of classification (flag=128), Historical entities (flag=512) & On-line (flag=1)\n",
    "indice_list=1\n",
    "spanish_active_clinical_entities=list()\n",
    "for (i in 1:length(product1_es))\n",
    "  if (product1_es[[i]]$DisorderFlagList$DisorderFlag$Value=='1' |\n",
    "      product1_es[[i]]$DisorderFlagList$DisorderFlag$Value=='128' |\n",
    "      product1_es[[i]]$DisorderFlagList$DisorderFlag$Value=='512')\n",
    "  {\n",
    "    spanish_active_clinical_entities[[indice_list]]=product1_es[[i]]\n",
    "    indice_list=indice_list+1\n",
    "  }"
   ]
  },
  {
   "cell_type": "code",
   "execution_count": 29,
   "metadata": {},
   "outputs": [],
   "source": [
    "# We only want to work on disorders\n",
    "indice_list=1\n",
    "spanish_disorders=list()\n",
    "for (i in 1:length(spanish_active_clinical_entities))\n",
    "  for (j in 1:length(disorders))\n",
    "    if (spanish_active_clinical_entities[[i]]$OrphaCode==disorders[[j]]$OrphaCode)\n",
    "    {\n",
    "      spanish_disorders[[indice_list]]=spanish_active_clinical_entities[[i]]\n",
    "      indice_list=indice_list+1\n",
    "    }"
   ]
  },
  {
   "cell_type": "code",
   "execution_count": 30,
   "metadata": {},
   "outputs": [],
   "source": [
    "# We look for the disorders that have a definition in their datas\n",
    "indice_list=1\n",
    "disorder_with_spanish_definition=list()\n",
    "for (i in 1:length(spanish_disorders))\n",
    "  if (!is.null(spanish_disorders[[i]]$SummaryInformationList$SummaryInformation$\n",
    "               TextSectionList$TextSection$Contents))\n",
    "  {\n",
    "    disorder_with_spanish_definition[[indice_list]]=data.frame(spanish_disorders[[i]]$OrphaCode)\n",
    "    indice_list=indice_list+1\n",
    "  }"
   ]
  },
  {
   "cell_type": "code",
   "execution_count": 31,
   "metadata": {},
   "outputs": [
    {
     "data": {
      "text/html": [
       "5217"
      ],
      "text/latex": [
       "5217"
      ],
      "text/markdown": [
       "5217"
      ],
      "text/plain": [
       "[1] 5217"
      ]
     },
     "metadata": {},
     "output_type": "display_data"
    }
   ],
   "source": [
    "# Number of disorders with a definition in Spanish\n",
    "number_of_disorders_with_spanish_definition=length(disorder_with_spanish_definition)\n",
    "number_of_disorders_with_spanish_definition"
   ]
  },
  {
   "cell_type": "code",
   "execution_count": 32,
   "metadata": {},
   "outputs": [
    {
     "data": {
      "text/html": [
       "83.7803115464911"
      ],
      "text/latex": [
       "83.7803115464911"
      ],
      "text/markdown": [
       "83.7803115464911"
      ],
      "text/plain": [
       "[1] 83.78031"
      ]
     },
     "metadata": {},
     "output_type": "display_data"
    }
   ],
   "source": [
    "# Percentage of disorders with a definition in Spanish\n",
    "percentage_of_disorders_with_spanish_definition=number_of_disorders_with_spanish_definition/number_disorders*100\n",
    "percentage_of_disorders_with_spanish_definition"
   ]
  },
  {
   "cell_type": "code",
   "execution_count": 33,
   "metadata": {},
   "outputs": [],
   "source": [
    "### Italian\n",
    "\n",
    "# We open the file xml in Italian\n",
    "product1_it_cross_jdbor_evo=xmlParse(\"it_product1.xml\")\n",
    "product1_it_cross_jdbor_evo=xmlToList(product1_it_cross_jdbor_evo)\n",
    "\n",
    "# We remove the last element of the list, which is the numeric count of all elements of the list\n",
    "product1_it_cross_jdbor_evo=product1_it_cross_jdbor_evo$DisorderList\n",
    "product1_it_cross_jdbor_evo=product1_it_cross_jdbor_evo[-length(product1_it_cross_jdbor_evo)]\n",
    "\n",
    "### Our list for working\n",
    "indice_list=1\n",
    "product1_it=list()\n",
    "for (i in 1:length(product1_it_cross_jdbor_evo))\n",
    "{\n",
    "  product1_it[[indice_list]]=product1_it_cross_jdbor_evo[[i]]\n",
    "  indice_list=indice_list+1\n",
    "}\n",
    "# Each element in the list is a disorder"
   ]
  },
  {
   "cell_type": "code",
   "execution_count": 34,
   "metadata": {},
   "outputs": [],
   "source": [
    "# We only select the active clinical entities \n",
    "# Head of classification (flag=128), Historical entities (flag=512) & On-line (flag=1)\n",
    "indice_list=1\n",
    "italian_active_clinical_entities=list()\n",
    "for (i in 1:length(product1_it))\n",
    "  if (product1_it[[i]]$DisorderFlagList$DisorderFlag$Value=='1' |\n",
    "      product1_it[[i]]$DisorderFlagList$DisorderFlag$Value=='128' |\n",
    "      product1_it[[i]]$DisorderFlagList$DisorderFlag$Value=='512')\n",
    "  {\n",
    "    italian_active_clinical_entities[[indice_list]]=product1_it[[i]]\n",
    "    indice_list=indice_list+1\n",
    "  }"
   ]
  },
  {
   "cell_type": "code",
   "execution_count": 35,
   "metadata": {},
   "outputs": [],
   "source": [
    "# We only want to work on disorders\n",
    "indice_list=1\n",
    "italian_disorders=list()\n",
    "for (i in 1:length(italian_active_clinical_entities))\n",
    "  for (j in 1:length(disorders))\n",
    "    if (italian_active_clinical_entities[[i]]$OrphaCode==disorders[[j]]$OrphaCode)\n",
    "    {\n",
    "      italian_disorders[[indice_list]]=italian_active_clinical_entities[[i]]\n",
    "      indice_list=indice_list+1\n",
    "    }"
   ]
  },
  {
   "cell_type": "code",
   "execution_count": 36,
   "metadata": {},
   "outputs": [],
   "source": [
    "# We look for the disorders that have a definition in their datas\n",
    "indice_list=1\n",
    "disorder_with_italian_definition=list()\n",
    "for (i in 1:length(italian_disorders))\n",
    "  if (!is.null(italian_disorders[[i]]$SummaryInformationList$SummaryInformation$\n",
    "               TextSectionList$TextSection$Contents))\n",
    "  {\n",
    "    disorder_with_italian_definition[[indice_list]]=data.frame(italian_disorders[[i]]$OrphaCode)\n",
    "    indice_list=indice_list+1\n",
    "  }"
   ]
  },
  {
   "cell_type": "code",
   "execution_count": 37,
   "metadata": {},
   "outputs": [
    {
     "data": {
      "text/html": [
       "3395"
      ],
      "text/latex": [
       "3395"
      ],
      "text/markdown": [
       "3395"
      ],
      "text/plain": [
       "[1] 3395"
      ]
     },
     "metadata": {},
     "output_type": "display_data"
    }
   ],
   "source": [
    "# Number of disorders with a definition in Italian\n",
    "number_of_disorders_with_italian_definition=length(disorder_with_italian_definition)\n",
    "number_of_disorders_with_italian_definition"
   ]
  },
  {
   "cell_type": "code",
   "execution_count": 38,
   "metadata": {},
   "outputs": [
    {
     "data": {
      "text/html": [
       "54.5206359402602"
      ],
      "text/latex": [
       "54.5206359402602"
      ],
      "text/markdown": [
       "54.5206359402602"
      ],
      "text/plain": [
       "[1] 54.52064"
      ]
     },
     "metadata": {},
     "output_type": "display_data"
    }
   ],
   "source": [
    "# Percentage of disorders with a definition in Italian\n",
    "percentage_of_disorders_with_italian_definition=number_of_disorders_with_italian_definition/number_disorders*100\n",
    "percentage_of_disorders_with_italian_definition"
   ]
  },
  {
   "cell_type": "code",
   "execution_count": 39,
   "metadata": {},
   "outputs": [],
   "source": [
    "### Portuguese\n",
    "\n",
    "# We open the file xml in Portuguese\n",
    "product1_pt_cross_jdbor_evo=xmlParse(\"pt_product1.xml\")\n",
    "product1_pt_cross_jdbor_evo=xmlToList(product1_pt_cross_jdbor_evo)\n",
    "\n",
    "# We remove the last element of the list, which is the numeric count of all elements of the list\n",
    "product1_pt_cross_jdbor_evo=product1_pt_cross_jdbor_evo$DisorderList\n",
    "product1_pt_cross_jdbor_evo=product1_pt_cross_jdbor_evo[-length(product1_pt_cross_jdbor_evo)]\n",
    "\n",
    "### Our list for working\n",
    "indice_list=1\n",
    "product1_pt=list()\n",
    "for (i in 1:length(product1_pt_cross_jdbor_evo))\n",
    "{\n",
    "  product1_pt[[indice_list]]=product1_pt_cross_jdbor_evo[[i]]\n",
    "  indice_list=indice_list+1\n",
    "}\n",
    "# Each element in the list is a disorder"
   ]
  },
  {
   "cell_type": "code",
   "execution_count": 40,
   "metadata": {},
   "outputs": [],
   "source": [
    "# We only select the active clinical entities \n",
    "# Head of classification (flag=128), Historical entities (flag=512) & On-line (flag=1)\n",
    "indice_list=1\n",
    "portuguese_active_clinical_entities=list()\n",
    "for (i in 1:length(product1_pt))\n",
    "  if (product1_pt[[i]]$DisorderFlagList$DisorderFlag$Value=='1' |\n",
    "      product1_pt[[i]]$DisorderFlagList$DisorderFlag$Value=='128' |\n",
    "      product1_pt[[i]]$DisorderFlagList$DisorderFlag$Value=='512')\n",
    "  {\n",
    "    portuguese_active_clinical_entities[[indice_list]]=product1_pt[[i]]\n",
    "    indice_list=indice_list+1\n",
    "  }"
   ]
  },
  {
   "cell_type": "code",
   "execution_count": 41,
   "metadata": {},
   "outputs": [],
   "source": [
    "# We only want to work on disorders\n",
    "indice_list=1\n",
    "portuguese_disorders=list()\n",
    "for (i in 1:length(portuguese_active_clinical_entities))\n",
    "  for (j in 1:length(disorders))\n",
    "    if (portuguese_active_clinical_entities[[i]]$OrphaCode==disorders[[j]]$OrphaCode)\n",
    "    {\n",
    "      portuguese_disorders[[indice_list]]=portuguese_active_clinical_entities[[i]]\n",
    "      indice_list=indice_list+1\n",
    "    }"
   ]
  },
  {
   "cell_type": "code",
   "execution_count": 42,
   "metadata": {},
   "outputs": [],
   "source": [
    "# We look for the disorders that have a definition in their datas\n",
    "indice_list=1\n",
    "disorder_with_portuguese_definition=list()\n",
    "for (i in 1:length(portuguese_disorders))\n",
    "  if (!is.null(portuguese_disorders[[i]]$SummaryInformationList$SummaryInformation$\n",
    "               TextSectionList$TextSection$Contents))\n",
    "  {\n",
    "    disorder_with_portuguese_definition[[indice_list]]=data.frame(portuguese_disorders[[i]]$OrphaCode)\n",
    "    indice_list=indice_list+1\n",
    "  }"
   ]
  },
  {
   "cell_type": "code",
   "execution_count": 43,
   "metadata": {},
   "outputs": [
    {
     "data": {
      "text/html": [
       "833"
      ],
      "text/latex": [
       "833"
      ],
      "text/markdown": [
       "833"
      ],
      "text/plain": [
       "[1] 833"
      ]
     },
     "metadata": {},
     "output_type": "display_data"
    }
   ],
   "source": [
    "# Number of disorders with a definition in Portuguese\n",
    "number_of_disorders_with_portuguese_definition=length(disorder_with_portuguese_definition)\n",
    "number_of_disorders_with_portuguese_definition"
   ]
  },
  {
   "cell_type": "code",
   "execution_count": 44,
   "metadata": {},
   "outputs": [
    {
     "data": {
      "text/html": [
       "13.3772281997752"
      ],
      "text/latex": [
       "13.3772281997752"
      ],
      "text/markdown": [
       "13.3772281997752"
      ],
      "text/plain": [
       "[1] 13.37723"
      ]
     },
     "metadata": {},
     "output_type": "display_data"
    }
   ],
   "source": [
    "# Percentage of disorders with a definition in Portuguese\n",
    "percentage_of_disorders_with_portuguese_definition=number_of_disorders_with_portuguese_definition/number_disorders*100\n",
    "percentage_of_disorders_with_portuguese_definition"
   ]
  },
  {
   "cell_type": "code",
   "execution_count": 45,
   "metadata": {},
   "outputs": [],
   "source": [
    "### Polish\n",
    "\n",
    "# We open the file xml in Polish\n",
    "product1_pl_cross_jdbor_evo=xmlParse(\"pl_product1.xml\")\n",
    "product1_pl_cross_jdbor_evo=xmlToList(product1_pl_cross_jdbor_evo)\n",
    "\n",
    "# We remove the last element of the list, which is the numeric count of all elements of the list\n",
    "product1_pl_cross_jdbor_evo=product1_pl_cross_jdbor_evo$DisorderList\n",
    "product1_pl_cross_jdbor_evo=product1_pl_cross_jdbor_evo[-length(product1_pl_cross_jdbor_evo)]\n",
    "\n",
    "### Our list for working\n",
    "indice_list=1\n",
    "product1_pl=list()\n",
    "for (i in 1:length(product1_pl_cross_jdbor_evo))\n",
    "{\n",
    "  product1_pl[[indice_list]]=product1_pl_cross_jdbor_evo[[i]]\n",
    "  indice_list=indice_list+1\n",
    "}\n",
    "# Each element in the list is a disorder"
   ]
  },
  {
   "cell_type": "code",
   "execution_count": 46,
   "metadata": {},
   "outputs": [],
   "source": [
    "# We only select the active clinical entities \n",
    "# Head of classification (flag=128), Historical entities (flag=512) & On-line (flag=1)\n",
    "indice_list=1\n",
    "polish_active_clinical_entities=list()\n",
    "for (i in 1:length(product1_pl))\n",
    "  if (product1_pl[[i]]$DisorderFlagList$DisorderFlag$Value=='1' |\n",
    "      product1_pl[[i]]$DisorderFlagList$DisorderFlag$Value=='128' |\n",
    "      product1_pl[[i]]$DisorderFlagList$DisorderFlag$Value=='512')\n",
    "  {\n",
    "    polish_active_clinical_entities[[indice_list]]=product1_pl[[i]]\n",
    "    indice_list=indice_list+1\n",
    "  }"
   ]
  },
  {
   "cell_type": "code",
   "execution_count": 47,
   "metadata": {},
   "outputs": [],
   "source": [
    "# We only want to work on disorders\n",
    "indice_list=1\n",
    "polish_disorders=list()\n",
    "for (i in 1:length(polish_active_clinical_entities))\n",
    "  for (j in 1:length(disorders))\n",
    "    if (polish_active_clinical_entities[[i]]$OrphaCode==disorders[[j]]$OrphaCode)\n",
    "    {\n",
    "      polish_disorders[[indice_list]]=polish_active_clinical_entities[[i]]\n",
    "      indice_list=indice_list+1\n",
    "    }"
   ]
  },
  {
   "cell_type": "code",
   "execution_count": 48,
   "metadata": {},
   "outputs": [],
   "source": [
    "# We look for the disorders that have a definition in their datas\n",
    "indice_list=1\n",
    "disorder_with_polish_definition=list()\n",
    "for (i in 1:length(polish_disorders))\n",
    "  if (!is.null(polish_disorders[[i]]$SummaryInformationList$SummaryInformation$\n",
    "               TextSectionList$TextSection$Contents))\n",
    "  {\n",
    "    disorder_with_polish_definition[[indice_list]]=data.frame(polish_disorders[[i]]$OrphaCode)\n",
    "    indice_list=indice_list+1\n",
    "  }"
   ]
  },
  {
   "cell_type": "code",
   "execution_count": 49,
   "metadata": {},
   "outputs": [
    {
     "data": {
      "text/html": [
       "719"
      ],
      "text/latex": [
       "719"
      ],
      "text/markdown": [
       "719"
      ],
      "text/plain": [
       "[1] 719"
      ]
     },
     "metadata": {},
     "output_type": "display_data"
    }
   ],
   "source": [
    "# Number of disorders with a definition in Polish\n",
    "number_of_disorders_with_polish_definition=length(disorder_with_polish_definition)\n",
    "number_of_disorders_with_polish_definition"
   ]
  },
  {
   "cell_type": "code",
   "execution_count": 50,
   "metadata": {},
   "outputs": [
    {
     "data": {
      "text/html": [
       "11.5464910872009"
      ],
      "text/latex": [
       "11.5464910872009"
      ],
      "text/markdown": [
       "11.5464910872009"
      ],
      "text/plain": [
       "[1] 11.54649"
      ]
     },
     "metadata": {},
     "output_type": "display_data"
    }
   ],
   "source": [
    "# Percentage of disorders with a definition in Polish\n",
    "percentage_of_disorders_with_polish_definition=number_of_disorders_with_polish_definition/number_disorders*100\n",
    "percentage_of_disorders_with_polish_definition"
   ]
  }
 ],
 "metadata": {
  "kernelspec": {
   "display_name": "R",
   "language": "R",
   "name": "ir"
  },
  "language_info": {
   "codemirror_mode": "r",
   "file_extension": ".r",
   "mimetype": "text/x-r-source",
   "name": "R",
   "pygments_lexer": "r",
   "version": "3.6.1"
  }
 },
 "nbformat": 4,
 "nbformat_minor": 4
}
